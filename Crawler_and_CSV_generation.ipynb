{
 "cells": [
  {
   "cell_type": "code",
   "execution_count": 2,
   "metadata": {
    "executionInfo": {
     "elapsed": 750,
     "status": "ok",
     "timestamp": 1603149077580,
     "user": {
      "displayName": "Kanishka Sanjay Jain",
      "photoUrl": "",
      "userId": "12863580920738780925"
     },
     "user_tz": 240
    },
    "id": "4pRyB1JksmTi"
   },
   "outputs": [],
   "source": [
    "#Imports\n",
    "import time\n",
    "import requests\n",
    "from urllib.parse import urlparse, urljoin\n",
    "from bs4 import BeautifulSoup\n",
    "# !pip install selenium\n",
    "# from selenium import webdriver\n",
    "# from selenium.webdriver.chrome.options import Options\n",
    "import os\n",
    "import urllib.request\n",
    "from urllib.request import urlopen\n",
    "import numpy as np\n",
    "import pandas as pd\n",
    "from pandas import DataFrame\n",
    "# import pyautogui\n",
    "from requests.exceptions import ConnectionError"
   ]
  },
  {
   "cell_type": "code",
   "execution_count": 3,
   "metadata": {
    "colab": {
     "base_uri": "https://localhost:8080/",
     "height": 35
    },
    "executionInfo": {
     "elapsed": 601,
     "status": "ok",
     "timestamp": 1603149077583,
     "user": {
      "displayName": "Kanishka Sanjay Jain",
      "photoUrl": "",
      "userId": "12863580920738780925"
     },
     "user_tz": 240
    },
    "id": "0Y6MVje5srzw",
    "outputId": "4aa919e0-742a-4aa5-a231-70788790ebe6"
   },
   "outputs": [],
   "source": [
    "# from google.colab import drive\n",
    "# drive.mount('/content/drive')"
   ]
  },
  {
   "cell_type": "code",
   "execution_count": 4,
   "metadata": {
    "executionInfo": {
     "elapsed": 866,
     "status": "ok",
     "timestamp": 1603149077989,
     "user": {
      "displayName": "Kanishka Sanjay Jain",
      "photoUrl": "",
      "userId": "12863580920738780925"
     },
     "user_tz": 240
    },
    "id": "RqoTSATLsmTn"
   },
   "outputs": [],
   "source": [
    "internal_urls = set()\n",
    "external_urls = set()"
   ]
  },
  {
   "cell_type": "code",
   "execution_count": 5,
   "metadata": {
    "executionInfo": {
     "elapsed": 728,
     "status": "ok",
     "timestamp": 1603149077993,
     "user": {
      "displayName": "Kanishka Sanjay Jain",
      "photoUrl": "",
      "userId": "12863580920738780925"
     },
     "user_tz": 240
    },
    "id": "cDgJGXCLsmTs"
   },
   "outputs": [],
   "source": [
    "def is_url_valid(url):\n",
    "   #Checks if the url is valid or not\n",
    "    parsedURL = urlparse(url)\n",
    "    return bool(parsedURL.netloc) and bool(parsedURL.scheme)\n",
    "\n",
    "#The above function works as follows. We check if the scheme is present and there is a value in the network location part\n",
    "# url = \"https://umd.edu/virusinfo\"\n",
    "# urlparse(url)\n",
    "# ParseResult(scheme='https', netloc='umd.edu', path='/virusinfo', \n",
    "# params='', query='', fragment='')"
   ]
  },
  {
   "cell_type": "code",
   "execution_count": 6,
   "metadata": {
    "executionInfo": {
     "elapsed": 594,
     "status": "ok",
     "timestamp": 1603149077995,
     "user": {
      "displayName": "Kanishka Sanjay Jain",
      "photoUrl": "",
      "userId": "12863580920738780925"
     },
     "user_tz": 240
    },
    "id": "uuu_-59gsmTu"
   },
   "outputs": [],
   "source": [
    "#The function gives all urls\n",
    "count = 0\n",
    "def get_all_urls(url):\n",
    "    urls = set()\n",
    "    # domain name of the URL without the protocol (umd.edu in this case)\n",
    "    domain_name = urlparse(url).netloc\n",
    "    soup = BeautifulSoup(requests.get(url).content, \"html.parser\")\n",
    "    for a_tag in soup.findAll(\"a\"):\n",
    "        href = a_tag.attrs.get(\"href\")\n",
    "        if href == \"\" or href is None:\n",
    "            #href is empty and we don't need that a element\n",
    "            continue\n",
    "        #if the link is not absolute, make it by joining relative to the base\n",
    "        href = urljoin(url, href)\n",
    "        parsed_href = urlparse(href)\n",
    "        #constructing an absolute URL from parsed data\n",
    "        href = parsed_href.scheme + \"://\" + parsed_href.netloc + parsed_href.path\n",
    "        if not is_url_valid(href):\n",
    "            #in valid url\n",
    "            continue\n",
    "        if href in internal_urls:\n",
    "            #it is already in the set, so we don't need to add\n",
    "            continue\n",
    "        if domain_name not in href:\n",
    "            #it is an external link. i.e\n",
    "            # Check if it is already there \n",
    "            if href not in external_urls:\n",
    "#                 print(f\"[EXT] External link: {href}\")\n",
    "                external_urls.add(href)\n",
    "            continue\n",
    "#         print(\".\",end=\" \")\n",
    "        global count\n",
    "        count = count+1\n",
    "        print(f\"{count}[INT] Internal link: {href}\")\n",
    "\n",
    "        urls.add(href)\n",
    "        internal_urls.add(href)\n",
    "    return urls"
   ]
  },
  {
   "cell_type": "code",
   "execution_count": 7,
   "metadata": {
    "executionInfo": {
     "elapsed": 587,
     "status": "ok",
     "timestamp": 1603149078119,
     "user": {
      "displayName": "Kanishka Sanjay Jain",
      "photoUrl": "",
      "userId": "12863580920738780925"
     },
     "user_tz": 240
    },
    "id": "1-jGZdPgsmTx"
   },
   "outputs": [],
   "source": [
    "total_urls_visited = 0\n",
    "def crawl(url, max_urls=30000):\n",
    "    #Max URL is just to decrease the time if there are a lot of pages.\n",
    "    #The following code was openly available of github and I found this\n",
    "    #idea useful to inhibit crawling time\n",
    "    global total_urls_visited\n",
    "    total_urls_visited += 1\n",
    "    try:\n",
    "        links = get_all_urls(url)\n",
    "        for link in links:\n",
    "            if total_urls_visited > max_urls:\n",
    "                break\n",
    "            crawl(link, max_urls=max_urls)\n",
    "    except Exception as e:\n",
    "        print(e)"
   ]
  },
  {
   "cell_type": "code",
   "execution_count": 8,
   "metadata": {
    "executionInfo": {
     "elapsed": 635,
     "status": "ok",
     "timestamp": 1603149078337,
     "user": {
      "displayName": "Kanishka Sanjay Jain",
      "photoUrl": "",
      "userId": "12863580920738780925"
     },
     "user_tz": 240
    },
    "id": "E2QtM55BsmT0"
   },
   "outputs": [],
   "source": [
    "#base_url = \"https://umd.edu/virusinfo\"\n",
    "#Input\n",
    "# base_url = input(\"Enter the URL : \")\n",
    "base_url = \"https://www.archanaskitchen.com/\"\n",
    "internal_urls.add(base_url)"
   ]
  },
  {
   "cell_type": "code",
   "execution_count": 9,
   "metadata": {
    "colab": {
     "base_uri": "https://localhost:8080/",
     "height": 87
    },
    "executionInfo": {
     "elapsed": 473,
     "status": "ok",
     "timestamp": 1603149078338,
     "user": {
      "displayName": "Kanishka Sanjay Jain",
      "photoUrl": "",
      "userId": "12863580920738780925"
     },
     "user_tz": 240
    },
    "id": "_2cMi9yRsmT3",
    "outputId": "9c1abaa5-6dc6-4576-8fc5-f739231026fa"
   },
   "outputs": [
    {
     "name": "stdout",
     "output_type": "stream",
     "text": [
      "ParseResult(scheme='https', netloc='www.archanaskitchen.com', path='/', params='', query='', fragment='')\n",
      "https://www.archanaskitchen.com\n",
      "www.archanaskitchen.com/\n",
      "www.archanaskitchen.com\n"
     ]
    }
   ],
   "source": [
    "parsedurl = urlparse(base_url)\n",
    "print(parsedurl)\n",
    "base_url_main = parsedurl.scheme+\"://\"+parsedurl.netloc\n",
    "print(base_url_main)\n",
    "# base_url_text = base_url.split(\"//\",1)[1]\n",
    "base_url_text = parsedurl.netloc+parsedurl.path\n",
    "print(base_url_text)\n",
    "# base_url_text_domain = base_url_text.split(\"/\",1)[0]\n",
    "base_url_text_domain = parsedurl.netloc\n",
    "print(base_url_text_domain)"
   ]
  },
  {
   "cell_type": "code",
   "execution_count": null,
   "metadata": {
    "colab": {
     "base_uri": "https://localhost:8080/",
     "height": 1000
    },
    "id": "TKi5qCoPsmT8",
    "outputId": "7f3419a7-76e4-40b1-efde-e9460b69f81d",
    "scrolled": true
   },
   "outputs": [],
   "source": [
    "crawl(base_url)\n",
    "print(\"[+] Total External links:\", len(external_urls))\n",
    "print(\"[+] Total Internal links:\", len(internal_urls))\n",
    "print(\"[+] Total:\", len(external_urls) + len(internal_urls))"
   ]
  },
  {
   "cell_type": "code",
   "execution_count": null,
   "metadata": {
    "id": "CFULK1_mxiiF"
   },
   "outputs": [],
   "source": [
    "len(internal_urls)"
   ]
  },
  {
   "cell_type": "code",
   "execution_count": 29,
   "metadata": {},
   "outputs": [
    {
     "data": {
      "text/plain": [
       "22235"
      ]
     },
     "execution_count": 29,
     "metadata": {},
     "output_type": "execute_result"
    }
   ],
   "source": [
    "setInternalUrls = set(internal_urls)\n",
    "len(setInternalUrls)"
   ]
  },
  {
   "cell_type": "code",
   "execution_count": 30,
   "metadata": {},
   "outputs": [],
   "source": [
    "df = DataFrame(internal_urls,columns=['URL'])"
   ]
  },
  {
   "cell_type": "code",
   "execution_count": 31,
   "metadata": {},
   "outputs": [
    {
     "data": {
      "text/plain": [
       "(22235, 1)"
      ]
     },
     "execution_count": 31,
     "metadata": {},
     "output_type": "execute_result"
    }
   ],
   "source": [
    "df.shape"
   ]
  },
  {
   "cell_type": "code",
   "execution_count": 32,
   "metadata": {},
   "outputs": [],
   "source": [
    "dfrecipe = df[df['URL'].str.contains('recipe')]"
   ]
  },
  {
   "cell_type": "code",
   "execution_count": 33,
   "metadata": {},
   "outputs": [
    {
     "data": {
      "text/html": [
       "<div>\n",
       "<style scoped>\n",
       "    .dataframe tbody tr th:only-of-type {\n",
       "        vertical-align: middle;\n",
       "    }\n",
       "\n",
       "    .dataframe tbody tr th {\n",
       "        vertical-align: top;\n",
       "    }\n",
       "\n",
       "    .dataframe thead th {\n",
       "        text-align: right;\n",
       "    }\n",
       "</style>\n",
       "<table border=\"1\" class=\"dataframe\">\n",
       "  <thead>\n",
       "    <tr style=\"text-align: right;\">\n",
       "      <th></th>\n",
       "      <th>URL</th>\n",
       "    </tr>\n",
       "  </thead>\n",
       "  <tbody>\n",
       "    <tr>\n",
       "      <th>0</th>\n",
       "      <td>https://www.archanaskitchen.com/masala-karela-...</td>\n",
       "    </tr>\n",
       "    <tr>\n",
       "      <th>1</th>\n",
       "      <td>http://www.archanaskitchen.com/spicy-tomato-ri...</td>\n",
       "    </tr>\n",
       "    <tr>\n",
       "      <th>3</th>\n",
       "      <td>http://www.archanaskitchen.com/ragi-vermicelli...</td>\n",
       "    </tr>\n",
       "    <tr>\n",
       "      <th>4</th>\n",
       "      <td>http://www.archanaskitchen.com/tag/kids-lunch-...</td>\n",
       "    </tr>\n",
       "    <tr>\n",
       "      <th>5</th>\n",
       "      <td>http://www.archanaskitchen.com/gongura-chicken...</td>\n",
       "    </tr>\n",
       "    <tr>\n",
       "      <th>...</th>\n",
       "      <td>...</td>\n",
       "    </tr>\n",
       "    <tr>\n",
       "      <th>22226</th>\n",
       "      <td>https://www.archanaskitchen.com/kerala-cheriya...</td>\n",
       "    </tr>\n",
       "    <tr>\n",
       "      <th>22227</th>\n",
       "      <td>http://www.archanaskitchen.com/pav-bhaji-flavo...</td>\n",
       "    </tr>\n",
       "    <tr>\n",
       "      <th>22230</th>\n",
       "      <td>https://www.archanaskitchen.com/tag/chilli-rec...</td>\n",
       "    </tr>\n",
       "    <tr>\n",
       "      <th>22231</th>\n",
       "      <td>https://www.archanaskitchen.com/keerai-masiyal...</td>\n",
       "    </tr>\n",
       "    <tr>\n",
       "      <th>22234</th>\n",
       "      <td>http://www.archanaskitchen.com/tag/pulihora-re...</td>\n",
       "    </tr>\n",
       "  </tbody>\n",
       "</table>\n",
       "<p>16105 rows × 1 columns</p>\n",
       "</div>"
      ],
      "text/plain": [
       "                                                     URL\n",
       "0      https://www.archanaskitchen.com/masala-karela-...\n",
       "1      http://www.archanaskitchen.com/spicy-tomato-ri...\n",
       "3      http://www.archanaskitchen.com/ragi-vermicelli...\n",
       "4      http://www.archanaskitchen.com/tag/kids-lunch-...\n",
       "5      http://www.archanaskitchen.com/gongura-chicken...\n",
       "...                                                  ...\n",
       "22226  https://www.archanaskitchen.com/kerala-cheriya...\n",
       "22227  http://www.archanaskitchen.com/pav-bhaji-flavo...\n",
       "22230  https://www.archanaskitchen.com/tag/chilli-rec...\n",
       "22231  https://www.archanaskitchen.com/keerai-masiyal...\n",
       "22234  http://www.archanaskitchen.com/tag/pulihora-re...\n",
       "\n",
       "[16105 rows x 1 columns]"
      ]
     },
     "execution_count": 33,
     "metadata": {},
     "output_type": "execute_result"
    }
   ],
   "source": [
    "dfrecipe"
   ]
  },
  {
   "cell_type": "code",
   "execution_count": 34,
   "metadata": {},
   "outputs": [],
   "source": [
    "dfrecipe.to_csv('urls_recipe10k.csv')"
   ]
  },
  {
   "cell_type": "code",
   "execution_count": null,
   "metadata": {
    "id": "aaVd0L0wsmUL"
   },
   "outputs": [],
   "source": []
  }
 ],
 "metadata": {
  "colab": {
   "collapsed_sections": [],
   "name": "FoodDataset.ipynb",
   "provenance": []
  },
  "kernelspec": {
   "display_name": "Python 3",
   "language": "python",
   "name": "python3"
  },
  "language_info": {
   "codemirror_mode": {
    "name": "ipython",
    "version": 3
   },
   "file_extension": ".py",
   "mimetype": "text/x-python",
   "name": "python",
   "nbconvert_exporter": "python",
   "pygments_lexer": "ipython3",
   "version": "3.7.9"
  }
 },
 "nbformat": 4,
 "nbformat_minor": 1
}
