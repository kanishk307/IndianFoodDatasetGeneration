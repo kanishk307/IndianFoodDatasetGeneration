{
 "cells": [
  {
   "cell_type": "code",
   "execution_count": 1,
   "metadata": {},
   "outputs": [],
   "source": [
    "import pandas as pd\n",
    "import numpy as np\n",
    "from pandas import DataFrame"
   ]
  },
  {
   "cell_type": "code",
   "execution_count": 2,
   "metadata": {},
   "outputs": [],
   "source": [
    "recipe_url = pd.read_csv('urls_recipe4k.csv')"
   ]
  },
  {
   "cell_type": "code",
   "execution_count": 7,
   "metadata": {},
   "outputs": [],
   "source": [
    "recipe_urls = recipe_url['URL']"
   ]
  },
  {
   "cell_type": "code",
   "execution_count": 11,
   "metadata": {},
   "outputs": [
    {
     "data": {
      "text/plain": [
       "0       http://www.archanaskitchen.com/mango-ladoo-recipe\n",
       "1       http://www.archanaskitchen.com/garlic-ginger-s...\n",
       "2       https://www.archanaskitchen.com/onion-tomato-d...\n",
       "3       https://www.archanaskitchen.com/vegetable-rice...\n",
       "4       https://www.archanaskitchen.com/pineapple-and-...\n",
       "                              ...                        \n",
       "8662    http://www.archanaskitchen.com/churma-ladoo-re...\n",
       "8663    https://www.archanaskitchen.com/chichinda-ki-s...\n",
       "8664    https://www.archanaskitchen.com/kadai-mushroom...\n",
       "8665    http://www.archanaskitchen.com/bottle-gourd-pe...\n",
       "8666    https://www.archanaskitchen.com/palak-kichdi-r...\n",
       "Name: URL, Length: 8667, dtype: object"
      ]
     },
     "execution_count": 11,
     "metadata": {},
     "output_type": "execute_result"
    }
   ],
   "source": [
    "recipe_urls"
   ]
  },
  {
   "cell_type": "code",
   "execution_count": null,
   "metadata": {},
   "outputs": [],
   "source": []
  }
 ],
 "metadata": {
  "kernelspec": {
   "display_name": "Python 3.7 (tensorflow)",
   "language": "python",
   "name": "tensorflow"
  },
  "language_info": {
   "codemirror_mode": {
    "name": "ipython",
    "version": 3
   },
   "file_extension": ".py",
   "mimetype": "text/x-python",
   "name": "python",
   "nbconvert_exporter": "python",
   "pygments_lexer": "ipython3",
   "version": "3.7.9"
  }
 },
 "nbformat": 4,
 "nbformat_minor": 4
}
