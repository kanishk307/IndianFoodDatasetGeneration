{
 "cells": [
  {
   "cell_type": "code",
   "execution_count": null,
   "metadata": {},
   "outputs": [],
   "source": [
    "from googletrans import Translator\n",
    "import pandas as pd\n",
    "import numpy as np\n",
    "from pandas import *\n",
    "from IPython.display import clear_output"
   ]
  },
  {
   "cell_type": "code",
   "execution_count": null,
   "metadata": {},
   "outputs": [],
   "source": [
    "#ReadFile\n",
    "df2 = pd.read_csv('/content/drive/My Drive/Projects/FoodDataset/makedata11.csv',names=[\"RecipeName\",\"Ingredients\", \"PrepTimeInMins\", \"CookTimeInMins\",\"TotalTimeInMins\",\"Servings\",\"Cuisine\",\"Course\",\"Diet\",\"Instructions\"],index_col=False)"
   ]
  },
  {
   "cell_type": "code",
   "execution_count": null,
   "metadata": {},
   "outputs": [],
   "source": [
    "translator = Translator()"
   ]
  },
  {
   "cell_type": "code",
   "execution_count": null,
   "metadata": {},
   "outputs": [],
   "source": [
    "df = df2.copy()"
   ]
  },
  {
   "cell_type": "code",
   "execution_count": null,
   "metadata": {},
   "outputs": [],
   "source": [
    "#Translation Function\n",
    "def translate_df_column(df,column_name,count):\n",
    "  total = len(df)\n",
    "  \n",
    "  translated_list = []\n",
    "  for item in df[column_name]:\n",
    "    count = count+1\n",
    "    # print(f'{count} of {total}')\n",
    "    clear_output(wait=True)\n",
    "    try:\n",
    "      item = translator.translate(item)\n",
    "      translated_item = item.text\n",
    "      translated_list.append(translated_item)\n",
    "    except Exception as e:\n",
    "      print(e)\n",
    "    print(\"Current Progress:\",np.round((count/total)*100,3),\"%\")\n",
    "  return translated_list"
   ]
  },
  {
   "cell_type": "code",
   "execution_count": null,
   "metadata": {},
   "outputs": [],
   "source": [
    "count_nan = len(df) - df.count()\n",
    "count_nan"
   ]
  },
  {
   "cell_type": "code",
   "execution_count": null,
   "metadata": {},
   "outputs": [],
   "source": [
    "translated_recipename = translate_df_column(df,\"RecipeName\",0)\n",
    "df[\"TranslatedRecipeName\"] = pd.Series(translated_recipename)"
   ]
  },
  {
   "cell_type": "code",
   "execution_count": null,
   "metadata": {},
   "outputs": [],
   "source": [
    "translated_ingredients = translate_df_column(df,\"Ingredients\",count=0)\n",
    "df[\"TranslatedIngredients\"] = pd.Series(translated_ingredients)"
   ]
  },
  {
   "cell_type": "code",
   "execution_count": null,
   "metadata": {},
   "outputs": [],
   "source": [
    "translated_instructions = translate_df_column(df,\"Instructions\",count=0)\n",
    "df[\"TranslatedInstructions\"] = pd.Series(translated_instructions)"
   ]
  },
  {
   "cell_type": "code",
   "execution_count": null,
   "metadata": {},
   "outputs": [],
   "source": [
    "cols = df.columns.tolist()\n",
    "cols"
   ]
  },
  {
   "cell_type": "code",
   "execution_count": null,
   "metadata": {},
   "outputs": [],
   "source": [
    "neworder = ['RecipeName',\n",
    "            'TranslatedRecipeName',\n",
    " 'Ingredients',\n",
    "  'TranslatedIngredients',\n",
    " 'PrepTimeInMins',\n",
    " 'CookTimeInMins',\n",
    " 'TotalTimeInMins',\n",
    " 'Servings',\n",
    " 'Cuisine',\n",
    " 'Course',\n",
    " 'Diet',\n",
    " 'Instructions',\n",
    " 'TranslatedInstructions']"
   ]
  },
  {
   "cell_type": "code",
   "execution_count": null,
   "metadata": {},
   "outputs": [],
   "source": [
    "df = df[neworder]"
   ]
  },
  {
   "cell_type": "code",
   "execution_count": null,
   "metadata": {},
   "outputs": [],
   "source": [
    "df.to_csv('/content/drive/My Drive/Projects/FoodDataset/IndianFoodDataset.csv')"
   ]
  },
  {
   "cell_type": "code",
   "execution_count": null,
   "metadata": {},
   "outputs": [],
   "source": []
  }
 ],
 "metadata": {
  "kernelspec": {
   "display_name": "Python 3.7 (tensorflow)",
   "language": "python",
   "name": "tensorflow"
  },
  "language_info": {
   "codemirror_mode": {
    "name": "ipython",
    "version": 3
   },
   "file_extension": ".py",
   "mimetype": "text/x-python",
   "name": "python",
   "nbconvert_exporter": "python",
   "pygments_lexer": "ipython3",
   "version": "3.7.9"
  }
 },
 "nbformat": 4,
 "nbformat_minor": 4
}
