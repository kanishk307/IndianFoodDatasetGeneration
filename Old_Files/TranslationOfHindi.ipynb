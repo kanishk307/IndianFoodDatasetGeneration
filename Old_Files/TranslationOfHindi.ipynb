{
 "cells": [
  {
   "cell_type": "code",
   "execution_count": 1,
   "metadata": {
    "colab": {
     "base_uri": "https://localhost:8080/",
     "height": 289
    },
    "executionInfo": {
     "elapsed": 2894,
     "status": "ok",
     "timestamp": 1603338909868,
     "user": {
      "displayName": "Kanishka Sanjay Jain",
      "photoUrl": "",
      "userId": "12863580920738780925"
     },
     "user_tz": 240
    },
    "id": "IQEWs8OrK7g9",
    "outputId": "ec91a891-02ee-4a91-d85a-2b3b3ca18bed"
   },
   "outputs": [
    {
     "name": "stdout",
     "output_type": "stream",
     "text": [
      "Requirement already satisfied: googletrans in /usr/local/lib/python3.6/dist-packages (3.0.0)\n",
      "Requirement already satisfied: httpx==0.13.3 in /usr/local/lib/python3.6/dist-packages (from googletrans) (0.13.3)\n",
      "Requirement already satisfied: httpcore==0.9.* in /usr/local/lib/python3.6/dist-packages (from httpx==0.13.3->googletrans) (0.9.1)\n",
      "Requirement already satisfied: idna==2.* in /usr/local/lib/python3.6/dist-packages (from httpx==0.13.3->googletrans) (2.10)\n",
      "Requirement already satisfied: sniffio in /usr/local/lib/python3.6/dist-packages (from httpx==0.13.3->googletrans) (1.2.0)\n",
      "Requirement already satisfied: certifi in /usr/local/lib/python3.6/dist-packages (from httpx==0.13.3->googletrans) (2020.6.20)\n",
      "Requirement already satisfied: hstspreload in /usr/local/lib/python3.6/dist-packages (from httpx==0.13.3->googletrans) (2020.10.20)\n",
      "Requirement already satisfied: chardet==3.* in /usr/local/lib/python3.6/dist-packages (from httpx==0.13.3->googletrans) (3.0.4)\n",
      "Requirement already satisfied: rfc3986<2,>=1.3 in /usr/local/lib/python3.6/dist-packages (from httpx==0.13.3->googletrans) (1.4.0)\n",
      "Requirement already satisfied: h11<0.10,>=0.8 in /usr/local/lib/python3.6/dist-packages (from httpcore==0.9.*->httpx==0.13.3->googletrans) (0.9.0)\n",
      "Requirement already satisfied: h2==3.* in /usr/local/lib/python3.6/dist-packages (from httpcore==0.9.*->httpx==0.13.3->googletrans) (3.2.0)\n",
      "Requirement already satisfied: contextvars>=2.1; python_version < \"3.7\" in /usr/local/lib/python3.6/dist-packages (from sniffio->httpx==0.13.3->googletrans) (2.4)\n",
      "Requirement already satisfied: hpack<4,>=3.0 in /usr/local/lib/python3.6/dist-packages (from h2==3.*->httpcore==0.9.*->httpx==0.13.3->googletrans) (3.0.0)\n",
      "Requirement already satisfied: hyperframe<6,>=5.2.0 in /usr/local/lib/python3.6/dist-packages (from h2==3.*->httpcore==0.9.*->httpx==0.13.3->googletrans) (5.2.0)\n",
      "Requirement already satisfied: immutables>=0.9 in /usr/local/lib/python3.6/dist-packages (from contextvars>=2.1; python_version < \"3.7\"->sniffio->httpx==0.13.3->googletrans) (0.14)\n"
     ]
    }
   ],
   "source": [
    "!pip install googletrans"
   ]
  },
  {
   "cell_type": "code",
   "execution_count": 30,
   "metadata": {
    "executionInfo": {
     "elapsed": 569,
     "status": "ok",
     "timestamp": 1603347052014,
     "user": {
      "displayName": "Kanishka Sanjay Jain",
      "photoUrl": "",
      "userId": "12863580920738780925"
     },
     "user_tz": 240
    },
    "id": "q2RoJDYmLTT9"
   },
   "outputs": [],
   "source": [
    "from googletrans import Translator\n",
    "import pandas as pd\n",
    "import numpy as np\n",
    "from pandas import *\n",
    "from IPython.display import clear_output"
   ]
  },
  {
   "cell_type": "code",
   "execution_count": 3,
   "metadata": {
    "executionInfo": {
     "elapsed": 751,
     "status": "ok",
     "timestamp": 1603338914116,
     "user": {
      "displayName": "Kanishka Sanjay Jain",
      "photoUrl": "",
      "userId": "12863580920738780925"
     },
     "user_tz": 240
    },
    "id": "4LpIOuiGLX2g"
   },
   "outputs": [],
   "source": [
    "df2 = pd.read_csv('/content/drive/My Drive/Projects/FoodDataset/makedata11.csv',names=[\"RecipeName\",\"Ingredients\", \"PrepTimeInMins\", \"CookTimeInMins\",\"TotalTimeInMins\",\"Servings\",\"Cuisine\",\"Course\",\"Diet\",\"Instructions\"],index_col=False)"
   ]
  },
  {
   "cell_type": "code",
   "execution_count": 4,
   "metadata": {
    "colab": {
     "base_uri": "https://localhost:8080/",
     "height": 889
    },
    "executionInfo": {
     "elapsed": 486,
     "status": "ok",
     "timestamp": 1603338915016,
     "user": {
      "displayName": "Kanishka Sanjay Jain",
      "photoUrl": "",
      "userId": "12863580920738780925"
     },
     "user_tz": 240
    },
    "id": "ffDRvl_0LrCk",
    "outputId": "1e3a200d-68e3-4c74-e3c7-26c6ead4b646"
   },
   "outputs": [
    {
     "data": {
      "text/html": [
       "<div>\n",
       "<style scoped>\n",
       "    .dataframe tbody tr th:only-of-type {\n",
       "        vertical-align: middle;\n",
       "    }\n",
       "\n",
       "    .dataframe tbody tr th {\n",
       "        vertical-align: top;\n",
       "    }\n",
       "\n",
       "    .dataframe thead th {\n",
       "        text-align: right;\n",
       "    }\n",
       "</style>\n",
       "<table border=\"1\" class=\"dataframe\">\n",
       "  <thead>\n",
       "    <tr style=\"text-align: right;\">\n",
       "      <th></th>\n",
       "      <th>RecipeName</th>\n",
       "      <th>Ingredients</th>\n",
       "      <th>PrepTimeInMins</th>\n",
       "      <th>CookTimeInMins</th>\n",
       "      <th>TotalTimeInMins</th>\n",
       "      <th>Servings</th>\n",
       "      <th>Cuisine</th>\n",
       "      <th>Course</th>\n",
       "      <th>Diet</th>\n",
       "      <th>Instructions</th>\n",
       "    </tr>\n",
       "  </thead>\n",
       "  <tbody>\n",
       "    <tr>\n",
       "      <th>0</th>\n",
       "      <td>Masala Karela Recipe</td>\n",
       "      <td>,6 Karela (Bitter Gourd/ Pavakkai) , deseeded,...</td>\n",
       "      <td>15</td>\n",
       "      <td>30</td>\n",
       "      <td>45</td>\n",
       "      <td>6</td>\n",
       "      <td>Indian</td>\n",
       "      <td>Side Dish</td>\n",
       "      <td>Diabetic Friendly</td>\n",
       "      <td>To begin making the Masala Karela Recipe,de-se...</td>\n",
       "    </tr>\n",
       "    <tr>\n",
       "      <th>1</th>\n",
       "      <td>टमाटर पुलियोगरे रेसिपी - Spicy Tomato Rice (Re...</td>\n",
       "      <td>,2-1/2 कप चावल , पका ले,3 टमाटर,3 छोटा चमच्च ब...</td>\n",
       "      <td>5</td>\n",
       "      <td>10</td>\n",
       "      <td>15</td>\n",
       "      <td>3</td>\n",
       "      <td>South Indian Recipes</td>\n",
       "      <td>Main Course</td>\n",
       "      <td>Vegetarian</td>\n",
       "      <td>टमाटर पुलियोगरे बनाने के लिए सबसे पहले टमाटर क...</td>\n",
       "    </tr>\n",
       "    <tr>\n",
       "      <th>2</th>\n",
       "      <td>Ragi Semiya Upma Recipe - Ragi Millet Vermicel...</td>\n",
       "      <td>,1-1/2 cups Rice Vermicelli Noodles (Thin),1 O...</td>\n",
       "      <td>20</td>\n",
       "      <td>30</td>\n",
       "      <td>50</td>\n",
       "      <td>4</td>\n",
       "      <td>South Indian Recipes</td>\n",
       "      <td>South Indian Breakfast</td>\n",
       "      <td>High Protein Vegetarian</td>\n",
       "      <td>To begin making the Ragi Vermicelli Recipe, fi...</td>\n",
       "    </tr>\n",
       "    <tr>\n",
       "      <th>3</th>\n",
       "      <td>Gongura Chicken Curry Recipe - Andhra Style Go...</td>\n",
       "      <td>,500 grams Chicken,2 Onion , chopped,1 Tomato ...</td>\n",
       "      <td>15</td>\n",
       "      <td>30</td>\n",
       "      <td>45</td>\n",
       "      <td>4</td>\n",
       "      <td>Andhra</td>\n",
       "      <td>Lunch</td>\n",
       "      <td>Non Vegeterian</td>\n",
       "      <td>To begin making Gongura Chicken Curry Recipe f...</td>\n",
       "    </tr>\n",
       "    <tr>\n",
       "      <th>4</th>\n",
       "      <td>आंध्रा स्टाइल आलम पचड़ी रेसिपी - Adrak Chutney ...</td>\n",
       "      <td>,1 बड़ा चमच्च चना दाल,1 बड़ा चमच्च सफ़ेद उरद दाल,...</td>\n",
       "      <td>10</td>\n",
       "      <td>20</td>\n",
       "      <td>30</td>\n",
       "      <td>4</td>\n",
       "      <td>Andhra</td>\n",
       "      <td>South Indian Breakfast</td>\n",
       "      <td>Vegetarian</td>\n",
       "      <td>आंध्रा स्टाइल आलम पचड़ी बनाने के लिए सबसे पहले ...</td>\n",
       "    </tr>\n",
       "    <tr>\n",
       "      <th>...</th>\n",
       "      <td>...</td>\n",
       "      <td>...</td>\n",
       "      <td>...</td>\n",
       "      <td>...</td>\n",
       "      <td>...</td>\n",
       "      <td>...</td>\n",
       "      <td>...</td>\n",
       "      <td>...</td>\n",
       "      <td>...</td>\n",
       "      <td>...</td>\n",
       "    </tr>\n",
       "    <tr>\n",
       "      <th>14225</th>\n",
       "      <td>Kashmiri Style Kokur Yakhni Recipe-Chicken Coo...</td>\n",
       "      <td>,1 kg Chicken , medium pieces,1/2 cup Mustard ...</td>\n",
       "      <td>30</td>\n",
       "      <td>45</td>\n",
       "      <td>75</td>\n",
       "      <td>4</td>\n",
       "      <td>Kashmiri</td>\n",
       "      <td>Lunch</td>\n",
       "      <td>Non Vegeterian</td>\n",
       "      <td>To begin making the Kashmiri Kokur Yakhni reci...</td>\n",
       "    </tr>\n",
       "    <tr>\n",
       "      <th>14226</th>\n",
       "      <td>Shimla Mirchi Panchamrut Recipe | Konkani Caps...</td>\n",
       "      <td>,2 Green Bell Pepper (Capsicum) , diced small,...</td>\n",
       "      <td>20</td>\n",
       "      <td>20</td>\n",
       "      <td>40</td>\n",
       "      <td>4</td>\n",
       "      <td>Konkan</td>\n",
       "      <td>Main Course</td>\n",
       "      <td>Vegetarian</td>\n",
       "      <td>To begin making Shimla Mirchi Panchamrut Recip...</td>\n",
       "    </tr>\n",
       "    <tr>\n",
       "      <th>14227</th>\n",
       "      <td>Kerala Cheriya Ulli Sambar Recipe</td>\n",
       "      <td>,1/2 cup Arhar dal (Split Toor Dal) , soaked f...</td>\n",
       "      <td>10</td>\n",
       "      <td>30</td>\n",
       "      <td>40</td>\n",
       "      <td>2</td>\n",
       "      <td>Karnataka</td>\n",
       "      <td>Lunch</td>\n",
       "      <td>High Protein Vegetarian</td>\n",
       "      <td>To start making Kerala Cheriya Ulli Sambar, in...</td>\n",
       "    </tr>\n",
       "    <tr>\n",
       "      <th>14228</th>\n",
       "      <td>Pav Bhaji Flavored Pasta Recipe-Fusion Fusilli...</td>\n",
       "      <td>,2 cup Pasta  Fusilli , cooked as per instruct...</td>\n",
       "      <td>15</td>\n",
       "      <td>20</td>\n",
       "      <td>35</td>\n",
       "      <td>2</td>\n",
       "      <td>Fusion</td>\n",
       "      <td>Main Course</td>\n",
       "      <td>Vegetarian</td>\n",
       "      <td>To begin making Pav Bhaji Flavored Pasta Recip...</td>\n",
       "    </tr>\n",
       "    <tr>\n",
       "      <th>14229</th>\n",
       "      <td>Keerai Masiyal Recipe (Stir Fried Green with M...</td>\n",
       "      <td>,500 grams Greens , finely chopped (like spina...</td>\n",
       "      <td>15</td>\n",
       "      <td>20</td>\n",
       "      <td>35</td>\n",
       "      <td>4</td>\n",
       "      <td>South Indian Recipes</td>\n",
       "      <td>Side Dish</td>\n",
       "      <td>High Protein Vegetarian</td>\n",
       "      <td>To begin making the Keerai Masiyal Recipe, we ...</td>\n",
       "    </tr>\n",
       "  </tbody>\n",
       "</table>\n",
       "<p>14230 rows × 10 columns</p>\n",
       "</div>"
      ],
      "text/plain": [
       "                                              RecipeName  ...                                       Instructions\n",
       "0                                   Masala Karela Recipe  ...  To begin making the Masala Karela Recipe,de-se...\n",
       "1      टमाटर पुलियोगरे रेसिपी - Spicy Tomato Rice (Re...  ...  टमाटर पुलियोगरे बनाने के लिए सबसे पहले टमाटर क...\n",
       "2      Ragi Semiya Upma Recipe - Ragi Millet Vermicel...  ...  To begin making the Ragi Vermicelli Recipe, fi...\n",
       "3      Gongura Chicken Curry Recipe - Andhra Style Go...  ...  To begin making Gongura Chicken Curry Recipe f...\n",
       "4      आंध्रा स्टाइल आलम पचड़ी रेसिपी - Adrak Chutney ...  ...  आंध्रा स्टाइल आलम पचड़ी बनाने के लिए सबसे पहले ...\n",
       "...                                                  ...  ...                                                ...\n",
       "14225  Kashmiri Style Kokur Yakhni Recipe-Chicken Coo...  ...  To begin making the Kashmiri Kokur Yakhni reci...\n",
       "14226  Shimla Mirchi Panchamrut Recipe | Konkani Caps...  ...  To begin making Shimla Mirchi Panchamrut Recip...\n",
       "14227                  Kerala Cheriya Ulli Sambar Recipe  ...  To start making Kerala Cheriya Ulli Sambar, in...\n",
       "14228  Pav Bhaji Flavored Pasta Recipe-Fusion Fusilli...  ...  To begin making Pav Bhaji Flavored Pasta Recip...\n",
       "14229  Keerai Masiyal Recipe (Stir Fried Green with M...  ...  To begin making the Keerai Masiyal Recipe, we ...\n",
       "\n",
       "[14230 rows x 10 columns]"
      ]
     },
     "execution_count": 4,
     "metadata": {
      "tags": []
     },
     "output_type": "execute_result"
    }
   ],
   "source": [
    "df2"
   ]
  },
  {
   "cell_type": "code",
   "execution_count": 5,
   "metadata": {
    "executionInfo": {
     "elapsed": 563,
     "status": "ok",
     "timestamp": 1603338916214,
     "user": {
      "displayName": "Kanishka Sanjay Jain",
      "photoUrl": "",
      "userId": "12863580920738780925"
     },
     "user_tz": 240
    },
    "id": "cj30ZgLTLrX9"
   },
   "outputs": [],
   "source": [
    "translator = Translator()"
   ]
  },
  {
   "cell_type": "code",
   "execution_count": 7,
   "metadata": {
    "executionInfo": {
     "elapsed": 529,
     "status": "ok",
     "timestamp": 1603338921302,
     "user": {
      "displayName": "Kanishka Sanjay Jain",
      "photoUrl": "",
      "userId": "12863580920738780925"
     },
     "user_tz": 240
    },
    "id": "TacMVUAfPGCy"
   },
   "outputs": [],
   "source": [
    "df = df2.copy()"
   ]
  },
  {
   "cell_type": "code",
   "execution_count": 8,
   "metadata": {
    "colab": {
     "base_uri": "https://localhost:8080/",
     "height": 34
    },
    "executionInfo": {
     "elapsed": 599,
     "status": "ok",
     "timestamp": 1603338925227,
     "user": {
      "displayName": "Kanishka Sanjay Jain",
      "photoUrl": "",
      "userId": "12863580920738780925"
     },
     "user_tz": 240
    },
    "id": "UefCDNt9cmLu",
    "outputId": "ecaff34e-9acb-4c89-a24b-5691af59add0"
   },
   "outputs": [
    {
     "data": {
      "text/plain": [
       "(14230, 10)"
      ]
     },
     "execution_count": 8,
     "metadata": {
      "tags": []
     },
     "output_type": "execute_result"
    }
   ],
   "source": [
    "df.shape"
   ]
  },
  {
   "cell_type": "code",
   "execution_count": 36,
   "metadata": {
    "executionInfo": {
     "elapsed": 546,
     "status": "ok",
     "timestamp": 1603347309207,
     "user": {
      "displayName": "Kanishka Sanjay Jain",
      "photoUrl": "",
      "userId": "12863580920738780925"
     },
     "user_tz": 240
    },
    "id": "36-JNgwlONK9"
   },
   "outputs": [],
   "source": [
    "def translate_df_column(df,column_name,count):\n",
    "  total = len(df)\n",
    "  \n",
    "  translated_list = []\n",
    "  for item in df[column_name]:\n",
    "    count = count+1\n",
    "    # print(f'{count} of {total}')\n",
    "    clear_output(wait=True)\n",
    "    try:\n",
    "      item = translator.translate(item)\n",
    "      translated_item = item.text\n",
    "      translated_list.append(translated_item)\n",
    "    except Exception as e:\n",
    "      print(e)\n",
    "    print(\"Current Progress:\",np.round((count/total)*100,3),\"%\")\n",
    "  return translated_list"
   ]
  },
  {
   "cell_type": "code",
   "execution_count": 38,
   "metadata": {
    "colab": {
     "base_uri": "https://localhost:8080/",
     "height": 35
    },
    "executionInfo": {
     "elapsed": 819,
     "status": "ok",
     "timestamp": 1603347324606,
     "user": {
      "displayName": "Kanishka Sanjay Jain",
      "photoUrl": "",
      "userId": "12863580920738780925"
     },
     "user_tz": 240
    },
    "id": "K_AlSTaZ8meS",
    "outputId": "4bb95081-0dad-4072-8c7a-e8e4c8be0eeb"
   },
   "outputs": [
    {
     "data": {
      "application/vnd.google.colaboratory.intrinsic+json": {
       "type": "string"
      },
      "text/plain": [
       "'Tomato Puliogere Recipe'"
      ]
     },
     "execution_count": 38,
     "metadata": {
      "tags": []
     },
     "output_type": "execute_result"
    }
   ],
   "source": []
  },
  {
   "cell_type": "code",
   "execution_count": null,
   "metadata": {
    "id": "bs1Bv5Ci8mAA"
   },
   "outputs": [],
   "source": []
  },
  {
   "cell_type": "code",
   "execution_count": 39,
   "metadata": {
    "executionInfo": {
     "elapsed": 607,
     "status": "ok",
     "timestamp": 1603347343119,
     "user": {
      "displayName": "Kanishka Sanjay Jain",
      "photoUrl": "",
      "userId": "12863580920738780925"
     },
     "user_tz": 240
    },
    "id": "VO9upN6UPRrn"
   },
   "outputs": [],
   "source": [
    "# def add_to_df(df,column_name,list1):\n",
    "#   df[column_name]=list1\n",
    "#   print(f\"Added {column_name}\")"
   ]
  },
  {
   "cell_type": "code",
   "execution_count": 39,
   "metadata": {
    "executionInfo": {
     "elapsed": 453,
     "status": "ok",
     "timestamp": 1603347343120,
     "user": {
      "displayName": "Kanishka Sanjay Jain",
      "photoUrl": "",
      "userId": "12863580920738780925"
     },
     "user_tz": 240
    },
    "id": "d93L3Z2E8uR6"
   },
   "outputs": [],
   "source": []
  },
  {
   "cell_type": "code",
   "execution_count": 51,
   "metadata": {
    "executionInfo": {
     "elapsed": 580,
     "status": "ok",
     "timestamp": 1603347743377,
     "user": {
      "displayName": "Kanishka Sanjay Jain",
      "photoUrl": "",
      "userId": "12863580920738780925"
     },
     "user_tz": 240
    },
    "id": "lOaJZqRF8uUW"
   },
   "outputs": [],
   "source": []
  },
  {
   "cell_type": "code",
   "execution_count": 49,
   "metadata": {
    "executionInfo": {
     "elapsed": 753,
     "status": "ok",
     "timestamp": 1603347664396,
     "user": {
      "displayName": "Kanishka Sanjay Jain",
      "photoUrl": "",
      "userId": "12863580920738780925"
     },
     "user_tz": 240
    },
    "id": "nQkHYT6182Ha"
   },
   "outputs": [],
   "source": []
  },
  {
   "cell_type": "code",
   "execution_count": 50,
   "metadata": {
    "colab": {
     "base_uri": "https://localhost:8080/",
     "height": 218
    },
    "executionInfo": {
     "elapsed": 585,
     "status": "ok",
     "timestamp": 1603347672811,
     "user": {
      "displayName": "Kanishka Sanjay Jain",
      "photoUrl": "",
      "userId": "12863580920738780925"
     },
     "user_tz": 240
    },
    "id": "CHe8GW_E98rQ",
    "outputId": "b57a4439-a734-40d0-d221-7c12e0997a08"
   },
   "outputs": [
    {
     "data": {
      "text/plain": [
       "RecipeName                0\n",
       "Ingredients              12\n",
       "PrepTimeInMins            0\n",
       "CookTimeInMins            0\n",
       "TotalTimeInMins           0\n",
       "Servings                  0\n",
       "Cuisine                   0\n",
       "Course                    0\n",
       "Diet                      0\n",
       "Instructions              0\n",
       "TranslatedIngredients    12\n",
       "dtype: int64"
      ]
     },
     "execution_count": 50,
     "metadata": {
      "tags": []
     },
     "output_type": "execute_result"
    }
   ],
   "source": [
    "count_nan = len(df) - df.count()\n",
    "count_nan"
   ]
  },
  {
   "cell_type": "code",
   "execution_count": 52,
   "metadata": {
    "executionInfo": {
     "elapsed": 588,
     "status": "ok",
     "timestamp": 1603347756225,
     "user": {
      "displayName": "Kanishka Sanjay Jain",
      "photoUrl": "",
      "userId": "12863580920738780925"
     },
     "user_tz": 240
    },
    "id": "kfe_8Exg9BVS"
   },
   "outputs": [],
   "source": [
    "# df = df.drop('TranslatedRecipeName',1)"
   ]
  },
  {
   "cell_type": "code",
   "execution_count": 53,
   "metadata": {
    "colab": {
     "base_uri": "https://localhost:8080/",
     "height": 34
    },
    "executionInfo": {
     "elapsed": 3263627,
     "status": "ok",
     "timestamp": 1603351036959,
     "user": {
      "displayName": "Kanishka Sanjay Jain",
      "photoUrl": "",
      "userId": "12863580920738780925"
     },
     "user_tz": 240
    },
    "id": "7jtuI2ffO48x",
    "outputId": "c68305a5-f082-4263-e917-89de445ac775"
   },
   "outputs": [
    {
     "name": "stdout",
     "output_type": "stream",
     "text": [
      "Current Progress: 100.0 %\n"
     ]
    }
   ],
   "source": [
    "translated_recipename = translate_df_column(df,\"RecipeName\",0)\n"
   ]
  },
  {
   "cell_type": "code",
   "execution_count": null,
   "metadata": {
    "id": "Vn5_JWLw-XdN"
   },
   "outputs": [],
   "source": [
    "# df[\"TranslatedRecipeName\"] = translated_recipename\n",
    "# df[\"TranslatedRecipeName\"] = pd.Series(translated_recipename)"
   ]
  },
  {
   "cell_type": "code",
   "execution_count": 54,
   "metadata": {
    "executionInfo": {
     "elapsed": 600,
     "status": "ok",
     "timestamp": 1603351293621,
     "user": {
      "displayName": "Kanishka Sanjay Jain",
      "photoUrl": "",
      "userId": "12863580920738780925"
     },
     "user_tz": 240
    },
    "id": "8nkckwUbZdbt"
   },
   "outputs": [],
   "source": [
    "df[\"TranslatedRecipeName\"] = pd.Series(translated_recipename)"
   ]
  },
  {
   "cell_type": "code",
   "execution_count": null,
   "metadata": {
    "id": "kMkjAY2ALyvu"
   },
   "outputs": [],
   "source": []
  },
  {
   "cell_type": "code",
   "execution_count": 27,
   "metadata": {
    "colab": {
     "base_uri": "https://localhost:8080/",
     "height": 34
    },
    "executionInfo": {
     "elapsed": 3279206,
     "status": "ok",
     "timestamp": 1603346437137,
     "user": {
      "displayName": "Kanishka Sanjay Jain",
      "photoUrl": "",
      "userId": "12863580920738780925"
     },
     "user_tz": 240
    },
    "id": "JtjVFb8bZWsQ",
    "outputId": "eb2d8544-10dc-4692-ffb2-f2f0d3d6185e"
   },
   "outputs": [
    {
     "name": "stdout",
     "output_type": "stream",
     "text": [
      "Current Progress: 100.0 %\n"
     ]
    }
   ],
   "source": [
    "translated_ingredients = translate_df_column(df,\"Ingredients\",count=0)"
   ]
  },
  {
   "cell_type": "code",
   "execution_count": 32,
   "metadata": {
    "executionInfo": {
     "elapsed": 611,
     "status": "ok",
     "timestamp": 1603347062533,
     "user": {
      "displayName": "Kanishka Sanjay Jain",
      "photoUrl": "",
      "userId": "12863580920738780925"
     },
     "user_tz": 240
    },
    "id": "fqlAKfi2rZoz"
   },
   "outputs": [],
   "source": [
    "\n",
    "#Did this because there were missing values\n",
    "df[\"TranslatedIngredients\"] = pd.Series(translated_ingredients)"
   ]
  },
  {
   "cell_type": "code",
   "execution_count": 56,
   "metadata": {
    "colab": {
     "base_uri": "https://localhost:8080/",
     "height": 1000
    },
    "executionInfo": {
     "elapsed": 639,
     "status": "ok",
     "timestamp": 1603351345805,
     "user": {
      "displayName": "Kanishka Sanjay Jain",
      "photoUrl": "",
      "userId": "12863580920738780925"
     },
     "user_tz": 240
    },
    "id": "qgf7mQ6R7pwy",
    "outputId": "02dddfdf-178f-4331-9666-dc79f4cf9775"
   },
   "outputs": [
    {
     "data": {
      "text/html": [
       "<div>\n",
       "<style scoped>\n",
       "    .dataframe tbody tr th:only-of-type {\n",
       "        vertical-align: middle;\n",
       "    }\n",
       "\n",
       "    .dataframe tbody tr th {\n",
       "        vertical-align: top;\n",
       "    }\n",
       "\n",
       "    .dataframe thead th {\n",
       "        text-align: right;\n",
       "    }\n",
       "</style>\n",
       "<table border=\"1\" class=\"dataframe\">\n",
       "  <thead>\n",
       "    <tr style=\"text-align: right;\">\n",
       "      <th></th>\n",
       "      <th>RecipeName</th>\n",
       "      <th>Ingredients</th>\n",
       "      <th>PrepTimeInMins</th>\n",
       "      <th>CookTimeInMins</th>\n",
       "      <th>TotalTimeInMins</th>\n",
       "      <th>Servings</th>\n",
       "      <th>Cuisine</th>\n",
       "      <th>Course</th>\n",
       "      <th>Diet</th>\n",
       "      <th>Instructions</th>\n",
       "      <th>TranslatedIngredients</th>\n",
       "      <th>TranslatedRecipeName</th>\n",
       "    </tr>\n",
       "  </thead>\n",
       "  <tbody>\n",
       "    <tr>\n",
       "      <th>0</th>\n",
       "      <td>Masala Karela Recipe</td>\n",
       "      <td>,6 Karela (Bitter Gourd/ Pavakkai) , deseeded,...</td>\n",
       "      <td>15</td>\n",
       "      <td>30</td>\n",
       "      <td>45</td>\n",
       "      <td>6</td>\n",
       "      <td>Indian</td>\n",
       "      <td>Side Dish</td>\n",
       "      <td>Diabetic Friendly</td>\n",
       "      <td>To begin making the Masala Karela Recipe,de-se...</td>\n",
       "      <td>,6 Karela (Bitter Gourd/ Pavakkai) , deseeded,...</td>\n",
       "      <td>Masala Karela Recipe</td>\n",
       "    </tr>\n",
       "    <tr>\n",
       "      <th>1</th>\n",
       "      <td>टमाटर पुलियोगरे रेसिपी - Spicy Tomato Rice (Re...</td>\n",
       "      <td>,2-1/2 कप चावल , पका ले,3 टमाटर,3 छोटा चमच्च ब...</td>\n",
       "      <td>5</td>\n",
       "      <td>10</td>\n",
       "      <td>15</td>\n",
       "      <td>3</td>\n",
       "      <td>South Indian Recipes</td>\n",
       "      <td>Main Course</td>\n",
       "      <td>Vegetarian</td>\n",
       "      <td>टमाटर पुलियोगरे बनाने के लिए सबसे पहले टमाटर क...</td>\n",
       "      <td>, 2-1 / 2 cups rice, cooked, 3 tomatoes, 3 tea...</td>\n",
       "      <td>Spicy Tomato Rice (Recipe)</td>\n",
       "    </tr>\n",
       "    <tr>\n",
       "      <th>2</th>\n",
       "      <td>Ragi Semiya Upma Recipe - Ragi Millet Vermicel...</td>\n",
       "      <td>,1-1/2 cups Rice Vermicelli Noodles (Thin),1 O...</td>\n",
       "      <td>20</td>\n",
       "      <td>30</td>\n",
       "      <td>50</td>\n",
       "      <td>4</td>\n",
       "      <td>South Indian Recipes</td>\n",
       "      <td>South Indian Breakfast</td>\n",
       "      <td>High Protein Vegetarian</td>\n",
       "      <td>To begin making the Ragi Vermicelli Recipe, fi...</td>\n",
       "      <td>,1-1/2 cups Rice Vermicelli Noodles (Thin),1 O...</td>\n",
       "      <td>Ragi Semiya Upma Recipe - Ragi Millet Vermicel...</td>\n",
       "    </tr>\n",
       "    <tr>\n",
       "      <th>3</th>\n",
       "      <td>Gongura Chicken Curry Recipe - Andhra Style Go...</td>\n",
       "      <td>,500 grams Chicken,2 Onion , chopped,1 Tomato ...</td>\n",
       "      <td>15</td>\n",
       "      <td>30</td>\n",
       "      <td>45</td>\n",
       "      <td>4</td>\n",
       "      <td>Andhra</td>\n",
       "      <td>Lunch</td>\n",
       "      <td>Non Vegeterian</td>\n",
       "      <td>To begin making Gongura Chicken Curry Recipe f...</td>\n",
       "      <td>,500 grams Chicken,2 Onion , chopped,1 Tomato ...</td>\n",
       "      <td>Gongura Chicken Curry Recipe - Andhra Style Go...</td>\n",
       "    </tr>\n",
       "    <tr>\n",
       "      <th>4</th>\n",
       "      <td>आंध्रा स्टाइल आलम पचड़ी रेसिपी - Adrak Chutney ...</td>\n",
       "      <td>,1 बड़ा चमच्च चना दाल,1 बड़ा चमच्च सफ़ेद उरद दाल,...</td>\n",
       "      <td>10</td>\n",
       "      <td>20</td>\n",
       "      <td>30</td>\n",
       "      <td>4</td>\n",
       "      <td>Andhra</td>\n",
       "      <td>South Indian Breakfast</td>\n",
       "      <td>Vegetarian</td>\n",
       "      <td>आंध्रा स्टाइल आलम पचड़ी बनाने के लिए सबसे पहले ...</td>\n",
       "      <td>, 1 tablespoon chana dal, 1 tablespoon white u...</td>\n",
       "      <td>Andhra Style Alam Pachadi Recipe - Adrak Chutn...</td>\n",
       "    </tr>\n",
       "    <tr>\n",
       "      <th>...</th>\n",
       "      <td>...</td>\n",
       "      <td>...</td>\n",
       "      <td>...</td>\n",
       "      <td>...</td>\n",
       "      <td>...</td>\n",
       "      <td>...</td>\n",
       "      <td>...</td>\n",
       "      <td>...</td>\n",
       "      <td>...</td>\n",
       "      <td>...</td>\n",
       "      <td>...</td>\n",
       "      <td>...</td>\n",
       "    </tr>\n",
       "    <tr>\n",
       "      <th>14225</th>\n",
       "      <td>Kashmiri Style Kokur Yakhni Recipe-Chicken Coo...</td>\n",
       "      <td>,1 kg Chicken , medium pieces,1/2 cup Mustard ...</td>\n",
       "      <td>30</td>\n",
       "      <td>45</td>\n",
       "      <td>75</td>\n",
       "      <td>4</td>\n",
       "      <td>Kashmiri</td>\n",
       "      <td>Lunch</td>\n",
       "      <td>Non Vegeterian</td>\n",
       "      <td>To begin making the Kashmiri Kokur Yakhni reci...</td>\n",
       "      <td>NaN</td>\n",
       "      <td>Kashmiri Style Kokur Yakhni Recipe-Chicken Coo...</td>\n",
       "    </tr>\n",
       "    <tr>\n",
       "      <th>14226</th>\n",
       "      <td>Shimla Mirchi Panchamrut Recipe | Konkani Caps...</td>\n",
       "      <td>,2 Green Bell Pepper (Capsicum) , diced small,...</td>\n",
       "      <td>20</td>\n",
       "      <td>20</td>\n",
       "      <td>40</td>\n",
       "      <td>4</td>\n",
       "      <td>Konkan</td>\n",
       "      <td>Main Course</td>\n",
       "      <td>Vegetarian</td>\n",
       "      <td>To begin making Shimla Mirchi Panchamrut Recip...</td>\n",
       "      <td>NaN</td>\n",
       "      <td>Shimla Mirchi Panchamrut Recipe | Konkani Caps...</td>\n",
       "    </tr>\n",
       "    <tr>\n",
       "      <th>14227</th>\n",
       "      <td>Kerala Cheriya Ulli Sambar Recipe</td>\n",
       "      <td>,1/2 cup Arhar dal (Split Toor Dal) , soaked f...</td>\n",
       "      <td>10</td>\n",
       "      <td>30</td>\n",
       "      <td>40</td>\n",
       "      <td>2</td>\n",
       "      <td>Karnataka</td>\n",
       "      <td>Lunch</td>\n",
       "      <td>High Protein Vegetarian</td>\n",
       "      <td>To start making Kerala Cheriya Ulli Sambar, in...</td>\n",
       "      <td>NaN</td>\n",
       "      <td>Kerala Cheriya Ulli Sambar Recipe</td>\n",
       "    </tr>\n",
       "    <tr>\n",
       "      <th>14228</th>\n",
       "      <td>Pav Bhaji Flavored Pasta Recipe-Fusion Fusilli...</td>\n",
       "      <td>,2 cup Pasta  Fusilli , cooked as per instruct...</td>\n",
       "      <td>15</td>\n",
       "      <td>20</td>\n",
       "      <td>35</td>\n",
       "      <td>2</td>\n",
       "      <td>Fusion</td>\n",
       "      <td>Main Course</td>\n",
       "      <td>Vegetarian</td>\n",
       "      <td>To begin making Pav Bhaji Flavored Pasta Recip...</td>\n",
       "      <td>NaN</td>\n",
       "      <td>Pav Bhaji Flavored Pasta Recipe-Fusion Fusilli...</td>\n",
       "    </tr>\n",
       "    <tr>\n",
       "      <th>14229</th>\n",
       "      <td>Keerai Masiyal Recipe (Stir Fried Green with M...</td>\n",
       "      <td>,500 grams Greens , finely chopped (like spina...</td>\n",
       "      <td>15</td>\n",
       "      <td>20</td>\n",
       "      <td>35</td>\n",
       "      <td>4</td>\n",
       "      <td>South Indian Recipes</td>\n",
       "      <td>Side Dish</td>\n",
       "      <td>High Protein Vegetarian</td>\n",
       "      <td>To begin making the Keerai Masiyal Recipe, we ...</td>\n",
       "      <td>NaN</td>\n",
       "      <td>Keerai Masiyal Recipe (Stir Fried Green with M...</td>\n",
       "    </tr>\n",
       "  </tbody>\n",
       "</table>\n",
       "<p>14230 rows × 12 columns</p>\n",
       "</div>"
      ],
      "text/plain": [
       "                                              RecipeName  ...                               TranslatedRecipeName\n",
       "0                                   Masala Karela Recipe  ...                               Masala Karela Recipe\n",
       "1      टमाटर पुलियोगरे रेसिपी - Spicy Tomato Rice (Re...  ...                         Spicy Tomato Rice (Recipe)\n",
       "2      Ragi Semiya Upma Recipe - Ragi Millet Vermicel...  ...  Ragi Semiya Upma Recipe - Ragi Millet Vermicel...\n",
       "3      Gongura Chicken Curry Recipe - Andhra Style Go...  ...  Gongura Chicken Curry Recipe - Andhra Style Go...\n",
       "4      आंध्रा स्टाइल आलम पचड़ी रेसिपी - Adrak Chutney ...  ...  Andhra Style Alam Pachadi Recipe - Adrak Chutn...\n",
       "...                                                  ...  ...                                                ...\n",
       "14225  Kashmiri Style Kokur Yakhni Recipe-Chicken Coo...  ...  Kashmiri Style Kokur Yakhni Recipe-Chicken Coo...\n",
       "14226  Shimla Mirchi Panchamrut Recipe | Konkani Caps...  ...  Shimla Mirchi Panchamrut Recipe | Konkani Caps...\n",
       "14227                  Kerala Cheriya Ulli Sambar Recipe  ...                  Kerala Cheriya Ulli Sambar Recipe\n",
       "14228  Pav Bhaji Flavored Pasta Recipe-Fusion Fusilli...  ...  Pav Bhaji Flavored Pasta Recipe-Fusion Fusilli...\n",
       "14229  Keerai Masiyal Recipe (Stir Fried Green with M...  ...  Keerai Masiyal Recipe (Stir Fried Green with M...\n",
       "\n",
       "[14230 rows x 12 columns]"
      ]
     },
     "execution_count": 56,
     "metadata": {
      "tags": []
     },
     "output_type": "execute_result"
    }
   ],
   "source": [
    "df"
   ]
  },
  {
   "cell_type": "code",
   "execution_count": 56,
   "metadata": {
    "executionInfo": {
     "elapsed": 446,
     "status": "ok",
     "timestamp": 1603351345806,
     "user": {
      "displayName": "Kanishka Sanjay Jain",
      "photoUrl": "",
      "userId": "12863580920738780925"
     },
     "user_tz": 240
    },
    "id": "e5ty43m8L_e0"
   },
   "outputs": [],
   "source": []
  },
  {
   "cell_type": "code",
   "execution_count": 57,
   "metadata": {
    "executionInfo": {
     "elapsed": 1377,
     "status": "ok",
     "timestamp": 1603351411106,
     "user": {
      "displayName": "Kanishka Sanjay Jain",
      "photoUrl": "",
      "userId": "12863580920738780925"
     },
     "user_tz": 240
    },
    "id": "iK_l3vL7L_iZ"
   },
   "outputs": [],
   "source": [
    "df.to_csv('/content/drive/My Drive/Projects/FoodDataset/MainDataRecipeIngredientsTranslated.csv')"
   ]
  },
  {
   "cell_type": "code",
   "execution_count": null,
   "metadata": {
    "id": "Z1czS1RxMPP0"
   },
   "outputs": [],
   "source": []
  },
  {
   "cell_type": "code",
   "execution_count": 34,
   "metadata": {
    "colab": {
     "base_uri": "https://localhost:8080/",
     "height": 320
    },
    "executionInfo": {
     "elapsed": 130236,
     "status": "error",
     "timestamp": 1603347230475,
     "user": {
      "displayName": "Kanishka Sanjay Jain",
      "photoUrl": "",
      "userId": "12863580920738780925"
     },
     "user_tz": 240
    },
    "id": "zbhzu-g7ZYFW",
    "outputId": "29109d41-fb64-41ed-9843-b878e9f02ec9"
   },
   "outputs": [
    {
     "ename": "KeyboardInterrupt",
     "evalue": "ignored",
     "output_type": "error",
     "traceback": [
      "\u001b[0;31m---------------------------------------------------------------------------\u001b[0m",
      "\u001b[0;31mKeyboardInterrupt\u001b[0m                         Traceback (most recent call last)",
      "\u001b[0;32m<ipython-input-34-87f178f7e76c>\u001b[0m in \u001b[0;36m<module>\u001b[0;34m()\u001b[0m\n\u001b[0;32m----> 1\u001b[0;31m \u001b[0mtranslated_instructions\u001b[0m \u001b[0;34m=\u001b[0m \u001b[0mtranslate_df_column\u001b[0m\u001b[0;34m(\u001b[0m\u001b[0mdf\u001b[0m\u001b[0;34m,\u001b[0m\u001b[0;34m\"Instructions\"\u001b[0m\u001b[0;34m,\u001b[0m\u001b[0mcount\u001b[0m\u001b[0;34m=\u001b[0m\u001b[0;36m0\u001b[0m\u001b[0;34m)\u001b[0m\u001b[0;34m\u001b[0m\u001b[0;34m\u001b[0m\u001b[0m\n\u001b[0m\u001b[1;32m      2\u001b[0m \u001b[0;34m\u001b[0m\u001b[0m\n",
      "\u001b[0;32m<ipython-input-25-392ca233a748>\u001b[0m in \u001b[0;36mtranslate_df_column\u001b[0;34m(df, column_name, count)\u001b[0m\n\u001b[1;32m      8\u001b[0m     \u001b[0mclear_output\u001b[0m\u001b[0;34m(\u001b[0m\u001b[0mwait\u001b[0m\u001b[0;34m=\u001b[0m\u001b[0;32mTrue\u001b[0m\u001b[0;34m)\u001b[0m\u001b[0;34m\u001b[0m\u001b[0;34m\u001b[0m\u001b[0m\n\u001b[1;32m      9\u001b[0m     \u001b[0;32mtry\u001b[0m\u001b[0;34m:\u001b[0m\u001b[0;34m\u001b[0m\u001b[0;34m\u001b[0m\u001b[0m\n\u001b[0;32m---> 10\u001b[0;31m       \u001b[0mitem\u001b[0m \u001b[0;34m=\u001b[0m \u001b[0mtranslator\u001b[0m\u001b[0;34m.\u001b[0m\u001b[0mtranslate\u001b[0m\u001b[0;34m(\u001b[0m\u001b[0mitem\u001b[0m\u001b[0;34m)\u001b[0m\u001b[0;34m\u001b[0m\u001b[0;34m\u001b[0m\u001b[0m\n\u001b[0m\u001b[1;32m     11\u001b[0m       \u001b[0mtranslated_item\u001b[0m \u001b[0;34m=\u001b[0m \u001b[0mitem\u001b[0m\u001b[0;34m.\u001b[0m\u001b[0mtext\u001b[0m\u001b[0;34m\u001b[0m\u001b[0;34m\u001b[0m\u001b[0m\n\u001b[1;32m     12\u001b[0m       \u001b[0mtranslated_list\u001b[0m\u001b[0;34m.\u001b[0m\u001b[0mappend\u001b[0m\u001b[0;34m(\u001b[0m\u001b[0mtranslated_item\u001b[0m\u001b[0;34m)\u001b[0m\u001b[0;34m\u001b[0m\u001b[0;34m\u001b[0m\u001b[0m\n",
      "\u001b[0;32m/usr/local/lib/python3.6/dist-packages/googletrans/client.py\u001b[0m in \u001b[0;36mtranslate\u001b[0;34m(self, text, dest, src, **kwargs)\u001b[0m\n\u001b[1;32m    180\u001b[0m \u001b[0;34m\u001b[0m\u001b[0m\n\u001b[1;32m    181\u001b[0m         \u001b[0morigin\u001b[0m \u001b[0;34m=\u001b[0m \u001b[0mtext\u001b[0m\u001b[0;34m\u001b[0m\u001b[0;34m\u001b[0m\u001b[0m\n\u001b[0;32m--> 182\u001b[0;31m         \u001b[0mdata\u001b[0m \u001b[0;34m=\u001b[0m \u001b[0mself\u001b[0m\u001b[0;34m.\u001b[0m\u001b[0m_translate\u001b[0m\u001b[0;34m(\u001b[0m\u001b[0mtext\u001b[0m\u001b[0;34m,\u001b[0m \u001b[0mdest\u001b[0m\u001b[0;34m,\u001b[0m \u001b[0msrc\u001b[0m\u001b[0;34m,\u001b[0m \u001b[0mkwargs\u001b[0m\u001b[0;34m)\u001b[0m\u001b[0;34m\u001b[0m\u001b[0;34m\u001b[0m\u001b[0m\n\u001b[0m\u001b[1;32m    183\u001b[0m \u001b[0;34m\u001b[0m\u001b[0m\n\u001b[1;32m    184\u001b[0m         \u001b[0;31m# this code will be updated when the format is changed.\u001b[0m\u001b[0;34m\u001b[0m\u001b[0;34m\u001b[0m\u001b[0;34m\u001b[0m\u001b[0m\n",
      "\u001b[0;32m/usr/local/lib/python3.6/dist-packages/googletrans/client.py\u001b[0m in \u001b[0;36m_translate\u001b[0;34m(self, text, dest, src, override)\u001b[0m\n\u001b[1;32m     81\u001b[0m \u001b[0;34m\u001b[0m\u001b[0m\n\u001b[1;32m     82\u001b[0m         \u001b[0murl\u001b[0m \u001b[0;34m=\u001b[0m \u001b[0murls\u001b[0m\u001b[0;34m.\u001b[0m\u001b[0mTRANSLATE\u001b[0m\u001b[0;34m.\u001b[0m\u001b[0mformat\u001b[0m\u001b[0;34m(\u001b[0m\u001b[0mhost\u001b[0m\u001b[0;34m=\u001b[0m\u001b[0mself\u001b[0m\u001b[0;34m.\u001b[0m\u001b[0m_pick_service_url\u001b[0m\u001b[0;34m(\u001b[0m\u001b[0;34m)\u001b[0m\u001b[0;34m)\u001b[0m\u001b[0;34m\u001b[0m\u001b[0;34m\u001b[0m\u001b[0m\n\u001b[0;32m---> 83\u001b[0;31m         \u001b[0mr\u001b[0m \u001b[0;34m=\u001b[0m \u001b[0mself\u001b[0m\u001b[0;34m.\u001b[0m\u001b[0mclient\u001b[0m\u001b[0;34m.\u001b[0m\u001b[0mget\u001b[0m\u001b[0;34m(\u001b[0m\u001b[0murl\u001b[0m\u001b[0;34m,\u001b[0m \u001b[0mparams\u001b[0m\u001b[0;34m=\u001b[0m\u001b[0mparams\u001b[0m\u001b[0;34m)\u001b[0m\u001b[0;34m\u001b[0m\u001b[0;34m\u001b[0m\u001b[0m\n\u001b[0m\u001b[1;32m     84\u001b[0m \u001b[0;34m\u001b[0m\u001b[0m\n\u001b[1;32m     85\u001b[0m         \u001b[0;32mif\u001b[0m \u001b[0mr\u001b[0m\u001b[0;34m.\u001b[0m\u001b[0mstatus_code\u001b[0m \u001b[0;34m==\u001b[0m \u001b[0;36m200\u001b[0m\u001b[0;34m:\u001b[0m\u001b[0;34m\u001b[0m\u001b[0;34m\u001b[0m\u001b[0m\n",
      "\u001b[0;32m/usr/local/lib/python3.6/dist-packages/httpx/_client.py\u001b[0m in \u001b[0;36mget\u001b[0;34m(self, url, params, headers, cookies, auth, allow_redirects, timeout)\u001b[0m\n\u001b[1;32m    761\u001b[0m             \u001b[0mauth\u001b[0m\u001b[0;34m=\u001b[0m\u001b[0mauth\u001b[0m\u001b[0;34m,\u001b[0m\u001b[0;34m\u001b[0m\u001b[0;34m\u001b[0m\u001b[0m\n\u001b[1;32m    762\u001b[0m             \u001b[0mallow_redirects\u001b[0m\u001b[0;34m=\u001b[0m\u001b[0mallow_redirects\u001b[0m\u001b[0;34m,\u001b[0m\u001b[0;34m\u001b[0m\u001b[0;34m\u001b[0m\u001b[0m\n\u001b[0;32m--> 763\u001b[0;31m             \u001b[0mtimeout\u001b[0m\u001b[0;34m=\u001b[0m\u001b[0mtimeout\u001b[0m\u001b[0;34m,\u001b[0m\u001b[0;34m\u001b[0m\u001b[0;34m\u001b[0m\u001b[0m\n\u001b[0m\u001b[1;32m    764\u001b[0m         )\n\u001b[1;32m    765\u001b[0m \u001b[0;34m\u001b[0m\u001b[0m\n",
      "\u001b[0;32m/usr/local/lib/python3.6/dist-packages/httpx/_client.py\u001b[0m in \u001b[0;36mrequest\u001b[0;34m(self, method, url, data, files, json, params, headers, cookies, auth, allow_redirects, timeout)\u001b[0m\n\u001b[1;32m    599\u001b[0m         )\n\u001b[1;32m    600\u001b[0m         return self.send(\n\u001b[0;32m--> 601\u001b[0;31m             \u001b[0mrequest\u001b[0m\u001b[0;34m,\u001b[0m \u001b[0mauth\u001b[0m\u001b[0;34m=\u001b[0m\u001b[0mauth\u001b[0m\u001b[0;34m,\u001b[0m \u001b[0mallow_redirects\u001b[0m\u001b[0;34m=\u001b[0m\u001b[0mallow_redirects\u001b[0m\u001b[0;34m,\u001b[0m \u001b[0mtimeout\u001b[0m\u001b[0;34m=\u001b[0m\u001b[0mtimeout\u001b[0m\u001b[0;34m,\u001b[0m\u001b[0;34m\u001b[0m\u001b[0;34m\u001b[0m\u001b[0m\n\u001b[0m\u001b[1;32m    602\u001b[0m         )\n\u001b[1;32m    603\u001b[0m \u001b[0;34m\u001b[0m\u001b[0m\n",
      "\u001b[0;32m/usr/local/lib/python3.6/dist-packages/httpx/_client.py\u001b[0m in \u001b[0;36msend\u001b[0;34m(self, request, stream, auth, allow_redirects, timeout)\u001b[0m\n\u001b[1;32m    619\u001b[0m \u001b[0;34m\u001b[0m\u001b[0m\n\u001b[1;32m    620\u001b[0m         response = self.send_handling_redirects(\n\u001b[0;32m--> 621\u001b[0;31m             \u001b[0mrequest\u001b[0m\u001b[0;34m,\u001b[0m \u001b[0mauth\u001b[0m\u001b[0;34m=\u001b[0m\u001b[0mauth\u001b[0m\u001b[0;34m,\u001b[0m \u001b[0mtimeout\u001b[0m\u001b[0;34m=\u001b[0m\u001b[0mtimeout\u001b[0m\u001b[0;34m,\u001b[0m \u001b[0mallow_redirects\u001b[0m\u001b[0;34m=\u001b[0m\u001b[0mallow_redirects\u001b[0m\u001b[0;34m,\u001b[0m\u001b[0;34m\u001b[0m\u001b[0;34m\u001b[0m\u001b[0m\n\u001b[0m\u001b[1;32m    622\u001b[0m         )\n\u001b[1;32m    623\u001b[0m \u001b[0;34m\u001b[0m\u001b[0m\n",
      "\u001b[0;32m/usr/local/lib/python3.6/dist-packages/httpx/_client.py\u001b[0m in \u001b[0;36msend_handling_redirects\u001b[0;34m(self, request, auth, timeout, allow_redirects, history)\u001b[0m\n\u001b[1;32m    646\u001b[0m \u001b[0;34m\u001b[0m\u001b[0m\n\u001b[1;32m    647\u001b[0m             response = self.send_handling_auth(\n\u001b[0;32m--> 648\u001b[0;31m                 \u001b[0mrequest\u001b[0m\u001b[0;34m,\u001b[0m \u001b[0mauth\u001b[0m\u001b[0;34m=\u001b[0m\u001b[0mauth\u001b[0m\u001b[0;34m,\u001b[0m \u001b[0mtimeout\u001b[0m\u001b[0;34m=\u001b[0m\u001b[0mtimeout\u001b[0m\u001b[0;34m,\u001b[0m \u001b[0mhistory\u001b[0m\u001b[0;34m=\u001b[0m\u001b[0mhistory\u001b[0m\u001b[0;34m\u001b[0m\u001b[0;34m\u001b[0m\u001b[0m\n\u001b[0m\u001b[1;32m    649\u001b[0m             )\n\u001b[1;32m    650\u001b[0m             \u001b[0mresponse\u001b[0m\u001b[0;34m.\u001b[0m\u001b[0mhistory\u001b[0m \u001b[0;34m=\u001b[0m \u001b[0mlist\u001b[0m\u001b[0;34m(\u001b[0m\u001b[0mhistory\u001b[0m\u001b[0;34m)\u001b[0m\u001b[0;34m\u001b[0m\u001b[0;34m\u001b[0m\u001b[0m\n",
      "\u001b[0;32m/usr/local/lib/python3.6/dist-packages/httpx/_client.py\u001b[0m in \u001b[0;36msend_handling_auth\u001b[0;34m(self, request, history, auth, timeout)\u001b[0m\n\u001b[1;32m    682\u001b[0m         \u001b[0mrequest\u001b[0m \u001b[0;34m=\u001b[0m \u001b[0mnext\u001b[0m\u001b[0;34m(\u001b[0m\u001b[0mauth_flow\u001b[0m\u001b[0;34m)\u001b[0m\u001b[0;34m\u001b[0m\u001b[0;34m\u001b[0m\u001b[0m\n\u001b[1;32m    683\u001b[0m         \u001b[0;32mwhile\u001b[0m \u001b[0;32mTrue\u001b[0m\u001b[0;34m:\u001b[0m\u001b[0;34m\u001b[0m\u001b[0;34m\u001b[0m\u001b[0m\n\u001b[0;32m--> 684\u001b[0;31m             \u001b[0mresponse\u001b[0m \u001b[0;34m=\u001b[0m \u001b[0mself\u001b[0m\u001b[0;34m.\u001b[0m\u001b[0msend_single_request\u001b[0m\u001b[0;34m(\u001b[0m\u001b[0mrequest\u001b[0m\u001b[0;34m,\u001b[0m \u001b[0mtimeout\u001b[0m\u001b[0;34m)\u001b[0m\u001b[0;34m\u001b[0m\u001b[0;34m\u001b[0m\u001b[0m\n\u001b[0m\u001b[1;32m    685\u001b[0m             \u001b[0;32mif\u001b[0m \u001b[0mauth\u001b[0m\u001b[0;34m.\u001b[0m\u001b[0mrequires_response_body\u001b[0m\u001b[0;34m:\u001b[0m\u001b[0;34m\u001b[0m\u001b[0;34m\u001b[0m\u001b[0m\n\u001b[1;32m    686\u001b[0m                 \u001b[0mresponse\u001b[0m\u001b[0;34m.\u001b[0m\u001b[0mread\u001b[0m\u001b[0;34m(\u001b[0m\u001b[0;34m)\u001b[0m\u001b[0;34m\u001b[0m\u001b[0;34m\u001b[0m\u001b[0m\n",
      "\u001b[0;32m/usr/local/lib/python3.6/dist-packages/httpx/_client.py\u001b[0m in \u001b[0;36msend_single_request\u001b[0;34m(self, request, timeout)\u001b[0m\n\u001b[1;32m    717\u001b[0m                 \u001b[0mheaders\u001b[0m\u001b[0;34m=\u001b[0m\u001b[0mrequest\u001b[0m\u001b[0;34m.\u001b[0m\u001b[0mheaders\u001b[0m\u001b[0;34m.\u001b[0m\u001b[0mraw\u001b[0m\u001b[0;34m,\u001b[0m\u001b[0;34m\u001b[0m\u001b[0;34m\u001b[0m\u001b[0m\n\u001b[1;32m    718\u001b[0m                 \u001b[0mstream\u001b[0m\u001b[0;34m=\u001b[0m\u001b[0mrequest\u001b[0m\u001b[0;34m.\u001b[0m\u001b[0mstream\u001b[0m\u001b[0;34m,\u001b[0m\u001b[0;34m\u001b[0m\u001b[0;34m\u001b[0m\u001b[0m\n\u001b[0;32m--> 719\u001b[0;31m                 \u001b[0mtimeout\u001b[0m\u001b[0;34m=\u001b[0m\u001b[0mtimeout\u001b[0m\u001b[0;34m.\u001b[0m\u001b[0mas_dict\u001b[0m\u001b[0;34m(\u001b[0m\u001b[0;34m)\u001b[0m\u001b[0;34m,\u001b[0m\u001b[0;34m\u001b[0m\u001b[0;34m\u001b[0m\u001b[0m\n\u001b[0m\u001b[1;32m    720\u001b[0m             )\n\u001b[1;32m    721\u001b[0m         \u001b[0;32mexcept\u001b[0m \u001b[0mHTTPError\u001b[0m \u001b[0;32mas\u001b[0m \u001b[0mexc\u001b[0m\u001b[0;34m:\u001b[0m\u001b[0;34m\u001b[0m\u001b[0;34m\u001b[0m\u001b[0m\n",
      "\u001b[0;32m/usr/local/lib/python3.6/dist-packages/httpcore/_sync/connection_pool.py\u001b[0m in \u001b[0;36mrequest\u001b[0;34m(self, method, url, headers, stream, timeout)\u001b[0m\n\u001b[1;32m    151\u001b[0m             \u001b[0;32mtry\u001b[0m\u001b[0;34m:\u001b[0m\u001b[0;34m\u001b[0m\u001b[0;34m\u001b[0m\u001b[0m\n\u001b[1;32m    152\u001b[0m                 response = connection.request(\n\u001b[0;32m--> 153\u001b[0;31m                     \u001b[0mmethod\u001b[0m\u001b[0;34m,\u001b[0m \u001b[0murl\u001b[0m\u001b[0;34m,\u001b[0m \u001b[0mheaders\u001b[0m\u001b[0;34m=\u001b[0m\u001b[0mheaders\u001b[0m\u001b[0;34m,\u001b[0m \u001b[0mstream\u001b[0m\u001b[0;34m=\u001b[0m\u001b[0mstream\u001b[0m\u001b[0;34m,\u001b[0m \u001b[0mtimeout\u001b[0m\u001b[0;34m=\u001b[0m\u001b[0mtimeout\u001b[0m\u001b[0;34m\u001b[0m\u001b[0;34m\u001b[0m\u001b[0m\n\u001b[0m\u001b[1;32m    154\u001b[0m                 )\n\u001b[1;32m    155\u001b[0m             \u001b[0;32mexcept\u001b[0m \u001b[0mNewConnectionRequired\u001b[0m\u001b[0;34m:\u001b[0m\u001b[0;34m\u001b[0m\u001b[0;34m\u001b[0m\u001b[0m\n",
      "\u001b[0;32m/usr/local/lib/python3.6/dist-packages/httpcore/_sync/connection.py\u001b[0m in \u001b[0;36mrequest\u001b[0;34m(self, method, url, headers, stream, timeout)\u001b[0m\n\u001b[1;32m     76\u001b[0m             \u001b[0;34m\"connection.request method=%r url=%r headers=%r\"\u001b[0m\u001b[0;34m,\u001b[0m \u001b[0mmethod\u001b[0m\u001b[0;34m,\u001b[0m \u001b[0murl\u001b[0m\u001b[0;34m,\u001b[0m \u001b[0mheaders\u001b[0m\u001b[0;34m\u001b[0m\u001b[0;34m\u001b[0m\u001b[0m\n\u001b[1;32m     77\u001b[0m         )\n\u001b[0;32m---> 78\u001b[0;31m         \u001b[0;32mreturn\u001b[0m \u001b[0mself\u001b[0m\u001b[0;34m.\u001b[0m\u001b[0mconnection\u001b[0m\u001b[0;34m.\u001b[0m\u001b[0mrequest\u001b[0m\u001b[0;34m(\u001b[0m\u001b[0mmethod\u001b[0m\u001b[0;34m,\u001b[0m \u001b[0murl\u001b[0m\u001b[0;34m,\u001b[0m \u001b[0mheaders\u001b[0m\u001b[0;34m,\u001b[0m \u001b[0mstream\u001b[0m\u001b[0;34m,\u001b[0m \u001b[0mtimeout\u001b[0m\u001b[0;34m)\u001b[0m\u001b[0;34m\u001b[0m\u001b[0;34m\u001b[0m\u001b[0m\n\u001b[0m\u001b[1;32m     79\u001b[0m \u001b[0;34m\u001b[0m\u001b[0m\n\u001b[1;32m     80\u001b[0m     \u001b[0;32mdef\u001b[0m \u001b[0m_open_socket\u001b[0m\u001b[0;34m(\u001b[0m\u001b[0mself\u001b[0m\u001b[0;34m,\u001b[0m \u001b[0mtimeout\u001b[0m\u001b[0;34m:\u001b[0m \u001b[0mTimeoutDict\u001b[0m \u001b[0;34m=\u001b[0m \u001b[0;32mNone\u001b[0m\u001b[0;34m)\u001b[0m \u001b[0;34m->\u001b[0m \u001b[0mSyncSocketStream\u001b[0m\u001b[0;34m:\u001b[0m\u001b[0;34m\u001b[0m\u001b[0;34m\u001b[0m\u001b[0m\n",
      "\u001b[0;32m/usr/local/lib/python3.6/dist-packages/httpcore/_sync/http11.py\u001b[0m in \u001b[0;36mrequest\u001b[0;34m(self, method, url, headers, stream, timeout)\u001b[0m\n\u001b[1;32m     60\u001b[0m             \u001b[0mreason_phrase\u001b[0m\u001b[0;34m,\u001b[0m\u001b[0;34m\u001b[0m\u001b[0;34m\u001b[0m\u001b[0m\n\u001b[1;32m     61\u001b[0m             \u001b[0mheaders\u001b[0m\u001b[0;34m,\u001b[0m\u001b[0;34m\u001b[0m\u001b[0;34m\u001b[0m\u001b[0m\n\u001b[0;32m---> 62\u001b[0;31m         ) = self._receive_response(timeout)\n\u001b[0m\u001b[1;32m     63\u001b[0m         stream = SyncByteStream(\n\u001b[1;32m     64\u001b[0m             \u001b[0miterator\u001b[0m\u001b[0;34m=\u001b[0m\u001b[0mself\u001b[0m\u001b[0;34m.\u001b[0m\u001b[0m_receive_response_data\u001b[0m\u001b[0;34m(\u001b[0m\u001b[0mtimeout\u001b[0m\u001b[0;34m)\u001b[0m\u001b[0;34m,\u001b[0m\u001b[0;34m\u001b[0m\u001b[0;34m\u001b[0m\u001b[0m\n",
      "\u001b[0;32m/usr/local/lib/python3.6/dist-packages/httpcore/_sync/http11.py\u001b[0m in \u001b[0;36m_receive_response\u001b[0;34m(self, timeout)\u001b[0m\n\u001b[1;32m    113\u001b[0m         \"\"\"\n\u001b[1;32m    114\u001b[0m         \u001b[0;32mwhile\u001b[0m \u001b[0;32mTrue\u001b[0m\u001b[0;34m:\u001b[0m\u001b[0;34m\u001b[0m\u001b[0;34m\u001b[0m\u001b[0m\n\u001b[0;32m--> 115\u001b[0;31m             \u001b[0mevent\u001b[0m \u001b[0;34m=\u001b[0m \u001b[0mself\u001b[0m\u001b[0;34m.\u001b[0m\u001b[0m_receive_event\u001b[0m\u001b[0;34m(\u001b[0m\u001b[0mtimeout\u001b[0m\u001b[0;34m)\u001b[0m\u001b[0;34m\u001b[0m\u001b[0;34m\u001b[0m\u001b[0m\n\u001b[0m\u001b[1;32m    116\u001b[0m             \u001b[0;32mif\u001b[0m \u001b[0misinstance\u001b[0m\u001b[0;34m(\u001b[0m\u001b[0mevent\u001b[0m\u001b[0;34m,\u001b[0m \u001b[0mh11\u001b[0m\u001b[0;34m.\u001b[0m\u001b[0mResponse\u001b[0m\u001b[0;34m)\u001b[0m\u001b[0;34m:\u001b[0m\u001b[0;34m\u001b[0m\u001b[0;34m\u001b[0m\u001b[0m\n\u001b[1;32m    117\u001b[0m                 \u001b[0;32mbreak\u001b[0m\u001b[0;34m\u001b[0m\u001b[0;34m\u001b[0m\u001b[0m\n",
      "\u001b[0;32m/usr/local/lib/python3.6/dist-packages/httpcore/_sync/http11.py\u001b[0m in \u001b[0;36m_receive_event\u001b[0;34m(self, timeout)\u001b[0m\n\u001b[1;32m    143\u001b[0m \u001b[0;34m\u001b[0m\u001b[0m\n\u001b[1;32m    144\u001b[0m             \u001b[0;32mif\u001b[0m \u001b[0mevent\u001b[0m \u001b[0;32mis\u001b[0m \u001b[0mh11\u001b[0m\u001b[0;34m.\u001b[0m\u001b[0mNEED_DATA\u001b[0m\u001b[0;34m:\u001b[0m\u001b[0;34m\u001b[0m\u001b[0;34m\u001b[0m\u001b[0m\n\u001b[0;32m--> 145\u001b[0;31m                 \u001b[0mdata\u001b[0m \u001b[0;34m=\u001b[0m \u001b[0mself\u001b[0m\u001b[0;34m.\u001b[0m\u001b[0msocket\u001b[0m\u001b[0;34m.\u001b[0m\u001b[0mread\u001b[0m\u001b[0;34m(\u001b[0m\u001b[0mself\u001b[0m\u001b[0;34m.\u001b[0m\u001b[0mREAD_NUM_BYTES\u001b[0m\u001b[0;34m,\u001b[0m \u001b[0mtimeout\u001b[0m\u001b[0;34m)\u001b[0m\u001b[0;34m\u001b[0m\u001b[0;34m\u001b[0m\u001b[0m\n\u001b[0m\u001b[1;32m    146\u001b[0m                 \u001b[0mself\u001b[0m\u001b[0;34m.\u001b[0m\u001b[0mh11_state\u001b[0m\u001b[0;34m.\u001b[0m\u001b[0mreceive_data\u001b[0m\u001b[0;34m(\u001b[0m\u001b[0mdata\u001b[0m\u001b[0;34m)\u001b[0m\u001b[0;34m\u001b[0m\u001b[0;34m\u001b[0m\u001b[0m\n\u001b[1;32m    147\u001b[0m             \u001b[0;32melse\u001b[0m\u001b[0;34m:\u001b[0m\u001b[0;34m\u001b[0m\u001b[0;34m\u001b[0m\u001b[0m\n",
      "\u001b[0;32m/usr/local/lib/python3.6/dist-packages/httpcore/_backends/sync.py\u001b[0m in \u001b[0;36mread\u001b[0;34m(self, n, timeout)\u001b[0m\n\u001b[1;32m     60\u001b[0m             \u001b[0;32mwith\u001b[0m \u001b[0mmap_exceptions\u001b[0m\u001b[0;34m(\u001b[0m\u001b[0mexc_map\u001b[0m\u001b[0;34m)\u001b[0m\u001b[0;34m:\u001b[0m\u001b[0;34m\u001b[0m\u001b[0;34m\u001b[0m\u001b[0m\n\u001b[1;32m     61\u001b[0m                 \u001b[0mself\u001b[0m\u001b[0;34m.\u001b[0m\u001b[0msock\u001b[0m\u001b[0;34m.\u001b[0m\u001b[0msettimeout\u001b[0m\u001b[0;34m(\u001b[0m\u001b[0mread_timeout\u001b[0m\u001b[0;34m)\u001b[0m\u001b[0;34m\u001b[0m\u001b[0;34m\u001b[0m\u001b[0m\n\u001b[0;32m---> 62\u001b[0;31m                 \u001b[0;32mreturn\u001b[0m \u001b[0mself\u001b[0m\u001b[0;34m.\u001b[0m\u001b[0msock\u001b[0m\u001b[0;34m.\u001b[0m\u001b[0mrecv\u001b[0m\u001b[0;34m(\u001b[0m\u001b[0mn\u001b[0m\u001b[0;34m)\u001b[0m\u001b[0;34m\u001b[0m\u001b[0;34m\u001b[0m\u001b[0m\n\u001b[0m\u001b[1;32m     63\u001b[0m \u001b[0;34m\u001b[0m\u001b[0m\n\u001b[1;32m     64\u001b[0m     \u001b[0;32mdef\u001b[0m \u001b[0mwrite\u001b[0m\u001b[0;34m(\u001b[0m\u001b[0mself\u001b[0m\u001b[0;34m,\u001b[0m \u001b[0mdata\u001b[0m\u001b[0;34m:\u001b[0m \u001b[0mbytes\u001b[0m\u001b[0;34m,\u001b[0m \u001b[0mtimeout\u001b[0m\u001b[0;34m:\u001b[0m \u001b[0mTimeoutDict\u001b[0m\u001b[0;34m)\u001b[0m \u001b[0;34m->\u001b[0m \u001b[0;32mNone\u001b[0m\u001b[0;34m:\u001b[0m\u001b[0;34m\u001b[0m\u001b[0;34m\u001b[0m\u001b[0m\n",
      "\u001b[0;32m/usr/lib/python3.6/ssl.py\u001b[0m in \u001b[0;36mrecv\u001b[0;34m(self, buflen, flags)\u001b[0m\n\u001b[1;32m    995\u001b[0m                     \u001b[0;34m\"non-zero flags not allowed in calls to recv() on %s\"\u001b[0m \u001b[0;34m%\u001b[0m\u001b[0;34m\u001b[0m\u001b[0;34m\u001b[0m\u001b[0m\n\u001b[1;32m    996\u001b[0m                     self.__class__)\n\u001b[0;32m--> 997\u001b[0;31m             \u001b[0;32mreturn\u001b[0m \u001b[0mself\u001b[0m\u001b[0;34m.\u001b[0m\u001b[0mread\u001b[0m\u001b[0;34m(\u001b[0m\u001b[0mbuflen\u001b[0m\u001b[0;34m)\u001b[0m\u001b[0;34m\u001b[0m\u001b[0;34m\u001b[0m\u001b[0m\n\u001b[0m\u001b[1;32m    998\u001b[0m         \u001b[0;32melse\u001b[0m\u001b[0;34m:\u001b[0m\u001b[0;34m\u001b[0m\u001b[0;34m\u001b[0m\u001b[0m\n\u001b[1;32m    999\u001b[0m             \u001b[0;32mreturn\u001b[0m \u001b[0msocket\u001b[0m\u001b[0;34m.\u001b[0m\u001b[0mrecv\u001b[0m\u001b[0;34m(\u001b[0m\u001b[0mself\u001b[0m\u001b[0;34m,\u001b[0m \u001b[0mbuflen\u001b[0m\u001b[0;34m,\u001b[0m \u001b[0mflags\u001b[0m\u001b[0;34m)\u001b[0m\u001b[0;34m\u001b[0m\u001b[0;34m\u001b[0m\u001b[0m\n",
      "\u001b[0;32m/usr/lib/python3.6/ssl.py\u001b[0m in \u001b[0;36mread\u001b[0;34m(self, len, buffer)\u001b[0m\n\u001b[1;32m    872\u001b[0m             \u001b[0;32mraise\u001b[0m \u001b[0mValueError\u001b[0m\u001b[0;34m(\u001b[0m\u001b[0;34m\"Read on closed or unwrapped SSL socket.\"\u001b[0m\u001b[0;34m)\u001b[0m\u001b[0;34m\u001b[0m\u001b[0;34m\u001b[0m\u001b[0m\n\u001b[1;32m    873\u001b[0m         \u001b[0;32mtry\u001b[0m\u001b[0;34m:\u001b[0m\u001b[0;34m\u001b[0m\u001b[0;34m\u001b[0m\u001b[0m\n\u001b[0;32m--> 874\u001b[0;31m             \u001b[0;32mreturn\u001b[0m \u001b[0mself\u001b[0m\u001b[0;34m.\u001b[0m\u001b[0m_sslobj\u001b[0m\u001b[0;34m.\u001b[0m\u001b[0mread\u001b[0m\u001b[0;34m(\u001b[0m\u001b[0mlen\u001b[0m\u001b[0;34m,\u001b[0m \u001b[0mbuffer\u001b[0m\u001b[0;34m)\u001b[0m\u001b[0;34m\u001b[0m\u001b[0;34m\u001b[0m\u001b[0m\n\u001b[0m\u001b[1;32m    875\u001b[0m         \u001b[0;32mexcept\u001b[0m \u001b[0mSSLError\u001b[0m \u001b[0;32mas\u001b[0m \u001b[0mx\u001b[0m\u001b[0;34m:\u001b[0m\u001b[0;34m\u001b[0m\u001b[0;34m\u001b[0m\u001b[0m\n\u001b[1;32m    876\u001b[0m             \u001b[0;32mif\u001b[0m \u001b[0mx\u001b[0m\u001b[0;34m.\u001b[0m\u001b[0margs\u001b[0m\u001b[0;34m[\u001b[0m\u001b[0;36m0\u001b[0m\u001b[0;34m]\u001b[0m \u001b[0;34m==\u001b[0m \u001b[0mSSL_ERROR_EOF\u001b[0m \u001b[0;32mand\u001b[0m \u001b[0mself\u001b[0m\u001b[0;34m.\u001b[0m\u001b[0msuppress_ragged_eofs\u001b[0m\u001b[0;34m:\u001b[0m\u001b[0;34m\u001b[0m\u001b[0;34m\u001b[0m\u001b[0m\n",
      "\u001b[0;32m/usr/lib/python3.6/ssl.py\u001b[0m in \u001b[0;36mread\u001b[0;34m(self, len, buffer)\u001b[0m\n\u001b[1;32m    631\u001b[0m             \u001b[0mv\u001b[0m \u001b[0;34m=\u001b[0m \u001b[0mself\u001b[0m\u001b[0;34m.\u001b[0m\u001b[0m_sslobj\u001b[0m\u001b[0;34m.\u001b[0m\u001b[0mread\u001b[0m\u001b[0;34m(\u001b[0m\u001b[0mlen\u001b[0m\u001b[0;34m,\u001b[0m \u001b[0mbuffer\u001b[0m\u001b[0;34m)\u001b[0m\u001b[0;34m\u001b[0m\u001b[0;34m\u001b[0m\u001b[0m\n\u001b[1;32m    632\u001b[0m         \u001b[0;32melse\u001b[0m\u001b[0;34m:\u001b[0m\u001b[0;34m\u001b[0m\u001b[0;34m\u001b[0m\u001b[0m\n\u001b[0;32m--> 633\u001b[0;31m             \u001b[0mv\u001b[0m \u001b[0;34m=\u001b[0m \u001b[0mself\u001b[0m\u001b[0;34m.\u001b[0m\u001b[0m_sslobj\u001b[0m\u001b[0;34m.\u001b[0m\u001b[0mread\u001b[0m\u001b[0;34m(\u001b[0m\u001b[0mlen\u001b[0m\u001b[0;34m)\u001b[0m\u001b[0;34m\u001b[0m\u001b[0;34m\u001b[0m\u001b[0m\n\u001b[0m\u001b[1;32m    634\u001b[0m         \u001b[0;32mreturn\u001b[0m \u001b[0mv\u001b[0m\u001b[0;34m\u001b[0m\u001b[0;34m\u001b[0m\u001b[0m\n\u001b[1;32m    635\u001b[0m \u001b[0;34m\u001b[0m\u001b[0m\n",
      "\u001b[0;31mKeyboardInterrupt\u001b[0m: "
     ]
    }
   ],
   "source": [
    "# translated_instructions = translate_df_column(df,\"Instructions\",count=0)\n",
    "\n"
   ]
  },
  {
   "cell_type": "code",
   "execution_count": null,
   "metadata": {
    "id": "mDL2rSDF7zIE"
   },
   "outputs": [],
   "source": [
    "# add_to_df(df,\"TranslatedInstructions\",translated_instructions)"
   ]
  },
  {
   "cell_type": "code",
   "execution_count": null,
   "metadata": {
    "executionInfo": {
     "elapsed": 3037030,
     "status": "aborted",
     "timestamp": 1603342432139,
     "user": {
      "displayName": "Kanishka Sanjay Jain",
      "photoUrl": "",
      "userId": "12863580920738780925"
     },
     "user_tz": 240
    },
    "id": "kWE05xatPnOp"
   },
   "outputs": [],
   "source": [
    "df"
   ]
  },
  {
   "cell_type": "code",
   "execution_count": null,
   "metadata": {
    "colab": {
     "base_uri": "https://localhost:8080/",
     "height": 235
    },
    "executionInfo": {
     "elapsed": 284,
     "status": "ok",
     "timestamp": 1603318935567,
     "user": {
      "displayName": "Kanishka Sanjay Jain",
      "photoUrl": "",
      "userId": "12863580920738780925"
     },
     "user_tz": 240
    },
    "id": "6Fh11yjbO4EP",
    "outputId": "1740781a-10d4-4638-96dd-c353d4f02bdb"
   },
   "outputs": [
    {
     "data": {
      "text/plain": [
       "['RecipeName',\n",
       " 'Ingredients',\n",
       " 'Prep',\n",
       " 'Cook',\n",
       " 'Total',\n",
       " 'Servings',\n",
       " 'Cuisine',\n",
       " 'Type',\n",
       " 'Diet',\n",
       " 'Instructions',\n",
       " 'TranslatedRecipeName',\n",
       " 'TranslatedIngredients',\n",
       " 'TranslatedInstructions']"
      ]
     },
     "execution_count": 55,
     "metadata": {
      "tags": []
     },
     "output_type": "execute_result"
    }
   ],
   "source": [
    "cols = df2.columns.tolist()\n",
    "cols"
   ]
  },
  {
   "cell_type": "code",
   "execution_count": null,
   "metadata": {
    "id": "aJxLg_XGQUR0"
   },
   "outputs": [],
   "source": [
    "neworder = ['RecipeName',\n",
    "            'TranslatedRecipeName',\n",
    " 'Ingredients',\n",
    " 'TranslatedIngredients',\n",
    " 'Prep',\n",
    " 'Cook',\n",
    " 'Total',\n",
    " 'Servings',\n",
    " 'Cuisine',\n",
    " 'Type',\n",
    " 'Diet',\n",
    " 'Instructions',\n",
    " 'TranslatedInstructions']"
   ]
  },
  {
   "cell_type": "code",
   "execution_count": null,
   "metadata": {
    "id": "ULHZFld9O4Gg"
   },
   "outputs": [],
   "source": [
    "df2 = df2[neworder]"
   ]
  },
  {
   "cell_type": "code",
   "execution_count": null,
   "metadata": {
    "colab": {
     "base_uri": "https://localhost:8080/",
     "height": 1000
    },
    "executionInfo": {
     "elapsed": 327,
     "status": "ok",
     "timestamp": 1603319002540,
     "user": {
      "displayName": "Kanishka Sanjay Jain",
      "photoUrl": "",
      "userId": "12863580920738780925"
     },
     "user_tz": 240
    },
    "id": "NNUSyTDlQmYy",
    "outputId": "b04260b6-558c-4e33-c2e7-abc61ec13842"
   },
   "outputs": [
    {
     "data": {
      "text/html": [
       "<div>\n",
       "<style scoped>\n",
       "    .dataframe tbody tr th:only-of-type {\n",
       "        vertical-align: middle;\n",
       "    }\n",
       "\n",
       "    .dataframe tbody tr th {\n",
       "        vertical-align: top;\n",
       "    }\n",
       "\n",
       "    .dataframe thead th {\n",
       "        text-align: right;\n",
       "    }\n",
       "</style>\n",
       "<table border=\"1\" class=\"dataframe\">\n",
       "  <thead>\n",
       "    <tr style=\"text-align: right;\">\n",
       "      <th></th>\n",
       "      <th>RecipeName</th>\n",
       "      <th>TranslatedRecipeName</th>\n",
       "      <th>Ingredients</th>\n",
       "      <th>TranslatedIngredients</th>\n",
       "      <th>Prep</th>\n",
       "      <th>Cook</th>\n",
       "      <th>Total</th>\n",
       "      <th>Servings</th>\n",
       "      <th>Cuisine</th>\n",
       "      <th>Type</th>\n",
       "      <th>Diet</th>\n",
       "      <th>Instructions</th>\n",
       "      <th>TranslatedInstructions</th>\n",
       "    </tr>\n",
       "  </thead>\n",
       "  <tbody>\n",
       "    <tr>\n",
       "      <th>0</th>\n",
       "      <td>Mango Ladoo Recipe</td>\n",
       "      <td>Mango Ladoo Recipe</td>\n",
       "      <td>,1/2 cup Mango Pulp (Puree),1 cup Dessicated C...</td>\n",
       "      <td>,1/2 cup Mango Pulp (Puree),1 cup Dessicated C...</td>\n",
       "      <td>10</td>\n",
       "      <td>15</td>\n",
       "      <td>25</td>\n",
       "      <td>4</td>\n",
       "      <td>Indian</td>\n",
       "      <td>Dessert</td>\n",
       "      <td>Vegetarian</td>\n",
       "      <td>To begin making Mango Ladoo Recipe, preheat a ...</td>\n",
       "      <td>To begin making Mango Ladoo Recipe, preheat a ...</td>\n",
       "    </tr>\n",
       "    <tr>\n",
       "      <th>1</th>\n",
       "      <td>Garlic &amp; Ginger Spiced Potato Wedges Recipe (B...</td>\n",
       "      <td>Garlic &amp; Ginger Spiced Potato Wedges Recipe (B...</td>\n",
       "      <td>,4 Potatoes (Aloo),4 tablespoons Extra Virgin ...</td>\n",
       "      <td>,4 Potatoes (Aloo),4 tablespoons Extra Virgin ...</td>\n",
       "      <td>10</td>\n",
       "      <td>60</td>\n",
       "      <td>70</td>\n",
       "      <td>4</td>\n",
       "      <td>Continental</td>\n",
       "      <td>Snack</td>\n",
       "      <td>Vegetarian</td>\n",
       "      <td>To bake this delicious Garlic &amp; Ginger Spiced ...</td>\n",
       "      <td>To bake this delicious Garlic &amp; Ginger Spiced ...</td>\n",
       "    </tr>\n",
       "    <tr>\n",
       "      <th>2</th>\n",
       "      <td>Onion-Tomato Dosa Savoury Waffles Recipe</td>\n",
       "      <td>Onion-Tomato Dosa Savoury Waffles Recipe</td>\n",
       "      <td>,1 cup Idli Dosa Batter,2 Onions , finely chop...</td>\n",
       "      <td>,1 cup Idli Dosa Batter,2 Onions , finely chop...</td>\n",
       "      <td>10</td>\n",
       "      <td>10</td>\n",
       "      <td>20</td>\n",
       "      <td>3</td>\n",
       "      <td>Fusion</td>\n",
       "      <td>World Breakfast</td>\n",
       "      <td>Vegetarian</td>\n",
       "      <td>To begin making Onion-Tomato Dosa Savoury Waff...</td>\n",
       "      <td>To begin making Onion-Tomato Dosa Savoury Waff...</td>\n",
       "    </tr>\n",
       "    <tr>\n",
       "      <th>3</th>\n",
       "      <td>वेजिटेबल राइस उपमा रेसिपी - Vegetable Rice Upm...</td>\n",
       "      <td>Vegetable Rice Upma Recipe</td>\n",
       "      <td>,1 कप चावल,1 प्याज,1 टमाटर,4 हरी मिर्च , काट ल...</td>\n",
       "      <td>, 1 cup rice, 1 onion, 1 tomato, 4 green chill...</td>\n",
       "      <td>20</td>\n",
       "      <td>40</td>\n",
       "      <td>60</td>\n",
       "      <td>4</td>\n",
       "      <td>South Indian Recipes</td>\n",
       "      <td>South Indian Breakfast</td>\n",
       "      <td>Gluten Free</td>\n",
       "      <td>वेजिटेबल राइस उपमा बनाने के लिए सबसे पहले चावल...</td>\n",
       "      <td>To make vegetable rice upma, first soak rice i...</td>\n",
       "    </tr>\n",
       "    <tr>\n",
       "      <th>4</th>\n",
       "      <td>Pineapple And Semolina Sheera Recipe</td>\n",
       "      <td>Pineapple And Semolina Sheera Recipe</td>\n",
       "      <td>,1/2 cup Sooji (Semolina/ Rava),1/2 cup Ghee,1...</td>\n",
       "      <td>,1/2 cup Sooji (Semolina/ Rava),1/2 cup Ghee,1...</td>\n",
       "      <td>10</td>\n",
       "      <td>25</td>\n",
       "      <td>35</td>\n",
       "      <td>3</td>\n",
       "      <td>North Indian Recipes</td>\n",
       "      <td>Dessert</td>\n",
       "      <td>Vegetarian</td>\n",
       "      <td>To begin with Pineapple And Semolina Sheera Re...</td>\n",
       "      <td>To begin with Pineapple And Semolina Sheera Re...</td>\n",
       "    </tr>\n",
       "    <tr>\n",
       "      <th>5</th>\n",
       "      <td>Karnataka Style Mixed Vegetable Pulao Recipe</td>\n",
       "      <td>Karnataka Style Mixed Vegetable Pulao Recipe</td>\n",
       "      <td>,2 cups Basmati rice,2 Bay leaves (tej patta),...</td>\n",
       "      <td>,2 cups Basmati rice,2 Bay leaves (tej patta),...</td>\n",
       "      <td>30</td>\n",
       "      <td>30</td>\n",
       "      <td>60</td>\n",
       "      <td>4</td>\n",
       "      <td>Indian</td>\n",
       "      <td>Lunch</td>\n",
       "      <td>Vegetarian</td>\n",
       "      <td>To begin making Karnataka Style Mixed Vegetabl...</td>\n",
       "      <td>To begin making Karnataka Style Mixed Vegetabl...</td>\n",
       "    </tr>\n",
       "    <tr>\n",
       "      <th>6</th>\n",
       "      <td>चीसी बेक्ड जीटी पास्ता रेसिपी - Cheesy Baked Z...</td>\n",
       "      <td>PC Board GT Pasta Recipe - Cheesy Baked Ziti P...</td>\n",
       "      <td>,2 कप पास्ता , जीटी,2 छोटे चम्मच ओलिव का तेल,1...</td>\n",
       "      <td>, 2 cups pasta, GT, 2 tsp olive oil, 12 button...</td>\n",
       "      <td>10</td>\n",
       "      <td>40</td>\n",
       "      <td>50</td>\n",
       "      <td>4</td>\n",
       "      <td>Italian Recipes</td>\n",
       "      <td>Main Course</td>\n",
       "      <td>Vegetarian</td>\n",
       "      <td>चीसी बेक्ड जीटी पास्ता रेसिपी बनाने के लिए सबस...</td>\n",
       "      <td>To make Cheesy Baked GT Pasta Recipe we will f...</td>\n",
       "    </tr>\n",
       "    <tr>\n",
       "      <th>7</th>\n",
       "      <td>Chilli Ginger Vegetable Tofu Stir Fry Recipe</td>\n",
       "      <td>Chilli Ginger Vegetable Tofu Stir Fry Recipe</td>\n",
       "      <td>,250 grams Tofu , drained on paper and cut int...</td>\n",
       "      <td>,250 grams Tofu , drained on paper and cut int...</td>\n",
       "      <td>10</td>\n",
       "      <td>45</td>\n",
       "      <td>55</td>\n",
       "      <td>4</td>\n",
       "      <td>Asian</td>\n",
       "      <td>Dinner</td>\n",
       "      <td>High Protein Vegetarian</td>\n",
       "      <td>To begin making the Chilli Ginger Vegetable To...</td>\n",
       "      <td>To begin making the Chilli Ginger Vegetable To...</td>\n",
       "    </tr>\n",
       "    <tr>\n",
       "      <th>8</th>\n",
       "      <td>Kerala Style Mutton Pepper Fry Recipe</td>\n",
       "      <td>Kerala Style Mutton Pepper Fry Recipe</td>\n",
       "      <td>,400 grams Mutton,1 teaspoon Cumin powder (Jee...</td>\n",
       "      <td>,400 grams Mutton,1 teaspoon Cumin powder (Jee...</td>\n",
       "      <td>10</td>\n",
       "      <td>60</td>\n",
       "      <td>70</td>\n",
       "      <td>3</td>\n",
       "      <td>Kerala Recipes</td>\n",
       "      <td>Appetizer</td>\n",
       "      <td>Non Vegeterian</td>\n",
       "      <td>To begin making the Kerala Style Mutton Pepper...</td>\n",
       "      <td>To begin making the Kerala Style Mutton Pepper...</td>\n",
       "    </tr>\n",
       "    <tr>\n",
       "      <th>9</th>\n",
       "      <td>Khatta-Meetha Aam Ka Murabba Recipe</td>\n",
       "      <td>Sour-Sweet Mango Marmalade Recipe</td>\n",
       "      <td>,2 Mango (Raw),1-1/2 cups Sugar,1/2 cup Water,...</td>\n",
       "      <td>,2 Mango (Raw),1-1/2 cups Sugar,1/2 cup Water,...</td>\n",
       "      <td>20</td>\n",
       "      <td>60</td>\n",
       "      <td>80</td>\n",
       "      <td>6</td>\n",
       "      <td>Rajasthani</td>\n",
       "      <td>Side Dish</td>\n",
       "      <td>Vegetarian</td>\n",
       "      <td>To begin making the Khatta-Meetha Aam Ka Murab...</td>\n",
       "      <td>To begin making the Khatta-Meetha Aam Ka Murab...</td>\n",
       "    </tr>\n",
       "    <tr>\n",
       "      <th>10</th>\n",
       "      <td>Homemade Multigrain Baby Cereal Recipe (Baby P...</td>\n",
       "      <td>Homemade Multigrain Baby Cereal Recipe (Baby P...</td>\n",
       "      <td>,100 grams Brown Rice,100 grams Instant Oats (...</td>\n",
       "      <td>,100 grams Brown Rice,100 grams Instant Oats (...</td>\n",
       "      <td>10</td>\n",
       "      <td>30</td>\n",
       "      <td>40</td>\n",
       "      <td>2</td>\n",
       "      <td>Indian</td>\n",
       "      <td>Lunch</td>\n",
       "      <td>Vegetarian</td>\n",
       "      <td>To begin making the Homemade Multigrain Baby C...</td>\n",
       "      <td>To begin making the Homemade Multigrain Baby C...</td>\n",
       "    </tr>\n",
       "    <tr>\n",
       "      <th>11</th>\n",
       "      <td>रागी कांजी रेसिपी - Ragi Kanji (Recipe In Hindi)</td>\n",
       "      <td>Ragi Kanji Recipe</td>\n",
       "      <td>,2-1/2 कप पानी,3 बड़े चमच्च रागी का आटा,1 छोटा ...</td>\n",
       "      <td>, 2-1 / 2 cups water, 3 tablespoons ragi flour...</td>\n",
       "      <td>10</td>\n",
       "      <td>20</td>\n",
       "      <td>30</td>\n",
       "      <td>4</td>\n",
       "      <td>South Indian Recipes</td>\n",
       "      <td>South Indian Breakfast</td>\n",
       "      <td>Diabetic Friendly</td>\n",
       "      <td>रागी कांजी बनाने के लिए सबसे पहले एक सॉसपैन मे...</td>\n",
       "      <td>To make ragi kanji, first of all pour 2 cups o...</td>\n",
       "    </tr>\n",
       "    <tr>\n",
       "      <th>12</th>\n",
       "      <td>Detox Blueberry Salad Recipe</td>\n",
       "      <td>Detox Blueberry Salad Recipe</td>\n",
       "      <td>,3/4 cup Blueberries,3/4 cup Kale , spinach &amp; ...</td>\n",
       "      <td>,3/4 cup Blueberries,3/4 cup Kale , spinach &amp; ...</td>\n",
       "      <td>10</td>\n",
       "      <td>15</td>\n",
       "      <td>25</td>\n",
       "      <td>2</td>\n",
       "      <td>Continental</td>\n",
       "      <td>Dinner</td>\n",
       "      <td>Vegetarian</td>\n",
       "      <td>To begin making the Detox Blueberry Salad, fir...</td>\n",
       "      <td>To begin making the Detox Blueberry Salad, fir...</td>\n",
       "    </tr>\n",
       "  </tbody>\n",
       "</table>\n",
       "</div>"
      ],
      "text/plain": [
       "                                           RecipeName  ...                             TranslatedInstructions\n",
       "0                                  Mango Ladoo Recipe  ...  To begin making Mango Ladoo Recipe, preheat a ...\n",
       "1   Garlic & Ginger Spiced Potato Wedges Recipe (B...  ...  To bake this delicious Garlic & Ginger Spiced ...\n",
       "2            Onion-Tomato Dosa Savoury Waffles Recipe  ...  To begin making Onion-Tomato Dosa Savoury Waff...\n",
       "3   वेजिटेबल राइस उपमा रेसिपी - Vegetable Rice Upm...  ...  To make vegetable rice upma, first soak rice i...\n",
       "4                Pineapple And Semolina Sheera Recipe  ...  To begin with Pineapple And Semolina Sheera Re...\n",
       "5        Karnataka Style Mixed Vegetable Pulao Recipe  ...  To begin making Karnataka Style Mixed Vegetabl...\n",
       "6   चीसी बेक्ड जीटी पास्ता रेसिपी - Cheesy Baked Z...  ...  To make Cheesy Baked GT Pasta Recipe we will f...\n",
       "7        Chilli Ginger Vegetable Tofu Stir Fry Recipe  ...  To begin making the Chilli Ginger Vegetable To...\n",
       "8               Kerala Style Mutton Pepper Fry Recipe  ...  To begin making the Kerala Style Mutton Pepper...\n",
       "9                 Khatta-Meetha Aam Ka Murabba Recipe  ...  To begin making the Khatta-Meetha Aam Ka Murab...\n",
       "10  Homemade Multigrain Baby Cereal Recipe (Baby P...  ...  To begin making the Homemade Multigrain Baby C...\n",
       "11   रागी कांजी रेसिपी - Ragi Kanji (Recipe In Hindi)  ...  To make ragi kanji, first of all pour 2 cups o...\n",
       "12                       Detox Blueberry Salad Recipe  ...  To begin making the Detox Blueberry Salad, fir...\n",
       "\n",
       "[13 rows x 13 columns]"
      ]
     },
     "execution_count": 59,
     "metadata": {
      "tags": []
     },
     "output_type": "execute_result"
    }
   ],
   "source": [
    "df2"
   ]
  },
  {
   "cell_type": "code",
   "execution_count": null,
   "metadata": {
    "colab": {
     "base_uri": "https://localhost:8080/",
     "height": 235
    },
    "executionInfo": {
     "elapsed": 1044,
     "status": "ok",
     "timestamp": 1603318308976,
     "user": {
      "displayName": "Kanishka Sanjay Jain",
      "photoUrl": "",
      "userId": "12863580920738780925"
     },
     "user_tz": 240
    },
    "id": "7Oqu1mz_MukD",
    "outputId": "fa0cda29-5f28-4a11-eca6-0289416d85fe"
   },
   "outputs": [
    {
     "name": "stdout",
     "output_type": "stream",
     "text": [
      "Mango Ladoo Recipe\n",
      "Garlic & Ginger Spiced Potato Wedges Recipe (Baked)\n",
      "Onion-Tomato Dosa Savoury Waffles Recipe\n",
      "Vegetable Rice Upma Recipe\n",
      "Pineapple And Semolina Sheera Recipe\n",
      "Karnataka Style Mixed Vegetable Pulao Recipe\n",
      "PC Board GT Pasta Recipe - Cheesy Baked Ziti Pasta Recipe\n",
      "Chilli Ginger Vegetable Tofu Stir Fry Recipe\n",
      "Kerala Style Mutton Pepper Fry Recipe\n",
      "Sour-Sweet Mango Marmalade Recipe\n",
      "Homemade Multigrain Baby Cereal Recipe (Baby Porridge)\n",
      "Ragi Kanji Recipe\n",
      "Detox Blueberry Salad Recipe\n"
     ]
    }
   ],
   "source": [
    "# translated_recipename = []\n",
    "# for recipename in df['RecipeName']:\n",
    "#   recipename = translator.translate(recipename)\n",
    "#   translated_recipename.append(recipename.text)\n",
    "#   print(recipename.text)"
   ]
  },
  {
   "cell_type": "code",
   "execution_count": null,
   "metadata": {
    "id": "IZZLJfaTM1U9"
   },
   "outputs": [],
   "source": [
    "# df['TranslatedRecipeName'] = translated_recipename"
   ]
  },
  {
   "cell_type": "code",
   "execution_count": null,
   "metadata": {
    "colab": {
     "base_uri": "https://localhost:8080/",
     "height": 970
    },
    "executionInfo": {
     "elapsed": 340,
     "status": "ok",
     "timestamp": 1603318352610,
     "user": {
      "displayName": "Kanishka Sanjay Jain",
      "photoUrl": "",
      "userId": "12863580920738780925"
     },
     "user_tz": 240
    },
    "id": "tcv1P5btM2SF",
    "outputId": "f84f0e60-1b7a-44d4-9715-7833c9c2eab2"
   },
   "outputs": [
    {
     "data": {
      "text/html": [
       "<div>\n",
       "<style scoped>\n",
       "    .dataframe tbody tr th:only-of-type {\n",
       "        vertical-align: middle;\n",
       "    }\n",
       "\n",
       "    .dataframe tbody tr th {\n",
       "        vertical-align: top;\n",
       "    }\n",
       "\n",
       "    .dataframe thead th {\n",
       "        text-align: right;\n",
       "    }\n",
       "</style>\n",
       "<table border=\"1\" class=\"dataframe\">\n",
       "  <thead>\n",
       "    <tr style=\"text-align: right;\">\n",
       "      <th></th>\n",
       "      <th>RecipeName</th>\n",
       "      <th>Ingredients</th>\n",
       "      <th>Prep</th>\n",
       "      <th>Cook</th>\n",
       "      <th>Total</th>\n",
       "      <th>Servings</th>\n",
       "      <th>Cuisine</th>\n",
       "      <th>Type</th>\n",
       "      <th>Diet</th>\n",
       "      <th>Instructions</th>\n",
       "      <th>TranslatedRecipeName</th>\n",
       "    </tr>\n",
       "  </thead>\n",
       "  <tbody>\n",
       "    <tr>\n",
       "      <th>0</th>\n",
       "      <td>Mango Ladoo Recipe</td>\n",
       "      <td>,1/2 cup Mango Pulp (Puree),1 cup Dessicated C...</td>\n",
       "      <td>10</td>\n",
       "      <td>15</td>\n",
       "      <td>25</td>\n",
       "      <td>4</td>\n",
       "      <td>Indian</td>\n",
       "      <td>Dessert</td>\n",
       "      <td>Vegetarian</td>\n",
       "      <td>To begin making Mango Ladoo Recipe, preheat a ...</td>\n",
       "      <td>Mango Ladoo Recipe</td>\n",
       "    </tr>\n",
       "    <tr>\n",
       "      <th>1</th>\n",
       "      <td>Garlic &amp; Ginger Spiced Potato Wedges Recipe (B...</td>\n",
       "      <td>,4 Potatoes (Aloo),4 tablespoons Extra Virgin ...</td>\n",
       "      <td>10</td>\n",
       "      <td>60</td>\n",
       "      <td>70</td>\n",
       "      <td>4</td>\n",
       "      <td>Continental</td>\n",
       "      <td>Snack</td>\n",
       "      <td>Vegetarian</td>\n",
       "      <td>To bake this delicious Garlic &amp; Ginger Spiced ...</td>\n",
       "      <td>Garlic &amp; Ginger Spiced Potato Wedges Recipe (B...</td>\n",
       "    </tr>\n",
       "    <tr>\n",
       "      <th>2</th>\n",
       "      <td>Onion-Tomato Dosa Savoury Waffles Recipe</td>\n",
       "      <td>,1 cup Idli Dosa Batter,2 Onions , finely chop...</td>\n",
       "      <td>10</td>\n",
       "      <td>10</td>\n",
       "      <td>20</td>\n",
       "      <td>3</td>\n",
       "      <td>Fusion</td>\n",
       "      <td>World Breakfast</td>\n",
       "      <td>Vegetarian</td>\n",
       "      <td>To begin making Onion-Tomato Dosa Savoury Waff...</td>\n",
       "      <td>Onion-Tomato Dosa Savoury Waffles Recipe</td>\n",
       "    </tr>\n",
       "    <tr>\n",
       "      <th>3</th>\n",
       "      <td>वेजिटेबल राइस उपमा रेसिपी - Vegetable Rice Upm...</td>\n",
       "      <td>,1 कप चावल,1 प्याज,1 टमाटर,4 हरी मिर्च , काट ल...</td>\n",
       "      <td>20</td>\n",
       "      <td>40</td>\n",
       "      <td>60</td>\n",
       "      <td>4</td>\n",
       "      <td>South Indian Recipes</td>\n",
       "      <td>South Indian Breakfast</td>\n",
       "      <td>Gluten Free</td>\n",
       "      <td>वेजिटेबल राइस उपमा बनाने के लिए सबसे पहले चावल...</td>\n",
       "      <td>Vegetable Rice Upma Recipe</td>\n",
       "    </tr>\n",
       "    <tr>\n",
       "      <th>4</th>\n",
       "      <td>Pineapple And Semolina Sheera Recipe</td>\n",
       "      <td>,1/2 cup Sooji (Semolina/ Rava),1/2 cup Ghee,1...</td>\n",
       "      <td>10</td>\n",
       "      <td>25</td>\n",
       "      <td>35</td>\n",
       "      <td>3</td>\n",
       "      <td>North Indian Recipes</td>\n",
       "      <td>Dessert</td>\n",
       "      <td>Vegetarian</td>\n",
       "      <td>To begin with Pineapple And Semolina Sheera Re...</td>\n",
       "      <td>Pineapple And Semolina Sheera Recipe</td>\n",
       "    </tr>\n",
       "    <tr>\n",
       "      <th>5</th>\n",
       "      <td>Karnataka Style Mixed Vegetable Pulao Recipe</td>\n",
       "      <td>,2 cups Basmati rice,2 Bay leaves (tej patta),...</td>\n",
       "      <td>30</td>\n",
       "      <td>30</td>\n",
       "      <td>60</td>\n",
       "      <td>4</td>\n",
       "      <td>Indian</td>\n",
       "      <td>Lunch</td>\n",
       "      <td>Vegetarian</td>\n",
       "      <td>To begin making Karnataka Style Mixed Vegetabl...</td>\n",
       "      <td>Karnataka Style Mixed Vegetable Pulao Recipe</td>\n",
       "    </tr>\n",
       "    <tr>\n",
       "      <th>6</th>\n",
       "      <td>चीसी बेक्ड जीटी पास्ता रेसिपी - Cheesy Baked Z...</td>\n",
       "      <td>,2 कप पास्ता , जीटी,2 छोटे चम्मच ओलिव का तेल,1...</td>\n",
       "      <td>10</td>\n",
       "      <td>40</td>\n",
       "      <td>50</td>\n",
       "      <td>4</td>\n",
       "      <td>Italian Recipes</td>\n",
       "      <td>Main Course</td>\n",
       "      <td>Vegetarian</td>\n",
       "      <td>चीसी बेक्ड जीटी पास्ता रेसिपी बनाने के लिए सबस...</td>\n",
       "      <td>PC Board GT Pasta Recipe - Cheesy Baked Ziti P...</td>\n",
       "    </tr>\n",
       "    <tr>\n",
       "      <th>7</th>\n",
       "      <td>Chilli Ginger Vegetable Tofu Stir Fry Recipe</td>\n",
       "      <td>,250 grams Tofu , drained on paper and cut int...</td>\n",
       "      <td>10</td>\n",
       "      <td>45</td>\n",
       "      <td>55</td>\n",
       "      <td>4</td>\n",
       "      <td>Asian</td>\n",
       "      <td>Dinner</td>\n",
       "      <td>High Protein Vegetarian</td>\n",
       "      <td>To begin making the Chilli Ginger Vegetable To...</td>\n",
       "      <td>Chilli Ginger Vegetable Tofu Stir Fry Recipe</td>\n",
       "    </tr>\n",
       "    <tr>\n",
       "      <th>8</th>\n",
       "      <td>Kerala Style Mutton Pepper Fry Recipe</td>\n",
       "      <td>,400 grams Mutton,1 teaspoon Cumin powder (Jee...</td>\n",
       "      <td>10</td>\n",
       "      <td>60</td>\n",
       "      <td>70</td>\n",
       "      <td>3</td>\n",
       "      <td>Kerala Recipes</td>\n",
       "      <td>Appetizer</td>\n",
       "      <td>Non Vegeterian</td>\n",
       "      <td>To begin making the Kerala Style Mutton Pepper...</td>\n",
       "      <td>Kerala Style Mutton Pepper Fry Recipe</td>\n",
       "    </tr>\n",
       "    <tr>\n",
       "      <th>9</th>\n",
       "      <td>Khatta-Meetha Aam Ka Murabba Recipe</td>\n",
       "      <td>,2 Mango (Raw),1-1/2 cups Sugar,1/2 cup Water,...</td>\n",
       "      <td>20</td>\n",
       "      <td>60</td>\n",
       "      <td>80</td>\n",
       "      <td>6</td>\n",
       "      <td>Rajasthani</td>\n",
       "      <td>Side Dish</td>\n",
       "      <td>Vegetarian</td>\n",
       "      <td>To begin making the Khatta-Meetha Aam Ka Murab...</td>\n",
       "      <td>Sour-Sweet Mango Marmalade Recipe</td>\n",
       "    </tr>\n",
       "    <tr>\n",
       "      <th>10</th>\n",
       "      <td>Homemade Multigrain Baby Cereal Recipe (Baby P...</td>\n",
       "      <td>,100 grams Brown Rice,100 grams Instant Oats (...</td>\n",
       "      <td>10</td>\n",
       "      <td>30</td>\n",
       "      <td>40</td>\n",
       "      <td>2</td>\n",
       "      <td>Indian</td>\n",
       "      <td>Lunch</td>\n",
       "      <td>Vegetarian</td>\n",
       "      <td>To begin making the Homemade Multigrain Baby C...</td>\n",
       "      <td>Homemade Multigrain Baby Cereal Recipe (Baby P...</td>\n",
       "    </tr>\n",
       "    <tr>\n",
       "      <th>11</th>\n",
       "      <td>रागी कांजी रेसिपी - Ragi Kanji (Recipe In Hindi)</td>\n",
       "      <td>,2-1/2 कप पानी,3 बड़े चमच्च रागी का आटा,1 छोटा ...</td>\n",
       "      <td>10</td>\n",
       "      <td>20</td>\n",
       "      <td>30</td>\n",
       "      <td>4</td>\n",
       "      <td>South Indian Recipes</td>\n",
       "      <td>South Indian Breakfast</td>\n",
       "      <td>Diabetic Friendly</td>\n",
       "      <td>रागी कांजी बनाने के लिए सबसे पहले एक सॉसपैन मे...</td>\n",
       "      <td>Ragi Kanji Recipe</td>\n",
       "    </tr>\n",
       "    <tr>\n",
       "      <th>12</th>\n",
       "      <td>Detox Blueberry Salad Recipe</td>\n",
       "      <td>,3/4 cup Blueberries,3/4 cup Kale , spinach &amp; ...</td>\n",
       "      <td>10</td>\n",
       "      <td>15</td>\n",
       "      <td>25</td>\n",
       "      <td>2</td>\n",
       "      <td>Continental</td>\n",
       "      <td>Dinner</td>\n",
       "      <td>Vegetarian</td>\n",
       "      <td>To begin making the Detox Blueberry Salad, fir...</td>\n",
       "      <td>Detox Blueberry Salad Recipe</td>\n",
       "    </tr>\n",
       "  </tbody>\n",
       "</table>\n",
       "</div>"
      ],
      "text/plain": [
       "                                           RecipeName  ...                               TranslatedRecipeName\n",
       "0                                  Mango Ladoo Recipe  ...                                 Mango Ladoo Recipe\n",
       "1   Garlic & Ginger Spiced Potato Wedges Recipe (B...  ...  Garlic & Ginger Spiced Potato Wedges Recipe (B...\n",
       "2            Onion-Tomato Dosa Savoury Waffles Recipe  ...           Onion-Tomato Dosa Savoury Waffles Recipe\n",
       "3   वेजिटेबल राइस उपमा रेसिपी - Vegetable Rice Upm...  ...                         Vegetable Rice Upma Recipe\n",
       "4                Pineapple And Semolina Sheera Recipe  ...               Pineapple And Semolina Sheera Recipe\n",
       "5        Karnataka Style Mixed Vegetable Pulao Recipe  ...       Karnataka Style Mixed Vegetable Pulao Recipe\n",
       "6   चीसी बेक्ड जीटी पास्ता रेसिपी - Cheesy Baked Z...  ...  PC Board GT Pasta Recipe - Cheesy Baked Ziti P...\n",
       "7        Chilli Ginger Vegetable Tofu Stir Fry Recipe  ...       Chilli Ginger Vegetable Tofu Stir Fry Recipe\n",
       "8               Kerala Style Mutton Pepper Fry Recipe  ...              Kerala Style Mutton Pepper Fry Recipe\n",
       "9                 Khatta-Meetha Aam Ka Murabba Recipe  ...                  Sour-Sweet Mango Marmalade Recipe\n",
       "10  Homemade Multigrain Baby Cereal Recipe (Baby P...  ...  Homemade Multigrain Baby Cereal Recipe (Baby P...\n",
       "11   रागी कांजी रेसिपी - Ragi Kanji (Recipe In Hindi)  ...                                  Ragi Kanji Recipe\n",
       "12                       Detox Blueberry Salad Recipe  ...                       Detox Blueberry Salad Recipe\n",
       "\n",
       "[13 rows x 11 columns]"
      ]
     },
     "execution_count": 32,
     "metadata": {
      "tags": []
     },
     "output_type": "execute_result"
    }
   ],
   "source": [
    "df"
   ]
  },
  {
   "cell_type": "code",
   "execution_count": null,
   "metadata": {
    "id": "PqWdNWnCOIig"
   },
   "outputs": [],
   "source": []
  }
 ],
 "metadata": {
  "colab": {
   "authorship_tag": "ABX9TyMEffjRAFIgpsRZRY2m2zBS",
   "collapsed_sections": [],
   "mount_file_id": "1OrnU5YEZzFi8Ac42Q9se3YhI7lSYN-r4",
   "name": "TranslationOfHindi.ipynb",
   "provenance": []
  },
  "kernelspec": {
   "display_name": "Python 3",
   "language": "python",
   "name": "python3"
  },
  "language_info": {
   "codemirror_mode": {
    "name": "ipython",
    "version": 3
   },
   "file_extension": ".py",
   "mimetype": "text/x-python",
   "name": "python",
   "nbconvert_exporter": "python",
   "pygments_lexer": "ipython3",
   "version": "3.7.9"
  }
 },
 "nbformat": 4,
 "nbformat_minor": 1
}
