{
 "cells": [
  {
   "cell_type": "code",
   "execution_count": null,
   "metadata": {},
   "outputs": [],
   "source": [
    "import pandas as pd\n",
    "import numpy as np\n",
    "from pandas import DataFrame\n",
    "from urllib.request import urlopen as uReq\n",
    "from bs4 import BeautifulSoup as soup\n",
    "import re\n",
    "import csv"
   ]
  },
  {
   "cell_type": "code",
   "execution_count": null,
   "metadata": {},
   "outputs": [],
   "source": [
    "recipe_url = pd.read_csv('/content/drive/My Drive/Projects/FoodDataset/urls_recipe6k_clean.csv')"
   ]
  },
  {
   "cell_type": "code",
   "execution_count": null,
   "metadata": {},
   "outputs": [],
   "source": [
    "recipe_urls = recipe_url['URL']"
   ]
  },
  {
   "cell_type": "code",
   "execution_count": null,
   "metadata": {},
   "outputs": [],
   "source": [
    "total_values=len(recipe_urls)"
   ]
  },
  {
   "cell_type": "code",
   "execution_count": null,
   "metadata": {},
   "outputs": [],
   "source": [
    "\n",
    "count = 0\n",
    "for url in recipe_urls:\n",
    "    # count = count+1\n",
    "  count = count+1\n",
    "  print(f'{count} of {total_values}')\n",
    "  try:\n",
    "    myurl= url\n",
    "    uClient = uReq(myurl)\n",
    "    page_html = uClient.read()\n",
    "    uClient.close()\n",
    "  except:\n",
    "    print(\"ErrorHTTP\")\n",
    "  \n",
    "  try:\n",
    "    page_soup = soup(page_html, \"html.parser\")\n",
    "  except:\n",
    "    print('ErrorParsing')\n",
    "\n",
    "  try:\n",
    "    recipe_name = page_soup.find(\"h1\",{\"class\":\"recipe-title\"}).text\n",
    "  except:\n",
    "    print('ErrorTitle')\n",
    "# recipe_name\n",
    "\n",
    "\n",
    "  try:\n",
    "\n",
    "    div_ingredients = page_soup.find(\"div\",{\"class\":\"recipeingredients\"})\n",
    "    ul_ingredients = div_ingredients.find(\"ul\",{\"class\":\"list-unstyled\"})\n",
    "    li_ingredients = ul_ingredients.findAll(\"li\")\n",
    "    li_ingredients\n",
    "    ingredients = []\n",
    "    string_ingredients_column = \"\"\n",
    "    for ingredient in li_ingredients:\n",
    "      ingredient_single = ingredient.text\n",
    "      ingredient_single = ingredient.text.replace('\\n','')\n",
    "      ingredient_single = ingredient_single.replace('\\t','')\n",
    "      ingredient_single = ingredient_single.strip()\n",
    "        # print(ingredient_single)\n",
    "      string_ingredients_column = string_ingredients_column + ','+ingredient_single\n",
    "      ingredients.append(ingredient_single)\n",
    "      # string_ingredients_column\n",
    "  except:\n",
    "    print(\"ErrorIngredients\")\n",
    "\n",
    "  try:\n",
    "    div_numbers = page_soup.find(\"div\",{\"class\":\"RecipeServesTime\"})\n",
    "    pre_numbers = div_numbers.text.replace('\\n','')\n",
    "    pre_numbers = pre_numbers.replace('\\t','')\n",
    "    numbers = [int(i) for i in pre_numbers.split() if i.isdigit()] \n",
    "      # numbers\n",
    "    prep_time = numbers[0]\n",
    "    cooks_in = numbers[1]\n",
    "    total_time = numbers[2]\n",
    "    servings = numbers[3]\n",
    "\n",
    "  except:\n",
    "    print('ErrorNumbers')\n",
    "\n",
    "  try:\n",
    "    div_cuisineandcourse = page_soup.find(\"div\",{\"class\":\"cuisineandcourse\"})\n",
    "    div_cuisineandcourse_items=div_cuisineandcourse.findAll(\"span\")\n",
    "    cuisine = div_cuisineandcourse_items[0].text\n",
    "    course = div_cuisineandcourse_items[1].text\n",
    "    diet = div_cuisineandcourse_items[2].text\n",
    "  except:\n",
    "    print('ErrorCuisine')\n",
    "\n",
    "  try:\n",
    "    div_recipe_instructions = page_soup.find(\"div\",{\"class\":\"recipeinstructions\"})\n",
    "    recipe_instructions = div_recipe_instructions.text\n",
    "    recipe_instructions_remove_first_line = recipe_instructions.split(\"\\n\",2)[2]\n",
    "    # recipe_instructions_remove_first_line\n",
    "\n",
    "  except:\n",
    "    print(\"ErrorInstructions\")\n",
    "\n",
    "  all_data = [recipe_name,string_ingredients_column,prep_time,cooks_in,total_time,servings,cuisine,course,diet,recipe_instructions_remove_first_line]\n",
    "\n",
    "    # filename = 'makedata3.csv'\n",
    "  try:\n",
    "    with open(rf'/content/drive/My Drive/Projects/FoodDataset/makedata11.csv','a') as f:\n",
    "      writer = csv.writer(f)\n",
    "      writer.writerow(all_data)\n",
    "  except:\n",
    "    print('ErrorWriting')"
   ]
  },
  {
   "cell_type": "code",
   "execution_count": null,
   "metadata": {},
   "outputs": [],
   "source": []
  }
 ],
 "metadata": {
  "kernelspec": {
   "display_name": "Python 3.7 (tensorflow)",
   "language": "python",
   "name": "tensorflow"
  },
  "language_info": {
   "codemirror_mode": {
    "name": "ipython",
    "version": 3
   },
   "file_extension": ".py",
   "mimetype": "text/x-python",
   "name": "python",
   "nbconvert_exporter": "python",
   "pygments_lexer": "ipython3",
   "version": "3.7.9"
  }
 },
 "nbformat": 4,
 "nbformat_minor": 4
}
