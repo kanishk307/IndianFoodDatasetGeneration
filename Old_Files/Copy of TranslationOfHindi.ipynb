{
 "cells": [
  {
   "cell_type": "code",
   "execution_count": 4,
   "metadata": {
    "colab": {
     "base_uri": "https://localhost:8080/",
     "height": 289
    },
    "executionInfo": {
     "elapsed": 3228,
     "status": "ok",
     "timestamp": 1603348942197,
     "user": {
      "displayName": "Kanishka Sanjay Jain",
      "photoUrl": "",
      "userId": "12863580920738780925"
     },
     "user_tz": 240
    },
    "id": "IQEWs8OrK7g9",
    "outputId": "8e3b8544-c555-4753-be30-253b64a27468"
   },
   "outputs": [
    {
     "name": "stdout",
     "output_type": "stream",
     "text": [
      "Requirement already satisfied: googletrans in /usr/local/lib/python3.6/dist-packages (3.0.0)\n",
      "Requirement already satisfied: httpx==0.13.3 in /usr/local/lib/python3.6/dist-packages (from googletrans) (0.13.3)\n",
      "Requirement already satisfied: certifi in /usr/local/lib/python3.6/dist-packages (from httpx==0.13.3->googletrans) (2020.6.20)\n",
      "Requirement already satisfied: rfc3986<2,>=1.3 in /usr/local/lib/python3.6/dist-packages (from httpx==0.13.3->googletrans) (1.4.0)\n",
      "Requirement already satisfied: sniffio in /usr/local/lib/python3.6/dist-packages (from httpx==0.13.3->googletrans) (1.2.0)\n",
      "Requirement already satisfied: hstspreload in /usr/local/lib/python3.6/dist-packages (from httpx==0.13.3->googletrans) (2020.10.20)\n",
      "Requirement already satisfied: idna==2.* in /usr/local/lib/python3.6/dist-packages (from httpx==0.13.3->googletrans) (2.10)\n",
      "Requirement already satisfied: httpcore==0.9.* in /usr/local/lib/python3.6/dist-packages (from httpx==0.13.3->googletrans) (0.9.1)\n",
      "Requirement already satisfied: chardet==3.* in /usr/local/lib/python3.6/dist-packages (from httpx==0.13.3->googletrans) (3.0.4)\n",
      "Requirement already satisfied: contextvars>=2.1; python_version < \"3.7\" in /usr/local/lib/python3.6/dist-packages (from sniffio->httpx==0.13.3->googletrans) (2.4)\n",
      "Requirement already satisfied: h2==3.* in /usr/local/lib/python3.6/dist-packages (from httpcore==0.9.*->httpx==0.13.3->googletrans) (3.2.0)\n",
      "Requirement already satisfied: h11<0.10,>=0.8 in /usr/local/lib/python3.6/dist-packages (from httpcore==0.9.*->httpx==0.13.3->googletrans) (0.9.0)\n",
      "Requirement already satisfied: immutables>=0.9 in /usr/local/lib/python3.6/dist-packages (from contextvars>=2.1; python_version < \"3.7\"->sniffio->httpx==0.13.3->googletrans) (0.14)\n",
      "Requirement already satisfied: hyperframe<6,>=5.2.0 in /usr/local/lib/python3.6/dist-packages (from h2==3.*->httpcore==0.9.*->httpx==0.13.3->googletrans) (5.2.0)\n",
      "Requirement already satisfied: hpack<4,>=3.0 in /usr/local/lib/python3.6/dist-packages (from h2==3.*->httpcore==0.9.*->httpx==0.13.3->googletrans) (3.0.0)\n"
     ]
    }
   ],
   "source": [
    "!pip install googletrans"
   ]
  },
  {
   "cell_type": "code",
   "execution_count": 5,
   "metadata": {
    "executionInfo": {
     "elapsed": 607,
     "status": "ok",
     "timestamp": 1603348944444,
     "user": {
      "displayName": "Kanishka Sanjay Jain",
      "photoUrl": "",
      "userId": "12863580920738780925"
     },
     "user_tz": 240
    },
    "id": "q2RoJDYmLTT9"
   },
   "outputs": [],
   "source": [
    "from googletrans import Translator\n",
    "import pandas as pd\n",
    "import numpy as np\n",
    "from pandas import *\n",
    "from IPython.display import clear_output"
   ]
  },
  {
   "cell_type": "code",
   "execution_count": 6,
   "metadata": {
    "executionInfo": {
     "elapsed": 4600,
     "status": "ok",
     "timestamp": 1603348949132,
     "user": {
      "displayName": "Kanishka Sanjay Jain",
      "photoUrl": "",
      "userId": "12863580920738780925"
     },
     "user_tz": 240
    },
    "id": "4LpIOuiGLX2g"
   },
   "outputs": [],
   "source": [
    "df2 = pd.read_csv('/content/drive/My Drive/Projects/FoodDataset/makedata11.csv',names=[\"RecipeName\",\"Ingredients\", \"PrepTimeInMins\", \"CookTimeInMins\",\"TotalTimeInMins\",\"Servings\",\"Cuisine\",\"Course\",\"Diet\",\"Instructions\"],index_col=False)"
   ]
  },
  {
   "cell_type": "code",
   "execution_count": 7,
   "metadata": {
    "colab": {
     "base_uri": "https://localhost:8080/",
     "height": 889
    },
    "executionInfo": {
     "elapsed": 612,
     "status": "ok",
     "timestamp": 1603348951525,
     "user": {
      "displayName": "Kanishka Sanjay Jain",
      "photoUrl": "",
      "userId": "12863580920738780925"
     },
     "user_tz": 240
    },
    "id": "ffDRvl_0LrCk",
    "outputId": "21ed14ed-9fad-460d-8423-492f5ca25afc"
   },
   "outputs": [
    {
     "data": {
      "text/html": [
       "<div>\n",
       "<style scoped>\n",
       "    .dataframe tbody tr th:only-of-type {\n",
       "        vertical-align: middle;\n",
       "    }\n",
       "\n",
       "    .dataframe tbody tr th {\n",
       "        vertical-align: top;\n",
       "    }\n",
       "\n",
       "    .dataframe thead th {\n",
       "        text-align: right;\n",
       "    }\n",
       "</style>\n",
       "<table border=\"1\" class=\"dataframe\">\n",
       "  <thead>\n",
       "    <tr style=\"text-align: right;\">\n",
       "      <th></th>\n",
       "      <th>RecipeName</th>\n",
       "      <th>Ingredients</th>\n",
       "      <th>PrepTimeInMins</th>\n",
       "      <th>CookTimeInMins</th>\n",
       "      <th>TotalTimeInMins</th>\n",
       "      <th>Servings</th>\n",
       "      <th>Cuisine</th>\n",
       "      <th>Course</th>\n",
       "      <th>Diet</th>\n",
       "      <th>Instructions</th>\n",
       "    </tr>\n",
       "  </thead>\n",
       "  <tbody>\n",
       "    <tr>\n",
       "      <th>0</th>\n",
       "      <td>Masala Karela Recipe</td>\n",
       "      <td>,6 Karela (Bitter Gourd/ Pavakkai) , deseeded,...</td>\n",
       "      <td>15</td>\n",
       "      <td>30</td>\n",
       "      <td>45</td>\n",
       "      <td>6</td>\n",
       "      <td>Indian</td>\n",
       "      <td>Side Dish</td>\n",
       "      <td>Diabetic Friendly</td>\n",
       "      <td>To begin making the Masala Karela Recipe,de-se...</td>\n",
       "    </tr>\n",
       "    <tr>\n",
       "      <th>1</th>\n",
       "      <td>टमाटर पुलियोगरे रेसिपी - Spicy Tomato Rice (Re...</td>\n",
       "      <td>,2-1/2 कप चावल , पका ले,3 टमाटर,3 छोटा चमच्च ब...</td>\n",
       "      <td>5</td>\n",
       "      <td>10</td>\n",
       "      <td>15</td>\n",
       "      <td>3</td>\n",
       "      <td>South Indian Recipes</td>\n",
       "      <td>Main Course</td>\n",
       "      <td>Vegetarian</td>\n",
       "      <td>टमाटर पुलियोगरे बनाने के लिए सबसे पहले टमाटर क...</td>\n",
       "    </tr>\n",
       "    <tr>\n",
       "      <th>2</th>\n",
       "      <td>Ragi Semiya Upma Recipe - Ragi Millet Vermicel...</td>\n",
       "      <td>,1-1/2 cups Rice Vermicelli Noodles (Thin),1 O...</td>\n",
       "      <td>20</td>\n",
       "      <td>30</td>\n",
       "      <td>50</td>\n",
       "      <td>4</td>\n",
       "      <td>South Indian Recipes</td>\n",
       "      <td>South Indian Breakfast</td>\n",
       "      <td>High Protein Vegetarian</td>\n",
       "      <td>To begin making the Ragi Vermicelli Recipe, fi...</td>\n",
       "    </tr>\n",
       "    <tr>\n",
       "      <th>3</th>\n",
       "      <td>Gongura Chicken Curry Recipe - Andhra Style Go...</td>\n",
       "      <td>,500 grams Chicken,2 Onion , chopped,1 Tomato ...</td>\n",
       "      <td>15</td>\n",
       "      <td>30</td>\n",
       "      <td>45</td>\n",
       "      <td>4</td>\n",
       "      <td>Andhra</td>\n",
       "      <td>Lunch</td>\n",
       "      <td>Non Vegeterian</td>\n",
       "      <td>To begin making Gongura Chicken Curry Recipe f...</td>\n",
       "    </tr>\n",
       "    <tr>\n",
       "      <th>4</th>\n",
       "      <td>आंध्रा स्टाइल आलम पचड़ी रेसिपी - Adrak Chutney ...</td>\n",
       "      <td>,1 बड़ा चमच्च चना दाल,1 बड़ा चमच्च सफ़ेद उरद दाल,...</td>\n",
       "      <td>10</td>\n",
       "      <td>20</td>\n",
       "      <td>30</td>\n",
       "      <td>4</td>\n",
       "      <td>Andhra</td>\n",
       "      <td>South Indian Breakfast</td>\n",
       "      <td>Vegetarian</td>\n",
       "      <td>आंध्रा स्टाइल आलम पचड़ी बनाने के लिए सबसे पहले ...</td>\n",
       "    </tr>\n",
       "    <tr>\n",
       "      <th>...</th>\n",
       "      <td>...</td>\n",
       "      <td>...</td>\n",
       "      <td>...</td>\n",
       "      <td>...</td>\n",
       "      <td>...</td>\n",
       "      <td>...</td>\n",
       "      <td>...</td>\n",
       "      <td>...</td>\n",
       "      <td>...</td>\n",
       "      <td>...</td>\n",
       "    </tr>\n",
       "    <tr>\n",
       "      <th>14225</th>\n",
       "      <td>Kashmiri Style Kokur Yakhni Recipe-Chicken Coo...</td>\n",
       "      <td>,1 kg Chicken , medium pieces,1/2 cup Mustard ...</td>\n",
       "      <td>30</td>\n",
       "      <td>45</td>\n",
       "      <td>75</td>\n",
       "      <td>4</td>\n",
       "      <td>Kashmiri</td>\n",
       "      <td>Lunch</td>\n",
       "      <td>Non Vegeterian</td>\n",
       "      <td>To begin making the Kashmiri Kokur Yakhni reci...</td>\n",
       "    </tr>\n",
       "    <tr>\n",
       "      <th>14226</th>\n",
       "      <td>Shimla Mirchi Panchamrut Recipe | Konkani Caps...</td>\n",
       "      <td>,2 Green Bell Pepper (Capsicum) , diced small,...</td>\n",
       "      <td>20</td>\n",
       "      <td>20</td>\n",
       "      <td>40</td>\n",
       "      <td>4</td>\n",
       "      <td>Konkan</td>\n",
       "      <td>Main Course</td>\n",
       "      <td>Vegetarian</td>\n",
       "      <td>To begin making Shimla Mirchi Panchamrut Recip...</td>\n",
       "    </tr>\n",
       "    <tr>\n",
       "      <th>14227</th>\n",
       "      <td>Kerala Cheriya Ulli Sambar Recipe</td>\n",
       "      <td>,1/2 cup Arhar dal (Split Toor Dal) , soaked f...</td>\n",
       "      <td>10</td>\n",
       "      <td>30</td>\n",
       "      <td>40</td>\n",
       "      <td>2</td>\n",
       "      <td>Karnataka</td>\n",
       "      <td>Lunch</td>\n",
       "      <td>High Protein Vegetarian</td>\n",
       "      <td>To start making Kerala Cheriya Ulli Sambar, in...</td>\n",
       "    </tr>\n",
       "    <tr>\n",
       "      <th>14228</th>\n",
       "      <td>Pav Bhaji Flavored Pasta Recipe-Fusion Fusilli...</td>\n",
       "      <td>,2 cup Pasta  Fusilli , cooked as per instruct...</td>\n",
       "      <td>15</td>\n",
       "      <td>20</td>\n",
       "      <td>35</td>\n",
       "      <td>2</td>\n",
       "      <td>Fusion</td>\n",
       "      <td>Main Course</td>\n",
       "      <td>Vegetarian</td>\n",
       "      <td>To begin making Pav Bhaji Flavored Pasta Recip...</td>\n",
       "    </tr>\n",
       "    <tr>\n",
       "      <th>14229</th>\n",
       "      <td>Keerai Masiyal Recipe (Stir Fried Green with M...</td>\n",
       "      <td>,500 grams Greens , finely chopped (like spina...</td>\n",
       "      <td>15</td>\n",
       "      <td>20</td>\n",
       "      <td>35</td>\n",
       "      <td>4</td>\n",
       "      <td>South Indian Recipes</td>\n",
       "      <td>Side Dish</td>\n",
       "      <td>High Protein Vegetarian</td>\n",
       "      <td>To begin making the Keerai Masiyal Recipe, we ...</td>\n",
       "    </tr>\n",
       "  </tbody>\n",
       "</table>\n",
       "<p>14230 rows × 10 columns</p>\n",
       "</div>"
      ],
      "text/plain": [
       "                                              RecipeName  ...                                       Instructions\n",
       "0                                   Masala Karela Recipe  ...  To begin making the Masala Karela Recipe,de-se...\n",
       "1      टमाटर पुलियोगरे रेसिपी - Spicy Tomato Rice (Re...  ...  टमाटर पुलियोगरे बनाने के लिए सबसे पहले टमाटर क...\n",
       "2      Ragi Semiya Upma Recipe - Ragi Millet Vermicel...  ...  To begin making the Ragi Vermicelli Recipe, fi...\n",
       "3      Gongura Chicken Curry Recipe - Andhra Style Go...  ...  To begin making Gongura Chicken Curry Recipe f...\n",
       "4      आंध्रा स्टाइल आलम पचड़ी रेसिपी - Adrak Chutney ...  ...  आंध्रा स्टाइल आलम पचड़ी बनाने के लिए सबसे पहले ...\n",
       "...                                                  ...  ...                                                ...\n",
       "14225  Kashmiri Style Kokur Yakhni Recipe-Chicken Coo...  ...  To begin making the Kashmiri Kokur Yakhni reci...\n",
       "14226  Shimla Mirchi Panchamrut Recipe | Konkani Caps...  ...  To begin making Shimla Mirchi Panchamrut Recip...\n",
       "14227                  Kerala Cheriya Ulli Sambar Recipe  ...  To start making Kerala Cheriya Ulli Sambar, in...\n",
       "14228  Pav Bhaji Flavored Pasta Recipe-Fusion Fusilli...  ...  To begin making Pav Bhaji Flavored Pasta Recip...\n",
       "14229  Keerai Masiyal Recipe (Stir Fried Green with M...  ...  To begin making the Keerai Masiyal Recipe, we ...\n",
       "\n",
       "[14230 rows x 10 columns]"
      ]
     },
     "execution_count": 7,
     "metadata": {
      "tags": []
     },
     "output_type": "execute_result"
    }
   ],
   "source": [
    "df2"
   ]
  },
  {
   "cell_type": "code",
   "execution_count": 8,
   "metadata": {
    "executionInfo": {
     "elapsed": 826,
     "status": "ok",
     "timestamp": 1603348954350,
     "user": {
      "displayName": "Kanishka Sanjay Jain",
      "photoUrl": "",
      "userId": "12863580920738780925"
     },
     "user_tz": 240
    },
    "id": "cj30ZgLTLrX9"
   },
   "outputs": [],
   "source": [
    "translator = Translator()"
   ]
  },
  {
   "cell_type": "code",
   "execution_count": 9,
   "metadata": {
    "executionInfo": {
     "elapsed": 601,
     "status": "ok",
     "timestamp": 1603348954351,
     "user": {
      "displayName": "Kanishka Sanjay Jain",
      "photoUrl": "",
      "userId": "12863580920738780925"
     },
     "user_tz": 240
    },
    "id": "TacMVUAfPGCy"
   },
   "outputs": [],
   "source": [
    "df = df2.copy()"
   ]
  },
  {
   "cell_type": "code",
   "execution_count": 10,
   "metadata": {
    "colab": {
     "base_uri": "https://localhost:8080/",
     "height": 34
    },
    "executionInfo": {
     "elapsed": 825,
     "status": "ok",
     "timestamp": 1603348954747,
     "user": {
      "displayName": "Kanishka Sanjay Jain",
      "photoUrl": "",
      "userId": "12863580920738780925"
     },
     "user_tz": 240
    },
    "id": "UefCDNt9cmLu",
    "outputId": "cf687e80-9fce-43bc-8a0c-f7dd54a65cee"
   },
   "outputs": [
    {
     "data": {
      "text/plain": [
       "(14230, 10)"
      ]
     },
     "execution_count": 10,
     "metadata": {
      "tags": []
     },
     "output_type": "execute_result"
    }
   ],
   "source": [
    "df.shape"
   ]
  },
  {
   "cell_type": "code",
   "execution_count": 11,
   "metadata": {
    "executionInfo": {
     "elapsed": 590,
     "status": "ok",
     "timestamp": 1603348956451,
     "user": {
      "displayName": "Kanishka Sanjay Jain",
      "photoUrl": "",
      "userId": "12863580920738780925"
     },
     "user_tz": 240
    },
    "id": "36-JNgwlONK9"
   },
   "outputs": [],
   "source": [
    "def translate_df_column(df,column_name,count):\n",
    "  total = len(df)\n",
    "  \n",
    "  translated_list = []\n",
    "  for item in df[column_name]:\n",
    "    count = count+1\n",
    "    # print(f'{count} of {total}')\n",
    "    clear_output(wait=True)\n",
    "    try:\n",
    "      item = translator.translate(item)\n",
    "      translated_item = item.text\n",
    "      translated_list.append(translated_item)\n",
    "    except Exception as e:\n",
    "      print(e)\n",
    "    print(\"Current Progress:\",np.round((count/total)*100,3),\"%\")\n",
    "  return translated_list"
   ]
  },
  {
   "cell_type": "code",
   "execution_count": 11,
   "metadata": {
    "executionInfo": {
     "elapsed": 286,
     "status": "ok",
     "timestamp": 1603348956708,
     "user": {
      "displayName": "Kanishka Sanjay Jain",
      "photoUrl": "",
      "userId": "12863580920738780925"
     },
     "user_tz": 240
    },
    "id": "K_AlSTaZ8meS"
   },
   "outputs": [],
   "source": []
  },
  {
   "cell_type": "code",
   "execution_count": 11,
   "metadata": {
    "executionInfo": {
     "elapsed": 425,
     "status": "ok",
     "timestamp": 1603348957329,
     "user": {
      "displayName": "Kanishka Sanjay Jain",
      "photoUrl": "",
      "userId": "12863580920738780925"
     },
     "user_tz": 240
    },
    "id": "bs1Bv5Ci8mAA"
   },
   "outputs": [],
   "source": []
  },
  {
   "cell_type": "code",
   "execution_count": 12,
   "metadata": {
    "executionInfo": {
     "elapsed": 508,
     "status": "ok",
     "timestamp": 1603348959575,
     "user": {
      "displayName": "Kanishka Sanjay Jain",
      "photoUrl": "",
      "userId": "12863580920738780925"
     },
     "user_tz": 240
    },
    "id": "VO9upN6UPRrn"
   },
   "outputs": [],
   "source": [
    "# def add_to_df(df,column_name,list1):\n",
    "#   df[column_name]=list1\n",
    "#   print(f\"Added {column_name}\")"
   ]
  },
  {
   "cell_type": "code",
   "execution_count": 12,
   "metadata": {
    "executionInfo": {
     "elapsed": 448,
     "status": "ok",
     "timestamp": 1603348959883,
     "user": {
      "displayName": "Kanishka Sanjay Jain",
      "photoUrl": "",
      "userId": "12863580920738780925"
     },
     "user_tz": 240
    },
    "id": "d93L3Z2E8uR6"
   },
   "outputs": [],
   "source": []
  },
  {
   "cell_type": "code",
   "execution_count": 12,
   "metadata": {
    "executionInfo": {
     "elapsed": 546,
     "status": "ok",
     "timestamp": 1603348960169,
     "user": {
      "displayName": "Kanishka Sanjay Jain",
      "photoUrl": "",
      "userId": "12863580920738780925"
     },
     "user_tz": 240
    },
    "id": "lOaJZqRF8uUW"
   },
   "outputs": [],
   "source": []
  },
  {
   "cell_type": "code",
   "execution_count": 12,
   "metadata": {
    "executionInfo": {
     "elapsed": 401,
     "status": "ok",
     "timestamp": 1603348960170,
     "user": {
      "displayName": "Kanishka Sanjay Jain",
      "photoUrl": "",
      "userId": "12863580920738780925"
     },
     "user_tz": 240
    },
    "id": "nQkHYT6182Ha"
   },
   "outputs": [],
   "source": []
  },
  {
   "cell_type": "code",
   "execution_count": 13,
   "metadata": {
    "colab": {
     "base_uri": "https://localhost:8080/",
     "height": 202
    },
    "executionInfo": {
     "elapsed": 594,
     "status": "ok",
     "timestamp": 1603348960724,
     "user": {
      "displayName": "Kanishka Sanjay Jain",
      "photoUrl": "",
      "userId": "12863580920738780925"
     },
     "user_tz": 240
    },
    "id": "CHe8GW_E98rQ",
    "outputId": "df635e20-4bef-4444-82a5-18511552541a"
   },
   "outputs": [
    {
     "data": {
      "text/plain": [
       "RecipeName          0\n",
       "Ingredients        12\n",
       "PrepTimeInMins      0\n",
       "CookTimeInMins      0\n",
       "TotalTimeInMins     0\n",
       "Servings            0\n",
       "Cuisine             0\n",
       "Course              0\n",
       "Diet                0\n",
       "Instructions        0\n",
       "dtype: int64"
      ]
     },
     "execution_count": 13,
     "metadata": {
      "tags": []
     },
     "output_type": "execute_result"
    }
   ],
   "source": [
    "count_nan = len(df) - df.count()\n",
    "count_nan"
   ]
  },
  {
   "cell_type": "code",
   "execution_count": null,
   "metadata": {
    "id": "kfe_8Exg9BVS"
   },
   "outputs": [],
   "source": [
    "# df = df.drop('TranslatedRecipeName',1)"
   ]
  },
  {
   "cell_type": "code",
   "execution_count": null,
   "metadata": {
    "colab": {
     "base_uri": "https://localhost:8080/",
     "height": 34
    },
    "id": "7jtuI2ffO48x",
    "outputId": "c68305a5-f082-4263-e917-89de445ac775"
   },
   "outputs": [
    {
     "name": "stdout",
     "output_type": "stream",
     "text": [
      "Current Progress: 37.547 %\n"
     ]
    }
   ],
   "source": [
    "translated_recipename = translate_df_column(df,\"RecipeName\",0)\n"
   ]
  },
  {
   "cell_type": "code",
   "execution_count": null,
   "metadata": {
    "id": "Vn5_JWLw-XdN"
   },
   "outputs": [],
   "source": [
    "# df[\"TranslatedRecipeName\"] = translated_recipename\n",
    "# df[\"TranslatedRecipeName\"] = pd.Series(translated_recipename)"
   ]
  },
  {
   "cell_type": "code",
   "execution_count": null,
   "metadata": {
    "id": "8nkckwUbZdbt"
   },
   "outputs": [],
   "source": []
  },
  {
   "cell_type": "code",
   "execution_count": null,
   "metadata": {
    "colab": {
     "base_uri": "https://localhost:8080/",
     "height": 34
    },
    "executionInfo": {
     "elapsed": 3279206,
     "status": "ok",
     "timestamp": 1603346437137,
     "user": {
      "displayName": "Kanishka Sanjay Jain",
      "photoUrl": "",
      "userId": "12863580920738780925"
     },
     "user_tz": 240
    },
    "id": "JtjVFb8bZWsQ",
    "outputId": "eb2d8544-10dc-4692-ffb2-f2f0d3d6185e"
   },
   "outputs": [
    {
     "name": "stdout",
     "output_type": "stream",
     "text": [
      "Current Progress: 100.0 %\n"
     ]
    }
   ],
   "source": [
    "translated_ingredients = translate_df_column(df,\"Ingredients\",count=0)"
   ]
  },
  {
   "cell_type": "code",
   "execution_count": null,
   "metadata": {
    "id": "fqlAKfi2rZoz"
   },
   "outputs": [],
   "source": [
    "\n",
    "#Did this because there were missing values\n",
    "df[\"TranslatedIngredients\"] = pd.Series(translated_ingredients)"
   ]
  },
  {
   "cell_type": "code",
   "execution_count": null,
   "metadata": {
    "colab": {
     "base_uri": "https://localhost:8080/",
     "height": 1000
    },
    "executionInfo": {
     "elapsed": 611,
     "status": "ok",
     "timestamp": 1603347238601,
     "user": {
      "displayName": "Kanishka Sanjay Jain",
      "photoUrl": "",
      "userId": "12863580920738780925"
     },
     "user_tz": 240
    },
    "id": "qgf7mQ6R7pwy",
    "outputId": "823483a5-66d6-4269-e481-963ecb9e756e"
   },
   "outputs": [
    {
     "data": {
      "text/html": [
       "<div>\n",
       "<style scoped>\n",
       "    .dataframe tbody tr th:only-of-type {\n",
       "        vertical-align: middle;\n",
       "    }\n",
       "\n",
       "    .dataframe tbody tr th {\n",
       "        vertical-align: top;\n",
       "    }\n",
       "\n",
       "    .dataframe thead th {\n",
       "        text-align: right;\n",
       "    }\n",
       "</style>\n",
       "<table border=\"1\" class=\"dataframe\">\n",
       "  <thead>\n",
       "    <tr style=\"text-align: right;\">\n",
       "      <th></th>\n",
       "      <th>RecipeName</th>\n",
       "      <th>Ingredients</th>\n",
       "      <th>PrepTimeInMins</th>\n",
       "      <th>CookTimeInMins</th>\n",
       "      <th>TotalTimeInMins</th>\n",
       "      <th>Servings</th>\n",
       "      <th>Cuisine</th>\n",
       "      <th>Course</th>\n",
       "      <th>Diet</th>\n",
       "      <th>Instructions</th>\n",
       "      <th>TranslatedRecipeName</th>\n",
       "      <th>TranslatedIngredients</th>\n",
       "    </tr>\n",
       "  </thead>\n",
       "  <tbody>\n",
       "    <tr>\n",
       "      <th>0</th>\n",
       "      <td>Masala Karela Recipe</td>\n",
       "      <td>,6 Karela (Bitter Gourd/ Pavakkai) , deseeded,...</td>\n",
       "      <td>15</td>\n",
       "      <td>30</td>\n",
       "      <td>45</td>\n",
       "      <td>6</td>\n",
       "      <td>Indian</td>\n",
       "      <td>Side Dish</td>\n",
       "      <td>Diabetic Friendly</td>\n",
       "      <td>To begin making the Masala Karela Recipe,de-se...</td>\n",
       "      <td>Masala Karela Recipe</td>\n",
       "      <td>,6 Karela (Bitter Gourd/ Pavakkai) , deseeded,...</td>\n",
       "    </tr>\n",
       "    <tr>\n",
       "      <th>1</th>\n",
       "      <td>टमाटर पुलियोगरे रेसिपी - Spicy Tomato Rice (Re...</td>\n",
       "      <td>,2-1/2 कप चावल , पका ले,3 टमाटर,3 छोटा चमच्च ब...</td>\n",
       "      <td>5</td>\n",
       "      <td>10</td>\n",
       "      <td>15</td>\n",
       "      <td>3</td>\n",
       "      <td>South Indian Recipes</td>\n",
       "      <td>Main Course</td>\n",
       "      <td>Vegetarian</td>\n",
       "      <td>टमाटर पुलियोगरे बनाने के लिए सबसे पहले टमाटर क...</td>\n",
       "      <td>टमाटर पुलियोगरे रेसिपी - Spicy Tomato Rice (Re...</td>\n",
       "      <td>, 2-1 / 2 cups rice, cooked, 3 tomatoes, 3 tea...</td>\n",
       "    </tr>\n",
       "    <tr>\n",
       "      <th>2</th>\n",
       "      <td>Ragi Semiya Upma Recipe - Ragi Millet Vermicel...</td>\n",
       "      <td>,1-1/2 cups Rice Vermicelli Noodles (Thin),1 O...</td>\n",
       "      <td>20</td>\n",
       "      <td>30</td>\n",
       "      <td>50</td>\n",
       "      <td>4</td>\n",
       "      <td>South Indian Recipes</td>\n",
       "      <td>South Indian Breakfast</td>\n",
       "      <td>High Protein Vegetarian</td>\n",
       "      <td>To begin making the Ragi Vermicelli Recipe, fi...</td>\n",
       "      <td>Ragi Semiya Upma Recipe - Ragi Millet Vermicel...</td>\n",
       "      <td>,1-1/2 cups Rice Vermicelli Noodles (Thin),1 O...</td>\n",
       "    </tr>\n",
       "    <tr>\n",
       "      <th>3</th>\n",
       "      <td>Gongura Chicken Curry Recipe - Andhra Style Go...</td>\n",
       "      <td>,500 grams Chicken,2 Onion , chopped,1 Tomato ...</td>\n",
       "      <td>15</td>\n",
       "      <td>30</td>\n",
       "      <td>45</td>\n",
       "      <td>4</td>\n",
       "      <td>Andhra</td>\n",
       "      <td>Lunch</td>\n",
       "      <td>Non Vegeterian</td>\n",
       "      <td>To begin making Gongura Chicken Curry Recipe f...</td>\n",
       "      <td>Gongura Chicken Curry Recipe - Andhra Style Go...</td>\n",
       "      <td>,500 grams Chicken,2 Onion , chopped,1 Tomato ...</td>\n",
       "    </tr>\n",
       "    <tr>\n",
       "      <th>4</th>\n",
       "      <td>आंध्रा स्टाइल आलम पचड़ी रेसिपी - Adrak Chutney ...</td>\n",
       "      <td>,1 बड़ा चमच्च चना दाल,1 बड़ा चमच्च सफ़ेद उरद दाल,...</td>\n",
       "      <td>10</td>\n",
       "      <td>20</td>\n",
       "      <td>30</td>\n",
       "      <td>4</td>\n",
       "      <td>Andhra</td>\n",
       "      <td>South Indian Breakfast</td>\n",
       "      <td>Vegetarian</td>\n",
       "      <td>आंध्रा स्टाइल आलम पचड़ी बनाने के लिए सबसे पहले ...</td>\n",
       "      <td>आंध्रा स्टाइल आलम पचड़ी रेसिपी - Adrak Chutney ...</td>\n",
       "      <td>, 1 tablespoon chana dal, 1 tablespoon white u...</td>\n",
       "    </tr>\n",
       "    <tr>\n",
       "      <th>...</th>\n",
       "      <td>...</td>\n",
       "      <td>...</td>\n",
       "      <td>...</td>\n",
       "      <td>...</td>\n",
       "      <td>...</td>\n",
       "      <td>...</td>\n",
       "      <td>...</td>\n",
       "      <td>...</td>\n",
       "      <td>...</td>\n",
       "      <td>...</td>\n",
       "      <td>...</td>\n",
       "      <td>...</td>\n",
       "    </tr>\n",
       "    <tr>\n",
       "      <th>95</th>\n",
       "      <td>Chettinad Style Prawn Biryani Recipe</td>\n",
       "      <td>,200 grams Shrimps , or prawns,1-1/2 cups Basm...</td>\n",
       "      <td>30</td>\n",
       "      <td>25</td>\n",
       "      <td>55</td>\n",
       "      <td>4</td>\n",
       "      <td>Chettinad</td>\n",
       "      <td>Lunch</td>\n",
       "      <td>Non Vegeterian</td>\n",
       "      <td>To prepare Chettinad Style Prawn Biryani Recip...</td>\n",
       "      <td>Chettinad Style Prawn Biryani Recipe</td>\n",
       "      <td>,200 grams Shrimps , or prawns,1-1/2 cups Basm...</td>\n",
       "    </tr>\n",
       "    <tr>\n",
       "      <th>96</th>\n",
       "      <td>Walnut and Flax Seed Trail Mix Recipe With Fig...</td>\n",
       "      <td>,1 cup Walnuts,1 cup Dried Figs,1/3 cup Flax s...</td>\n",
       "      <td>5</td>\n",
       "      <td>20</td>\n",
       "      <td>25</td>\n",
       "      <td>4</td>\n",
       "      <td>Continental</td>\n",
       "      <td>World Breakfast</td>\n",
       "      <td>Vegetarian</td>\n",
       "      <td>To begin making the Walnut and Flax Seed Trail...</td>\n",
       "      <td>Walnut and Flax Seed Trail Mix Recipe With Fig...</td>\n",
       "      <td>,1 cup Walnuts,1 cup Dried Figs,1/3 cup Flax s...</td>\n",
       "    </tr>\n",
       "    <tr>\n",
       "      <th>97</th>\n",
       "      <td>Murgh Malaiwala Recipe - Chicken In Rich Cream...</td>\n",
       "      <td>,500 gram Chicken , cut into pieces,2 teaspoon...</td>\n",
       "      <td>150</td>\n",
       "      <td>30</td>\n",
       "      <td>180</td>\n",
       "      <td>4</td>\n",
       "      <td>North Indian Recipes</td>\n",
       "      <td>Lunch</td>\n",
       "      <td>Non Vegeterian</td>\n",
       "      <td>To begin making the Murgh Malaiwala recipe, fi...</td>\n",
       "      <td>Murgh Malaiwala Recipe - Chicken In Rich Cream...</td>\n",
       "      <td>,500 gram Chicken , cut into pieces,2 teaspoon...</td>\n",
       "    </tr>\n",
       "    <tr>\n",
       "      <th>98</th>\n",
       "      <td>Paal Kesari Recipe - South Indian Style Milk K...</td>\n",
       "      <td>,1/2 cup Sooji (Semolina/ Rava),1/2 teaspoon G...</td>\n",
       "      <td>10</td>\n",
       "      <td>25</td>\n",
       "      <td>35</td>\n",
       "      <td>4</td>\n",
       "      <td>South Indian Recipes</td>\n",
       "      <td>Dessert</td>\n",
       "      <td>Vegetarian</td>\n",
       "      <td>To begin making the Paal Kesari Recipe, prepar...</td>\n",
       "      <td>Paal Kesari Recipe - South Indian Style Milk K...</td>\n",
       "      <td>,1/2 cup Sooji (Semolina/ Rava),1/2 teaspoon G...</td>\n",
       "    </tr>\n",
       "    <tr>\n",
       "      <th>99</th>\n",
       "      <td>Spicy Lemon Chicken Kebab Recipe</td>\n",
       "      <td>,1 Chicken breasts , cut into cubes,1 Red Bell...</td>\n",
       "      <td>60</td>\n",
       "      <td>30</td>\n",
       "      <td>90</td>\n",
       "      <td>4</td>\n",
       "      <td>Indian</td>\n",
       "      <td>Appetizer</td>\n",
       "      <td>Non Vegeterian</td>\n",
       "      <td>To begin making the Spicy Lemon Chicken Kebab ...</td>\n",
       "      <td>Spicy Lemon Chicken Kebab Recipe</td>\n",
       "      <td>,1 Chicken breasts , cut into cubes,1 Red Bell...</td>\n",
       "    </tr>\n",
       "  </tbody>\n",
       "</table>\n",
       "<p>100 rows × 12 columns</p>\n",
       "</div>"
      ],
      "text/plain": [
       "                                           RecipeName  ...                              TranslatedIngredients\n",
       "0                                Masala Karela Recipe  ...  ,6 Karela (Bitter Gourd/ Pavakkai) , deseeded,...\n",
       "1   टमाटर पुलियोगरे रेसिपी - Spicy Tomato Rice (Re...  ...  , 2-1 / 2 cups rice, cooked, 3 tomatoes, 3 tea...\n",
       "2   Ragi Semiya Upma Recipe - Ragi Millet Vermicel...  ...  ,1-1/2 cups Rice Vermicelli Noodles (Thin),1 O...\n",
       "3   Gongura Chicken Curry Recipe - Andhra Style Go...  ...  ,500 grams Chicken,2 Onion , chopped,1 Tomato ...\n",
       "4   आंध्रा स्टाइल आलम पचड़ी रेसिपी - Adrak Chutney ...  ...  , 1 tablespoon chana dal, 1 tablespoon white u...\n",
       "..                                                ...  ...                                                ...\n",
       "95               Chettinad Style Prawn Biryani Recipe  ...  ,200 grams Shrimps , or prawns,1-1/2 cups Basm...\n",
       "96  Walnut and Flax Seed Trail Mix Recipe With Fig...  ...  ,1 cup Walnuts,1 cup Dried Figs,1/3 cup Flax s...\n",
       "97  Murgh Malaiwala Recipe - Chicken In Rich Cream...  ...  ,500 gram Chicken , cut into pieces,2 teaspoon...\n",
       "98  Paal Kesari Recipe - South Indian Style Milk K...  ...  ,1/2 cup Sooji (Semolina/ Rava),1/2 teaspoon G...\n",
       "99                  Spicy Lemon Chicken Kebab Recipe   ...  ,1 Chicken breasts , cut into cubes,1 Red Bell...\n",
       "\n",
       "[100 rows x 12 columns]"
      ]
     },
     "execution_count": 35,
     "metadata": {
      "tags": []
     },
     "output_type": "execute_result"
    }
   ],
   "source": []
  },
  {
   "cell_type": "code",
   "execution_count": 14,
   "metadata": {
    "colab": {
     "base_uri": "https://localhost:8080/",
     "height": 34
    },
    "executionInfo": {
     "elapsed": 3146357,
     "status": "ok",
     "timestamp": 1603352120253,
     "user": {
      "displayName": "Kanishka Sanjay Jain",
      "photoUrl": "",
      "userId": "12863580920738780925"
     },
     "user_tz": 240
    },
    "id": "zbhzu-g7ZYFW",
    "outputId": "64b197be-cde1-4e78-d9fb-98dd72e81b3b"
   },
   "outputs": [
    {
     "name": "stdout",
     "output_type": "stream",
     "text": [
      "Current Progress: 100.0 %\n"
     ]
    }
   ],
   "source": [
    "translated_instructions = translate_df_column(df,\"Instructions\",count=0)"
   ]
  },
  {
   "cell_type": "code",
   "execution_count": 16,
   "metadata": {
    "executionInfo": {
     "elapsed": 3419,
     "status": "ok",
     "timestamp": 1603352130559,
     "user": {
      "displayName": "Kanishka Sanjay Jain",
      "photoUrl": "",
      "userId": "12863580920738780925"
     },
     "user_tz": 240
    },
    "id": "1yfk6z7GC9kc"
   },
   "outputs": [],
   "source": [
    "main_df = pd.read_csv('/content/drive/My Drive/Projects/FoodDataset/MainDataRecipeIngredientsTranslated.csv')"
   ]
  },
  {
   "cell_type": "code",
   "execution_count": 17,
   "metadata": {
    "executionInfo": {
     "elapsed": 590,
     "status": "ok",
     "timestamp": 1603352146265,
     "user": {
      "displayName": "Kanishka Sanjay Jain",
      "photoUrl": "",
      "userId": "12863580920738780925"
     },
     "user_tz": 240
    },
    "id": "X3E8qu_hMc-9"
   },
   "outputs": [],
   "source": [
    "main_df[\"TranslatedInstructions\"] = pd.Series(translated_instructions)"
   ]
  },
  {
   "cell_type": "code",
   "execution_count": 19,
   "metadata": {
    "colab": {
     "base_uri": "https://localhost:8080/",
     "height": 1000
    },
    "executionInfo": {
     "elapsed": 541,
     "status": "ok",
     "timestamp": 1603352183233,
     "user": {
      "displayName": "Kanishka Sanjay Jain",
      "photoUrl": "",
      "userId": "12863580920738780925"
     },
     "user_tz": 240
    },
    "id": "mDL2rSDF7zIE",
    "outputId": "773059ab-1fe7-489c-dbec-69b081ff9601"
   },
   "outputs": [
    {
     "data": {
      "text/html": [
       "<div>\n",
       "<style scoped>\n",
       "    .dataframe tbody tr th:only-of-type {\n",
       "        vertical-align: middle;\n",
       "    }\n",
       "\n",
       "    .dataframe tbody tr th {\n",
       "        vertical-align: top;\n",
       "    }\n",
       "\n",
       "    .dataframe thead th {\n",
       "        text-align: right;\n",
       "    }\n",
       "</style>\n",
       "<table border=\"1\" class=\"dataframe\">\n",
       "  <thead>\n",
       "    <tr style=\"text-align: right;\">\n",
       "      <th></th>\n",
       "      <th>Unnamed: 0</th>\n",
       "      <th>RecipeName</th>\n",
       "      <th>Ingredients</th>\n",
       "      <th>PrepTimeInMins</th>\n",
       "      <th>CookTimeInMins</th>\n",
       "      <th>TotalTimeInMins</th>\n",
       "      <th>Servings</th>\n",
       "      <th>Cuisine</th>\n",
       "      <th>Course</th>\n",
       "      <th>Diet</th>\n",
       "      <th>Instructions</th>\n",
       "      <th>TranslatedIngredients</th>\n",
       "      <th>TranslatedRecipeName</th>\n",
       "      <th>TranslatedInstructions</th>\n",
       "    </tr>\n",
       "  </thead>\n",
       "  <tbody>\n",
       "    <tr>\n",
       "      <th>0</th>\n",
       "      <td>0</td>\n",
       "      <td>Masala Karela Recipe</td>\n",
       "      <td>,6 Karela (Bitter Gourd/ Pavakkai) , deseeded,...</td>\n",
       "      <td>15</td>\n",
       "      <td>30</td>\n",
       "      <td>45</td>\n",
       "      <td>6</td>\n",
       "      <td>Indian</td>\n",
       "      <td>Side Dish</td>\n",
       "      <td>Diabetic Friendly</td>\n",
       "      <td>To begin making the Masala Karela Recipe,de-se...</td>\n",
       "      <td>,6 Karela (Bitter Gourd/ Pavakkai) , deseeded,...</td>\n",
       "      <td>Masala Karela Recipe</td>\n",
       "      <td>To begin making the Masala Karela Recipe,de-se...</td>\n",
       "    </tr>\n",
       "    <tr>\n",
       "      <th>1</th>\n",
       "      <td>1</td>\n",
       "      <td>टमाटर पुलियोगरे रेसिपी - Spicy Tomato Rice (Re...</td>\n",
       "      <td>,2-1/2 कप चावल , पका ले,3 टमाटर,3 छोटा चमच्च ब...</td>\n",
       "      <td>5</td>\n",
       "      <td>10</td>\n",
       "      <td>15</td>\n",
       "      <td>3</td>\n",
       "      <td>South Indian Recipes</td>\n",
       "      <td>Main Course</td>\n",
       "      <td>Vegetarian</td>\n",
       "      <td>टमाटर पुलियोगरे बनाने के लिए सबसे पहले टमाटर क...</td>\n",
       "      <td>, 2-1 / 2 cups rice, cooked, 3 tomatoes, 3 tea...</td>\n",
       "      <td>Spicy Tomato Rice (Recipe)</td>\n",
       "      <td>To make tomato puliogere, first cut the tomato...</td>\n",
       "    </tr>\n",
       "    <tr>\n",
       "      <th>2</th>\n",
       "      <td>2</td>\n",
       "      <td>Ragi Semiya Upma Recipe - Ragi Millet Vermicel...</td>\n",
       "      <td>,1-1/2 cups Rice Vermicelli Noodles (Thin),1 O...</td>\n",
       "      <td>20</td>\n",
       "      <td>30</td>\n",
       "      <td>50</td>\n",
       "      <td>4</td>\n",
       "      <td>South Indian Recipes</td>\n",
       "      <td>South Indian Breakfast</td>\n",
       "      <td>High Protein Vegetarian</td>\n",
       "      <td>To begin making the Ragi Vermicelli Recipe, fi...</td>\n",
       "      <td>,1-1/2 cups Rice Vermicelli Noodles (Thin),1 O...</td>\n",
       "      <td>Ragi Semiya Upma Recipe - Ragi Millet Vermicel...</td>\n",
       "      <td>To begin making the Ragi Vermicelli Recipe, fi...</td>\n",
       "    </tr>\n",
       "    <tr>\n",
       "      <th>3</th>\n",
       "      <td>3</td>\n",
       "      <td>Gongura Chicken Curry Recipe - Andhra Style Go...</td>\n",
       "      <td>,500 grams Chicken,2 Onion , chopped,1 Tomato ...</td>\n",
       "      <td>15</td>\n",
       "      <td>30</td>\n",
       "      <td>45</td>\n",
       "      <td>4</td>\n",
       "      <td>Andhra</td>\n",
       "      <td>Lunch</td>\n",
       "      <td>Non Vegeterian</td>\n",
       "      <td>To begin making Gongura Chicken Curry Recipe f...</td>\n",
       "      <td>,500 grams Chicken,2 Onion , chopped,1 Tomato ...</td>\n",
       "      <td>Gongura Chicken Curry Recipe - Andhra Style Go...</td>\n",
       "      <td>To begin making Gongura Chicken Curry Recipe f...</td>\n",
       "    </tr>\n",
       "    <tr>\n",
       "      <th>4</th>\n",
       "      <td>4</td>\n",
       "      <td>आंध्रा स्टाइल आलम पचड़ी रेसिपी - Adrak Chutney ...</td>\n",
       "      <td>,1 बड़ा चमच्च चना दाल,1 बड़ा चमच्च सफ़ेद उरद दाल,...</td>\n",
       "      <td>10</td>\n",
       "      <td>20</td>\n",
       "      <td>30</td>\n",
       "      <td>4</td>\n",
       "      <td>Andhra</td>\n",
       "      <td>South Indian Breakfast</td>\n",
       "      <td>Vegetarian</td>\n",
       "      <td>आंध्रा स्टाइल आलम पचड़ी बनाने के लिए सबसे पहले ...</td>\n",
       "      <td>, 1 tablespoon chana dal, 1 tablespoon white u...</td>\n",
       "      <td>Andhra Style Alam Pachadi Recipe - Adrak Chutn...</td>\n",
       "      <td>To make Andhra Style Alam Pachadi, first heat ...</td>\n",
       "    </tr>\n",
       "    <tr>\n",
       "      <th>...</th>\n",
       "      <td>...</td>\n",
       "      <td>...</td>\n",
       "      <td>...</td>\n",
       "      <td>...</td>\n",
       "      <td>...</td>\n",
       "      <td>...</td>\n",
       "      <td>...</td>\n",
       "      <td>...</td>\n",
       "      <td>...</td>\n",
       "      <td>...</td>\n",
       "      <td>...</td>\n",
       "      <td>...</td>\n",
       "      <td>...</td>\n",
       "      <td>...</td>\n",
       "    </tr>\n",
       "    <tr>\n",
       "      <th>14225</th>\n",
       "      <td>14225</td>\n",
       "      <td>Kashmiri Style Kokur Yakhni Recipe-Chicken Coo...</td>\n",
       "      <td>,1 kg Chicken , medium pieces,1/2 cup Mustard ...</td>\n",
       "      <td>30</td>\n",
       "      <td>45</td>\n",
       "      <td>75</td>\n",
       "      <td>4</td>\n",
       "      <td>Kashmiri</td>\n",
       "      <td>Lunch</td>\n",
       "      <td>Non Vegeterian</td>\n",
       "      <td>To begin making the Kashmiri Kokur Yakhni reci...</td>\n",
       "      <td>NaN</td>\n",
       "      <td>Kashmiri Style Kokur Yakhni Recipe-Chicken Coo...</td>\n",
       "      <td>To start making Kerala Cheriya Ulli Sambar, in...</td>\n",
       "    </tr>\n",
       "    <tr>\n",
       "      <th>14226</th>\n",
       "      <td>14226</td>\n",
       "      <td>Shimla Mirchi Panchamrut Recipe | Konkani Caps...</td>\n",
       "      <td>,2 Green Bell Pepper (Capsicum) , diced small,...</td>\n",
       "      <td>20</td>\n",
       "      <td>20</td>\n",
       "      <td>40</td>\n",
       "      <td>4</td>\n",
       "      <td>Konkan</td>\n",
       "      <td>Main Course</td>\n",
       "      <td>Vegetarian</td>\n",
       "      <td>To begin making Shimla Mirchi Panchamrut Recip...</td>\n",
       "      <td>NaN</td>\n",
       "      <td>Shimla Mirchi Panchamrut Recipe | Konkani Caps...</td>\n",
       "      <td>To begin making Pav Bhaji Flavored Pasta Recip...</td>\n",
       "    </tr>\n",
       "    <tr>\n",
       "      <th>14227</th>\n",
       "      <td>14227</td>\n",
       "      <td>Kerala Cheriya Ulli Sambar Recipe</td>\n",
       "      <td>,1/2 cup Arhar dal (Split Toor Dal) , soaked f...</td>\n",
       "      <td>10</td>\n",
       "      <td>30</td>\n",
       "      <td>40</td>\n",
       "      <td>2</td>\n",
       "      <td>Karnataka</td>\n",
       "      <td>Lunch</td>\n",
       "      <td>High Protein Vegetarian</td>\n",
       "      <td>To start making Kerala Cheriya Ulli Sambar, in...</td>\n",
       "      <td>NaN</td>\n",
       "      <td>Kerala Cheriya Ulli Sambar Recipe</td>\n",
       "      <td>To begin making the Keerai Masiyal Recipe, we ...</td>\n",
       "    </tr>\n",
       "    <tr>\n",
       "      <th>14228</th>\n",
       "      <td>14228</td>\n",
       "      <td>Pav Bhaji Flavored Pasta Recipe-Fusion Fusilli...</td>\n",
       "      <td>,2 cup Pasta  Fusilli , cooked as per instruct...</td>\n",
       "      <td>15</td>\n",
       "      <td>20</td>\n",
       "      <td>35</td>\n",
       "      <td>2</td>\n",
       "      <td>Fusion</td>\n",
       "      <td>Main Course</td>\n",
       "      <td>Vegetarian</td>\n",
       "      <td>To begin making Pav Bhaji Flavored Pasta Recip...</td>\n",
       "      <td>NaN</td>\n",
       "      <td>Pav Bhaji Flavored Pasta Recipe-Fusion Fusilli...</td>\n",
       "      <td>NaN</td>\n",
       "    </tr>\n",
       "    <tr>\n",
       "      <th>14229</th>\n",
       "      <td>14229</td>\n",
       "      <td>Keerai Masiyal Recipe (Stir Fried Green with M...</td>\n",
       "      <td>,500 grams Greens , finely chopped (like spina...</td>\n",
       "      <td>15</td>\n",
       "      <td>20</td>\n",
       "      <td>35</td>\n",
       "      <td>4</td>\n",
       "      <td>South Indian Recipes</td>\n",
       "      <td>Side Dish</td>\n",
       "      <td>High Protein Vegetarian</td>\n",
       "      <td>To begin making the Keerai Masiyal Recipe, we ...</td>\n",
       "      <td>NaN</td>\n",
       "      <td>Keerai Masiyal Recipe (Stir Fried Green with M...</td>\n",
       "      <td>NaN</td>\n",
       "    </tr>\n",
       "  </tbody>\n",
       "</table>\n",
       "<p>14230 rows × 14 columns</p>\n",
       "</div>"
      ],
      "text/plain": [
       "       Unnamed: 0  ...                             TranslatedInstructions\n",
       "0               0  ...  To begin making the Masala Karela Recipe,de-se...\n",
       "1               1  ...  To make tomato puliogere, first cut the tomato...\n",
       "2               2  ...  To begin making the Ragi Vermicelli Recipe, fi...\n",
       "3               3  ...  To begin making Gongura Chicken Curry Recipe f...\n",
       "4               4  ...  To make Andhra Style Alam Pachadi, first heat ...\n",
       "...           ...  ...                                                ...\n",
       "14225       14225  ...  To start making Kerala Cheriya Ulli Sambar, in...\n",
       "14226       14226  ...  To begin making Pav Bhaji Flavored Pasta Recip...\n",
       "14227       14227  ...  To begin making the Keerai Masiyal Recipe, we ...\n",
       "14228       14228  ...                                                NaN\n",
       "14229       14229  ...                                                NaN\n",
       "\n",
       "[14230 rows x 14 columns]"
      ]
     },
     "execution_count": 19,
     "metadata": {
      "tags": []
     },
     "output_type": "execute_result"
    }
   ],
   "source": [
    "main_df"
   ]
  },
  {
   "cell_type": "code",
   "execution_count": 19,
   "metadata": {
    "executionInfo": {
     "elapsed": 507,
     "status": "ok",
     "timestamp": 1603352184282,
     "user": {
      "displayName": "Kanishka Sanjay Jain",
      "photoUrl": "",
      "userId": "12863580920738780925"
     },
     "user_tz": 240
    },
    "id": "gOL008vfPL8-"
   },
   "outputs": [],
   "source": []
  },
  {
   "cell_type": "code",
   "execution_count": null,
   "metadata": {
    "id": "Ze4e8HXXPMOe"
   },
   "outputs": [],
   "source": []
  },
  {
   "cell_type": "code",
   "execution_count": null,
   "metadata": {
    "id": "kWE05xatPnOp"
   },
   "outputs": [],
   "source": [
    "# df"
   ]
  },
  {
   "cell_type": "code",
   "execution_count": 22,
   "metadata": {
    "colab": {
     "base_uri": "https://localhost:8080/",
     "height": 252
    },
    "executionInfo": {
     "elapsed": 541,
     "status": "ok",
     "timestamp": 1603352216228,
     "user": {
      "displayName": "Kanishka Sanjay Jain",
      "photoUrl": "",
      "userId": "12863580920738780925"
     },
     "user_tz": 240
    },
    "id": "6Fh11yjbO4EP",
    "outputId": "ba021ec8-2621-47c9-caa6-3b34814e3978"
   },
   "outputs": [
    {
     "data": {
      "text/plain": [
       "['Unnamed: 0',\n",
       " 'RecipeName',\n",
       " 'Ingredients',\n",
       " 'PrepTimeInMins',\n",
       " 'CookTimeInMins',\n",
       " 'TotalTimeInMins',\n",
       " 'Servings',\n",
       " 'Cuisine',\n",
       " 'Course',\n",
       " 'Diet',\n",
       " 'Instructions',\n",
       " 'TranslatedIngredients',\n",
       " 'TranslatedRecipeName',\n",
       " 'TranslatedInstructions']"
      ]
     },
     "execution_count": 22,
     "metadata": {
      "tags": []
     },
     "output_type": "execute_result"
    }
   ],
   "source": []
  },
  {
   "cell_type": "code",
   "execution_count": 26,
   "metadata": {
    "executionInfo": {
     "elapsed": 544,
     "status": "ok",
     "timestamp": 1603352282522,
     "user": {
      "displayName": "Kanishka Sanjay Jain",
      "photoUrl": "",
      "userId": "12863580920738780925"
     },
     "user_tz": 240
    },
    "id": "3AQsYKCjPUA7"
   },
   "outputs": [],
   "source": [
    "# main_df = main_df.drop(['Unnamed: 0'],axis=1)"
   ]
  },
  {
   "cell_type": "code",
   "execution_count": 27,
   "metadata": {
    "colab": {
     "base_uri": "https://localhost:8080/",
     "height": 235
    },
    "executionInfo": {
     "elapsed": 614,
     "status": "ok",
     "timestamp": 1603352284527,
     "user": {
      "displayName": "Kanishka Sanjay Jain",
      "photoUrl": "",
      "userId": "12863580920738780925"
     },
     "user_tz": 240
    },
    "id": "ZgJ0iUtlPjIK",
    "outputId": "8d5c389f-7c37-4c79-cf41-1bea37020559"
   },
   "outputs": [
    {
     "data": {
      "text/plain": [
       "['RecipeName',\n",
       " 'Ingredients',\n",
       " 'PrepTimeInMins',\n",
       " 'CookTimeInMins',\n",
       " 'TotalTimeInMins',\n",
       " 'Servings',\n",
       " 'Cuisine',\n",
       " 'Course',\n",
       " 'Diet',\n",
       " 'Instructions',\n",
       " 'TranslatedIngredients',\n",
       " 'TranslatedRecipeName',\n",
       " 'TranslatedInstructions']"
      ]
     },
     "execution_count": 27,
     "metadata": {
      "tags": []
     },
     "output_type": "execute_result"
    }
   ],
   "source": [
    "cols = main_df.columns.tolist()\n",
    "cols"
   ]
  },
  {
   "cell_type": "code",
   "execution_count": null,
   "metadata": {
    "id": "jJ6bPgJVPX8G"
   },
   "outputs": [],
   "source": []
  },
  {
   "cell_type": "code",
   "execution_count": 28,
   "metadata": {
    "executionInfo": {
     "elapsed": 618,
     "status": "ok",
     "timestamp": 1603352316991,
     "user": {
      "displayName": "Kanishka Sanjay Jain",
      "photoUrl": "",
      "userId": "12863580920738780925"
     },
     "user_tz": 240
    },
    "id": "aJxLg_XGQUR0"
   },
   "outputs": [],
   "source": [
    "neworder = ['RecipeName',\n",
    "            'TranslatedRecipeName',\n",
    " 'Ingredients',\n",
    "  'TranslatedIngredients',\n",
    " 'PrepTimeInMins',\n",
    " 'CookTimeInMins',\n",
    " 'TotalTimeInMins',\n",
    " 'Servings',\n",
    " 'Cuisine',\n",
    " 'Course',\n",
    " 'Diet',\n",
    " 'Instructions',\n",
    " 'TranslatedInstructions']"
   ]
  },
  {
   "cell_type": "code",
   "execution_count": 29,
   "metadata": {
    "executionInfo": {
     "elapsed": 501,
     "status": "ok",
     "timestamp": 1603352327499,
     "user": {
      "displayName": "Kanishka Sanjay Jain",
      "photoUrl": "",
      "userId": "12863580920738780925"
     },
     "user_tz": 240
    },
    "id": "QGFKAYk6PsmV"
   },
   "outputs": [],
   "source": [
    "main_df = main_df[neworder]"
   ]
  },
  {
   "cell_type": "code",
   "execution_count": null,
   "metadata": {
    "id": "ULHZFld9O4Gg"
   },
   "outputs": [],
   "source": []
  },
  {
   "cell_type": "code",
   "execution_count": 31,
   "metadata": {
    "colab": {
     "base_uri": "https://localhost:8080/",
     "height": 1000
    },
    "executionInfo": {
     "elapsed": 617,
     "status": "ok",
     "timestamp": 1603352377238,
     "user": {
      "displayName": "Kanishka Sanjay Jain",
      "photoUrl": "",
      "userId": "12863580920738780925"
     },
     "user_tz": 240
    },
    "id": "NNUSyTDlQmYy",
    "outputId": "c415c1b7-e8ed-4b9c-e840-036b7835b10a"
   },
   "outputs": [
    {
     "data": {
      "text/html": [
       "<div>\n",
       "<style scoped>\n",
       "    .dataframe tbody tr th:only-of-type {\n",
       "        vertical-align: middle;\n",
       "    }\n",
       "\n",
       "    .dataframe tbody tr th {\n",
       "        vertical-align: top;\n",
       "    }\n",
       "\n",
       "    .dataframe thead th {\n",
       "        text-align: right;\n",
       "    }\n",
       "</style>\n",
       "<table border=\"1\" class=\"dataframe\">\n",
       "  <thead>\n",
       "    <tr style=\"text-align: right;\">\n",
       "      <th></th>\n",
       "      <th>RecipeName</th>\n",
       "      <th>TranslatedRecipeName</th>\n",
       "      <th>Ingredients</th>\n",
       "      <th>TranslatedIngredients</th>\n",
       "      <th>PrepTimeInMins</th>\n",
       "      <th>CookTimeInMins</th>\n",
       "      <th>TotalTimeInMins</th>\n",
       "      <th>Servings</th>\n",
       "      <th>Cuisine</th>\n",
       "      <th>Course</th>\n",
       "      <th>Diet</th>\n",
       "      <th>Instructions</th>\n",
       "      <th>TranslatedInstructions</th>\n",
       "    </tr>\n",
       "  </thead>\n",
       "  <tbody>\n",
       "    <tr>\n",
       "      <th>0</th>\n",
       "      <td>Masala Karela Recipe</td>\n",
       "      <td>Masala Karela Recipe</td>\n",
       "      <td>,6 Karela (Bitter Gourd/ Pavakkai) , deseeded,...</td>\n",
       "      <td>,6 Karela (Bitter Gourd/ Pavakkai) , deseeded,...</td>\n",
       "      <td>15</td>\n",
       "      <td>30</td>\n",
       "      <td>45</td>\n",
       "      <td>6</td>\n",
       "      <td>Indian</td>\n",
       "      <td>Side Dish</td>\n",
       "      <td>Diabetic Friendly</td>\n",
       "      <td>To begin making the Masala Karela Recipe,de-se...</td>\n",
       "      <td>To begin making the Masala Karela Recipe,de-se...</td>\n",
       "    </tr>\n",
       "    <tr>\n",
       "      <th>1</th>\n",
       "      <td>टमाटर पुलियोगरे रेसिपी - Spicy Tomato Rice (Re...</td>\n",
       "      <td>Spicy Tomato Rice (Recipe)</td>\n",
       "      <td>,2-1/2 कप चावल , पका ले,3 टमाटर,3 छोटा चमच्च ब...</td>\n",
       "      <td>, 2-1 / 2 cups rice, cooked, 3 tomatoes, 3 tea...</td>\n",
       "      <td>5</td>\n",
       "      <td>10</td>\n",
       "      <td>15</td>\n",
       "      <td>3</td>\n",
       "      <td>South Indian Recipes</td>\n",
       "      <td>Main Course</td>\n",
       "      <td>Vegetarian</td>\n",
       "      <td>टमाटर पुलियोगरे बनाने के लिए सबसे पहले टमाटर क...</td>\n",
       "      <td>To make tomato puliogere, first cut the tomato...</td>\n",
       "    </tr>\n",
       "    <tr>\n",
       "      <th>2</th>\n",
       "      <td>Ragi Semiya Upma Recipe - Ragi Millet Vermicel...</td>\n",
       "      <td>Ragi Semiya Upma Recipe - Ragi Millet Vermicel...</td>\n",
       "      <td>,1-1/2 cups Rice Vermicelli Noodles (Thin),1 O...</td>\n",
       "      <td>,1-1/2 cups Rice Vermicelli Noodles (Thin),1 O...</td>\n",
       "      <td>20</td>\n",
       "      <td>30</td>\n",
       "      <td>50</td>\n",
       "      <td>4</td>\n",
       "      <td>South Indian Recipes</td>\n",
       "      <td>South Indian Breakfast</td>\n",
       "      <td>High Protein Vegetarian</td>\n",
       "      <td>To begin making the Ragi Vermicelli Recipe, fi...</td>\n",
       "      <td>To begin making the Ragi Vermicelli Recipe, fi...</td>\n",
       "    </tr>\n",
       "    <tr>\n",
       "      <th>3</th>\n",
       "      <td>Gongura Chicken Curry Recipe - Andhra Style Go...</td>\n",
       "      <td>Gongura Chicken Curry Recipe - Andhra Style Go...</td>\n",
       "      <td>,500 grams Chicken,2 Onion , chopped,1 Tomato ...</td>\n",
       "      <td>,500 grams Chicken,2 Onion , chopped,1 Tomato ...</td>\n",
       "      <td>15</td>\n",
       "      <td>30</td>\n",
       "      <td>45</td>\n",
       "      <td>4</td>\n",
       "      <td>Andhra</td>\n",
       "      <td>Lunch</td>\n",
       "      <td>Non Vegeterian</td>\n",
       "      <td>To begin making Gongura Chicken Curry Recipe f...</td>\n",
       "      <td>To begin making Gongura Chicken Curry Recipe f...</td>\n",
       "    </tr>\n",
       "    <tr>\n",
       "      <th>4</th>\n",
       "      <td>आंध्रा स्टाइल आलम पचड़ी रेसिपी - Adrak Chutney ...</td>\n",
       "      <td>Andhra Style Alam Pachadi Recipe - Adrak Chutn...</td>\n",
       "      <td>,1 बड़ा चमच्च चना दाल,1 बड़ा चमच्च सफ़ेद उरद दाल,...</td>\n",
       "      <td>, 1 tablespoon chana dal, 1 tablespoon white u...</td>\n",
       "      <td>10</td>\n",
       "      <td>20</td>\n",
       "      <td>30</td>\n",
       "      <td>4</td>\n",
       "      <td>Andhra</td>\n",
       "      <td>South Indian Breakfast</td>\n",
       "      <td>Vegetarian</td>\n",
       "      <td>आंध्रा स्टाइल आलम पचड़ी बनाने के लिए सबसे पहले ...</td>\n",
       "      <td>To make Andhra Style Alam Pachadi, first heat ...</td>\n",
       "    </tr>\n",
       "    <tr>\n",
       "      <th>...</th>\n",
       "      <td>...</td>\n",
       "      <td>...</td>\n",
       "      <td>...</td>\n",
       "      <td>...</td>\n",
       "      <td>...</td>\n",
       "      <td>...</td>\n",
       "      <td>...</td>\n",
       "      <td>...</td>\n",
       "      <td>...</td>\n",
       "      <td>...</td>\n",
       "      <td>...</td>\n",
       "      <td>...</td>\n",
       "      <td>...</td>\n",
       "    </tr>\n",
       "    <tr>\n",
       "      <th>14225</th>\n",
       "      <td>Kashmiri Style Kokur Yakhni Recipe-Chicken Coo...</td>\n",
       "      <td>Kashmiri Style Kokur Yakhni Recipe-Chicken Coo...</td>\n",
       "      <td>,1 kg Chicken , medium pieces,1/2 cup Mustard ...</td>\n",
       "      <td>NaN</td>\n",
       "      <td>30</td>\n",
       "      <td>45</td>\n",
       "      <td>75</td>\n",
       "      <td>4</td>\n",
       "      <td>Kashmiri</td>\n",
       "      <td>Lunch</td>\n",
       "      <td>Non Vegeterian</td>\n",
       "      <td>To begin making the Kashmiri Kokur Yakhni reci...</td>\n",
       "      <td>To start making Kerala Cheriya Ulli Sambar, in...</td>\n",
       "    </tr>\n",
       "    <tr>\n",
       "      <th>14226</th>\n",
       "      <td>Shimla Mirchi Panchamrut Recipe | Konkani Caps...</td>\n",
       "      <td>Shimla Mirchi Panchamrut Recipe | Konkani Caps...</td>\n",
       "      <td>,2 Green Bell Pepper (Capsicum) , diced small,...</td>\n",
       "      <td>NaN</td>\n",
       "      <td>20</td>\n",
       "      <td>20</td>\n",
       "      <td>40</td>\n",
       "      <td>4</td>\n",
       "      <td>Konkan</td>\n",
       "      <td>Main Course</td>\n",
       "      <td>Vegetarian</td>\n",
       "      <td>To begin making Shimla Mirchi Panchamrut Recip...</td>\n",
       "      <td>To begin making Pav Bhaji Flavored Pasta Recip...</td>\n",
       "    </tr>\n",
       "    <tr>\n",
       "      <th>14227</th>\n",
       "      <td>Kerala Cheriya Ulli Sambar Recipe</td>\n",
       "      <td>Kerala Cheriya Ulli Sambar Recipe</td>\n",
       "      <td>,1/2 cup Arhar dal (Split Toor Dal) , soaked f...</td>\n",
       "      <td>NaN</td>\n",
       "      <td>10</td>\n",
       "      <td>30</td>\n",
       "      <td>40</td>\n",
       "      <td>2</td>\n",
       "      <td>Karnataka</td>\n",
       "      <td>Lunch</td>\n",
       "      <td>High Protein Vegetarian</td>\n",
       "      <td>To start making Kerala Cheriya Ulli Sambar, in...</td>\n",
       "      <td>To begin making the Keerai Masiyal Recipe, we ...</td>\n",
       "    </tr>\n",
       "    <tr>\n",
       "      <th>14228</th>\n",
       "      <td>Pav Bhaji Flavored Pasta Recipe-Fusion Fusilli...</td>\n",
       "      <td>Pav Bhaji Flavored Pasta Recipe-Fusion Fusilli...</td>\n",
       "      <td>,2 cup Pasta  Fusilli , cooked as per instruct...</td>\n",
       "      <td>NaN</td>\n",
       "      <td>15</td>\n",
       "      <td>20</td>\n",
       "      <td>35</td>\n",
       "      <td>2</td>\n",
       "      <td>Fusion</td>\n",
       "      <td>Main Course</td>\n",
       "      <td>Vegetarian</td>\n",
       "      <td>To begin making Pav Bhaji Flavored Pasta Recip...</td>\n",
       "      <td>NaN</td>\n",
       "    </tr>\n",
       "    <tr>\n",
       "      <th>14229</th>\n",
       "      <td>Keerai Masiyal Recipe (Stir Fried Green with M...</td>\n",
       "      <td>Keerai Masiyal Recipe (Stir Fried Green with M...</td>\n",
       "      <td>,500 grams Greens , finely chopped (like spina...</td>\n",
       "      <td>NaN</td>\n",
       "      <td>15</td>\n",
       "      <td>20</td>\n",
       "      <td>35</td>\n",
       "      <td>4</td>\n",
       "      <td>South Indian Recipes</td>\n",
       "      <td>Side Dish</td>\n",
       "      <td>High Protein Vegetarian</td>\n",
       "      <td>To begin making the Keerai Masiyal Recipe, we ...</td>\n",
       "      <td>NaN</td>\n",
       "    </tr>\n",
       "  </tbody>\n",
       "</table>\n",
       "<p>14230 rows × 13 columns</p>\n",
       "</div>"
      ],
      "text/plain": [
       "                                              RecipeName  ...                             TranslatedInstructions\n",
       "0                                   Masala Karela Recipe  ...  To begin making the Masala Karela Recipe,de-se...\n",
       "1      टमाटर पुलियोगरे रेसिपी - Spicy Tomato Rice (Re...  ...  To make tomato puliogere, first cut the tomato...\n",
       "2      Ragi Semiya Upma Recipe - Ragi Millet Vermicel...  ...  To begin making the Ragi Vermicelli Recipe, fi...\n",
       "3      Gongura Chicken Curry Recipe - Andhra Style Go...  ...  To begin making Gongura Chicken Curry Recipe f...\n",
       "4      आंध्रा स्टाइल आलम पचड़ी रेसिपी - Adrak Chutney ...  ...  To make Andhra Style Alam Pachadi, first heat ...\n",
       "...                                                  ...  ...                                                ...\n",
       "14225  Kashmiri Style Kokur Yakhni Recipe-Chicken Coo...  ...  To start making Kerala Cheriya Ulli Sambar, in...\n",
       "14226  Shimla Mirchi Panchamrut Recipe | Konkani Caps...  ...  To begin making Pav Bhaji Flavored Pasta Recip...\n",
       "14227                  Kerala Cheriya Ulli Sambar Recipe  ...  To begin making the Keerai Masiyal Recipe, we ...\n",
       "14228  Pav Bhaji Flavored Pasta Recipe-Fusion Fusilli...  ...                                                NaN\n",
       "14229  Keerai Masiyal Recipe (Stir Fried Green with M...  ...                                                NaN\n",
       "\n",
       "[14230 rows x 13 columns]"
      ]
     },
     "execution_count": 31,
     "metadata": {
      "tags": []
     },
     "output_type": "execute_result"
    }
   ],
   "source": [
    "main_df"
   ]
  },
  {
   "cell_type": "code",
   "execution_count": 35,
   "metadata": {
    "executionInfo": {
     "elapsed": 1792,
     "status": "ok",
     "timestamp": 1603352433517,
     "user": {
      "displayName": "Kanishka Sanjay Jain",
      "photoUrl": "",
      "userId": "12863580920738780925"
     },
     "user_tz": 240
    },
    "id": "idikXl7VP7Ts"
   },
   "outputs": [],
   "source": [
    "main_df.to_csv('/content/drive/My Drive/Projects/FoodDataset/IndianFoodDataset.csv')"
   ]
  },
  {
   "cell_type": "code",
   "execution_count": null,
   "metadata": {
    "id": "JemP93PGP7Ye"
   },
   "outputs": [],
   "source": []
  },
  {
   "cell_type": "code",
   "execution_count": 32,
   "metadata": {
    "executionInfo": {
     "elapsed": 555,
     "status": "ok",
     "timestamp": 1603352384976,
     "user": {
      "displayName": "Kanishka Sanjay Jain",
      "photoUrl": "",
      "userId": "12863580920738780925"
     },
     "user_tz": 240
    },
    "id": "7Oqu1mz_MukD"
   },
   "outputs": [],
   "source": [
    "# translated_recipename = []\n",
    "# for recipename in df['RecipeName']:\n",
    "#   recipename = translator.translate(recipename)\n",
    "#   translated_recipename.append(recipename.text)\n",
    "#   print(recipename.text)"
   ]
  },
  {
   "cell_type": "code",
   "execution_count": 33,
   "metadata": {
    "executionInfo": {
     "elapsed": 758,
     "status": "ok",
     "timestamp": 1603352385349,
     "user": {
      "displayName": "Kanishka Sanjay Jain",
      "photoUrl": "",
      "userId": "12863580920738780925"
     },
     "user_tz": 240
    },
    "id": "IZZLJfaTM1U9"
   },
   "outputs": [],
   "source": [
    "# df['TranslatedRecipeName'] = translated_recipename"
   ]
  },
  {
   "cell_type": "code",
   "execution_count": 34,
   "metadata": {
    "executionInfo": {
     "elapsed": 524,
     "status": "ok",
     "timestamp": 1603352388398,
     "user": {
      "displayName": "Kanishka Sanjay Jain",
      "photoUrl": "",
      "userId": "12863580920738780925"
     },
     "user_tz": 240
    },
    "id": "tcv1P5btM2SF"
   },
   "outputs": [],
   "source": [
    "# df"
   ]
  },
  {
   "cell_type": "code",
   "execution_count": null,
   "metadata": {
    "id": "PqWdNWnCOIig"
   },
   "outputs": [],
   "source": []
  }
 ],
 "metadata": {
  "colab": {
   "authorship_tag": "ABX9TyNVQmq1YYX4o5/pAkb5vHsb",
   "collapsed_sections": [],
   "mount_file_id": "1PA8uhyWHuD_lNs61AQ21ys8l0n3nMrQs",
   "name": "Copy of TranslationOfHindi.ipynb",
   "provenance": []
  },
  "kernelspec": {
   "display_name": "Python 3",
   "language": "python",
   "name": "python3"
  },
  "language_info": {
   "codemirror_mode": {
    "name": "ipython",
    "version": 3
   },
   "file_extension": ".py",
   "mimetype": "text/x-python",
   "name": "python",
   "nbconvert_exporter": "python",
   "pygments_lexer": "ipython3",
   "version": "3.7.9"
  }
 },
 "nbformat": 4,
 "nbformat_minor": 1
}
